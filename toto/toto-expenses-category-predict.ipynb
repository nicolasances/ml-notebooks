{
 "cells": [
  {
   "cell_type": "markdown",
   "id": "3abc0a64-1c52-443b-92df-31dab25aead8",
   "metadata": {},
   "source": [
    "# Toto Expenses: Category Predictor"
   ]
  },
  {
   "cell_type": "code",
   "execution_count": 9,
   "id": "9505dab5-e185-4b93-bc40-6f54edd490ba",
   "metadata": {
    "tags": []
   },
   "outputs": [],
   "source": [
    "import sys"
   ]
  },
  {
   "cell_type": "code",
   "execution_count": 77,
   "id": "c837a70e-1762-411e-a8a2-7824fdb79220",
   "metadata": {
    "tags": []
   },
   "outputs": [
    {
     "name": "stderr",
     "output_type": "stream",
     "text": [
      "[nltk_data] Downloading package stopwords to\n",
      "[nltk_data]     /home/ec2-user/nltk_data...\n",
      "[nltk_data]   Package stopwords is already up-to-date!\n",
      "[nltk_data] Downloading package punkt to /home/ec2-user/nltk_data...\n",
      "[nltk_data]   Package punkt is already up-to-date!\n"
     ]
    }
   ],
   "source": [
    "import json\n",
    "import pandas as pd\n",
    "import seaborn as sns\n",
    "import matplotlib.pyplot as plt\n",
    "import nltk\n",
    "from nltk.stem import PorterStemmer\n",
    "from nltk.corpus import stopwords\n",
    "import string\n",
    "from sklearn.feature_extraction.text import TfidfVectorizer\n",
    "from sklearn.naive_bayes import MultinomialNB\n",
    "\n",
    "nltk.download('stopwords')\n",
    "nltk.download('punkt')\n",
    "\n",
    "%matplotlib inline"
   ]
  },
  {
   "cell_type": "markdown",
   "id": "0f5ebf1d-5954-435b-8b74-3e11bdd63076",
   "metadata": {},
   "source": [
    "---\n",
    "## Data Analysisstopwords"
   ]
  },
  {
   "cell_type": "code",
   "execution_count": 14,
   "id": "c9ceb714-397c-4699-be93-fb41b02ad87f",
   "metadata": {
    "tags": []
   },
   "outputs": [],
   "source": [
    "with open(\"ml-notebooks/toto/expenses.json\") as f: \n",
    "    data = json.load(f)"
   ]
  },
  {
   "cell_type": "code",
   "execution_count": 15,
   "id": "c01cd685-22d0-41e5-8bad-12be19f21b2a",
   "metadata": {
    "tags": []
   },
   "outputs": [],
   "source": [
    "df = pd.json_normalize(data[\"expenses\"])"
   ]
  },
  {
   "cell_type": "code",
   "execution_count": 16,
   "id": "c65f1158-303f-40a4-bbda-6d45e87219ca",
   "metadata": {
    "tags": []
   },
   "outputs": [
    {
     "data": {
      "text/html": [
       "<div>\n",
       "<style scoped>\n",
       "    .dataframe tbody tr th:only-of-type {\n",
       "        vertical-align: middle;\n",
       "    }\n",
       "\n",
       "    .dataframe tbody tr th {\n",
       "        vertical-align: top;\n",
       "    }\n",
       "\n",
       "    .dataframe thead th {\n",
       "        text-align: right;\n",
       "    }\n",
       "</style>\n",
       "<table border=\"1\" class=\"dataframe\">\n",
       "  <thead>\n",
       "    <tr style=\"text-align: right;\">\n",
       "      <th></th>\n",
       "      <th>id</th>\n",
       "      <th>amount</th>\n",
       "      <th>category</th>\n",
       "      <th>date</th>\n",
       "      <th>description</th>\n",
       "      <th>yearMonth</th>\n",
       "      <th>consolidated</th>\n",
       "      <th>cardId</th>\n",
       "      <th>cardMonth</th>\n",
       "      <th>cardYear</th>\n",
       "      <th>currency</th>\n",
       "      <th>amountInEuro</th>\n",
       "      <th>additionalData</th>\n",
       "      <th>user</th>\n",
       "      <th>monthly</th>\n",
       "      <th>additionalData.supermarketListId</th>\n",
       "      <th>additionalData.source</th>\n",
       "      <th>additionalData.monthId</th>\n",
       "      <th>weekendId</th>\n",
       "    </tr>\n",
       "  </thead>\n",
       "  <tbody>\n",
       "    <tr>\n",
       "      <th>0</th>\n",
       "      <td>64cf2dcde8c58d629bc89789</td>\n",
       "      <td>208.59</td>\n",
       "      <td>VIAGGI</td>\n",
       "      <td>20230827</td>\n",
       "      <td>Restaurant</td>\n",
       "      <td>202306</td>\n",
       "      <td>True</td>\n",
       "      <td>None</td>\n",
       "      <td>None</td>\n",
       "      <td>None</td>\n",
       "      <td>DKK</td>\n",
       "      <td>27.1167</td>\n",
       "      <td>NaN</td>\n",
       "      <td>nicolas.matteazzi@gmail.com</td>\n",
       "      <td>None</td>\n",
       "      <td>NaN</td>\n",
       "      <td>NaN</td>\n",
       "      <td>NaN</td>\n",
       "      <td>NaN</td>\n",
       "    </tr>\n",
       "    <tr>\n",
       "      <th>1</th>\n",
       "      <td>64eae160abac381fca5d45bf</td>\n",
       "      <td>49.00</td>\n",
       "      <td>SVAGO</td>\n",
       "      <td>20230827</td>\n",
       "      <td>Movie rental</td>\n",
       "      <td>202308</td>\n",
       "      <td>False</td>\n",
       "      <td>None</td>\n",
       "      <td>None</td>\n",
       "      <td>None</td>\n",
       "      <td>DKK</td>\n",
       "      <td>6.3700</td>\n",
       "      <td>NaN</td>\n",
       "      <td>nicolas.matteazzi@gmail.com</td>\n",
       "      <td>None</td>\n",
       "      <td>NaN</td>\n",
       "      <td>NaN</td>\n",
       "      <td>NaN</td>\n",
       "      <td>NaN</td>\n",
       "    </tr>\n",
       "  </tbody>\n",
       "</table>\n",
       "</div>"
      ],
      "text/plain": [
       "                         id  amount category      date   description  \\\n",
       "0  64cf2dcde8c58d629bc89789  208.59   VIAGGI  20230827    Restaurant   \n",
       "1  64eae160abac381fca5d45bf   49.00    SVAGO  20230827  Movie rental   \n",
       "\n",
       "   yearMonth consolidated cardId cardMonth cardYear currency  amountInEuro  \\\n",
       "0     202306         True   None      None     None      DKK       27.1167   \n",
       "1     202308        False   None      None     None      DKK        6.3700   \n",
       "\n",
       "   additionalData                         user monthly  \\\n",
       "0             NaN  nicolas.matteazzi@gmail.com    None   \n",
       "1             NaN  nicolas.matteazzi@gmail.com    None   \n",
       "\n",
       "  additionalData.supermarketListId additionalData.source  \\\n",
       "0                              NaN                   NaN   \n",
       "1                              NaN                   NaN   \n",
       "\n",
       "  additionalData.monthId weekendId  \n",
       "0                    NaN       NaN  \n",
       "1                    NaN       NaN  "
      ]
     },
     "execution_count": 16,
     "metadata": {},
     "output_type": "execute_result"
    }
   ],
   "source": [
    "df.head(2)"
   ]
  },
  {
   "cell_type": "code",
   "execution_count": 17,
   "id": "3994b453-bfc4-498c-8b00-a5f897382b68",
   "metadata": {
    "tags": []
   },
   "outputs": [
    {
     "data": {
      "text/html": [
       "<div>\n",
       "<style scoped>\n",
       "    .dataframe tbody tr th:only-of-type {\n",
       "        vertical-align: middle;\n",
       "    }\n",
       "\n",
       "    .dataframe tbody tr th {\n",
       "        vertical-align: top;\n",
       "    }\n",
       "\n",
       "    .dataframe thead th {\n",
       "        text-align: right;\n",
       "    }\n",
       "</style>\n",
       "<table border=\"1\" class=\"dataframe\">\n",
       "  <thead>\n",
       "    <tr style=\"text-align: right;\">\n",
       "      <th></th>\n",
       "      <th>description</th>\n",
       "      <th>category</th>\n",
       "    </tr>\n",
       "  </thead>\n",
       "  <tbody>\n",
       "    <tr>\n",
       "      <th>0</th>\n",
       "      <td>Restaurant</td>\n",
       "      <td>VIAGGI</td>\n",
       "    </tr>\n",
       "    <tr>\n",
       "      <th>1</th>\n",
       "      <td>Movie rental</td>\n",
       "      <td>SVAGO</td>\n",
       "    </tr>\n",
       "    <tr>\n",
       "      <th>2</th>\n",
       "      <td>Supermarket</td>\n",
       "      <td>SUPERMERCATO</td>\n",
       "    </tr>\n",
       "    <tr>\n",
       "      <th>3</th>\n",
       "      <td>Supermarket</td>\n",
       "      <td>SUPERMERCATO</td>\n",
       "    </tr>\n",
       "    <tr>\n",
       "      <th>4</th>\n",
       "      <td>Supermarket</td>\n",
       "      <td>SUPERMERCATO</td>\n",
       "    </tr>\n",
       "    <tr>\n",
       "      <th>5</th>\n",
       "      <td>Mc donald</td>\n",
       "      <td>FOOD</td>\n",
       "    </tr>\n",
       "    <tr>\n",
       "      <th>6</th>\n",
       "      <td>B-SKAT 08.2023</td>\n",
       "      <td>VARIE</td>\n",
       "    </tr>\n",
       "    <tr>\n",
       "      <th>7</th>\n",
       "      <td>Car tax</td>\n",
       "      <td>AUTO</td>\n",
       "    </tr>\n",
       "    <tr>\n",
       "      <th>8</th>\n",
       "      <td>Benzina</td>\n",
       "      <td>AUTO</td>\n",
       "    </tr>\n",
       "    <tr>\n",
       "      <th>9</th>\n",
       "      <td>Mc donald</td>\n",
       "      <td>FOOD</td>\n",
       "    </tr>\n",
       "    <tr>\n",
       "      <th>10</th>\n",
       "      <td>Supermarket</td>\n",
       "      <td>SUPERMERCATO</td>\n",
       "    </tr>\n",
       "    <tr>\n",
       "      <th>11</th>\n",
       "      <td>Supermarket</td>\n",
       "      <td>SUPERMERCATO</td>\n",
       "    </tr>\n",
       "    <tr>\n",
       "      <th>12</th>\n",
       "      <td>Haircut</td>\n",
       "      <td>VARIE</td>\n",
       "    </tr>\n",
       "    <tr>\n",
       "      <th>13</th>\n",
       "      <td>Parking</td>\n",
       "      <td>AUTO</td>\n",
       "    </tr>\n",
       "    <tr>\n",
       "      <th>14</th>\n",
       "      <td>Supermarket</td>\n",
       "      <td>SUPERMERCATO</td>\n",
       "    </tr>\n",
       "    <tr>\n",
       "      <th>15</th>\n",
       "      <td>Vuggestue 08.2023</td>\n",
       "      <td>VARIE</td>\n",
       "    </tr>\n",
       "    <tr>\n",
       "      <th>16</th>\n",
       "      <td>Supermarket</td>\n",
       "      <td>SUPERMERCATO</td>\n",
       "    </tr>\n",
       "    <tr>\n",
       "      <th>17</th>\n",
       "      <td>Esselunga</td>\n",
       "      <td>VIAGGI</td>\n",
       "    </tr>\n",
       "    <tr>\n",
       "      <th>18</th>\n",
       "      <td>Temakinho</td>\n",
       "      <td>VIAGGI</td>\n",
       "    </tr>\n",
       "    <tr>\n",
       "      <th>19</th>\n",
       "      <td>Resto cafe</td>\n",
       "      <td>VIAGGI</td>\n",
       "    </tr>\n",
       "  </tbody>\n",
       "</table>\n",
       "</div>"
      ],
      "text/plain": [
       "          description      category\n",
       "0          Restaurant        VIAGGI\n",
       "1        Movie rental         SVAGO\n",
       "2        Supermarket   SUPERMERCATO\n",
       "3        Supermarket   SUPERMERCATO\n",
       "4        Supermarket   SUPERMERCATO\n",
       "5           Mc donald          FOOD\n",
       "6      B-SKAT 08.2023         VARIE\n",
       "7             Car tax          AUTO\n",
       "8            Benzina           AUTO\n",
       "9           Mc donald          FOOD\n",
       "10       Supermarket   SUPERMERCATO\n",
       "11       Supermarket   SUPERMERCATO\n",
       "12            Haircut         VARIE\n",
       "13           Parking           AUTO\n",
       "14       Supermarket   SUPERMERCATO\n",
       "15  Vuggestue 08.2023         VARIE\n",
       "16       Supermarket   SUPERMERCATO\n",
       "17          Esselunga        VIAGGI\n",
       "18          Temakinho        VIAGGI\n",
       "19         Resto cafe        VIAGGI"
      ]
     },
     "execution_count": 17,
     "metadata": {},
     "output_type": "execute_result"
    }
   ],
   "source": [
    "features = df[[\"description\", \"category\"]]\n",
    "features.head(20)"
   ]
  },
  {
   "cell_type": "markdown",
   "id": "7067bbdb-27b6-4814-a84e-44f66e54ce4c",
   "metadata": {},
   "source": [
    "### Vectorizing the Descriptions\n",
    "The vectorization process basically:\n",
    " * splits all descriptions into tokens and \n",
    " * perform **stemming**\n",
    " \n",
    "An example:\n",
    "```\n",
    "corpus = [\n",
    "...     'This is the first document.',\n",
    "...     'This document is the second document.',\n",
    "...     'And this is the third one.',\n",
    "...     'Is this the first document?',\n",
    "... ]\n",
    "```\n"
   ]
  },
  {
   "cell_type": "code",
   "execution_count": 50,
   "id": "a1f5dd7c-9949-44ff-8550-34ae681b608e",
   "metadata": {
    "tags": []
   },
   "outputs": [],
   "source": [
    "stopwords_vocab = set(stopwords.words(\"english\")).union(set(stopwords.words(\"italian\"))).union(set(stopwords.words(\"french\"))).union(set(stopwords.words(\"danish\")))\n",
    "punctuation_symbols = list(string.punctuation)"
   ]
  },
  {
   "cell_type": "code",
   "execution_count": 58,
   "id": "ae713a8d-e4b8-4f35-9f3b-3dec13af5b07",
   "metadata": {
    "tags": []
   },
   "outputs": [],
   "source": [
    "stemmer = PorterStemmer()"
   ]
  },
  {
   "cell_type": "code",
   "execution_count": 69,
   "id": "5a6dd220-d8bb-451e-84e8-d0ab21a60331",
   "metadata": {
    "tags": []
   },
   "outputs": [],
   "source": [
    "def tokenize(desc): \n",
    "    '''\n",
    "    Tokenizes a description and applies the following:\n",
    "     - removes stop words\n",
    "     - removes useless characters (e.g. '-')\n",
    "     - stems the word\n",
    "    '''\n",
    "    # Split descriptions into tokens\n",
    "    tokens = desc.split()\n",
    "    \n",
    "    # Filter out stopwords\n",
    "    filtered_tokens = [word.lower() for word in tokens if word.lower() not in stopwords_vocab]\n",
    "    filtered_tokens = [word for word in filtered_tokens if word not in punctuation_symbols]\n",
    "    \n",
    "    # Perform stemming\n",
    "    stemmed_tokens = [stemmer.stem(word) for word in filtered_tokens]\n",
    "    \n",
    "    # Join the tokens, as needed by TF-IDF\n",
    "    joined_tokens = \" \".join(stemmed_tokens)\n",
    "    \n",
    "    return joined_tokens"
   ]
  },
  {
   "cell_type": "code",
   "execution_count": 71,
   "id": "ae572b4f-d317-41df-9be0-292688c4c3cc",
   "metadata": {
    "tags": []
   },
   "outputs": [
    {
     "name": "stderr",
     "output_type": "stream",
     "text": [
      "/tmp/ipykernel_7614/514979983.py:1: SettingWithCopyWarning: \n",
      "A value is trying to be set on a copy of a slice from a DataFrame.\n",
      "Try using .loc[row_indexer,col_indexer] = value instead\n",
      "\n",
      "See the caveats in the documentation: https://pandas.pydata.org/pandas-docs/stable/user_guide/indexing.html#returning-a-view-versus-a-copy\n",
      "  features[\"tokens\"] = features[\"description\"].apply(tokenize)\n"
     ]
    }
   ],
   "source": [
    "features[\"tokens\"] = features[\"description\"].apply(tokenize)"
   ]
  },
  {
   "cell_type": "code",
   "execution_count": 80,
   "id": "aa1dd54b-a071-4b1c-afe0-d859199be378",
   "metadata": {
    "tags": []
   },
   "outputs": [],
   "source": [
    "tfidf_vectorizer = TfidfVectorizer()\n",
    "X_train = tfidf_vectorizer.fit_transform(features[\"tokens\"])"
   ]
  },
  {
   "cell_type": "code",
   "execution_count": 81,
   "id": "29d88e60-83f8-46ad-b875-008e54af7430",
   "metadata": {
    "tags": []
   },
   "outputs": [
    {
     "data": {
      "text/plain": [
       "<3272x1321 sparse matrix of type '<class 'numpy.float64'>'\n",
       "\twith 5875 stored elements in Compressed Sparse Row format>"
      ]
     },
     "execution_count": 81,
     "metadata": {},
     "output_type": "execute_result"
    }
   ],
   "source": [
    "X_train"
   ]
  },
  {
   "cell_type": "code",
   "execution_count": 83,
   "id": "ee9fb59f-e94b-4518-b40a-d52b65addfa7",
   "metadata": {
    "tags": []
   },
   "outputs": [
    {
     "data": {
      "text/html": [
       "<style>#sk-container-id-3 {color: black;}#sk-container-id-3 pre{padding: 0;}#sk-container-id-3 div.sk-toggleable {background-color: white;}#sk-container-id-3 label.sk-toggleable__label {cursor: pointer;display: block;width: 100%;margin-bottom: 0;padding: 0.3em;box-sizing: border-box;text-align: center;}#sk-container-id-3 label.sk-toggleable__label-arrow:before {content: \"▸\";float: left;margin-right: 0.25em;color: #696969;}#sk-container-id-3 label.sk-toggleable__label-arrow:hover:before {color: black;}#sk-container-id-3 div.sk-estimator:hover label.sk-toggleable__label-arrow:before {color: black;}#sk-container-id-3 div.sk-toggleable__content {max-height: 0;max-width: 0;overflow: hidden;text-align: left;background-color: #f0f8ff;}#sk-container-id-3 div.sk-toggleable__content pre {margin: 0.2em;color: black;border-radius: 0.25em;background-color: #f0f8ff;}#sk-container-id-3 input.sk-toggleable__control:checked~div.sk-toggleable__content {max-height: 200px;max-width: 100%;overflow: auto;}#sk-container-id-3 input.sk-toggleable__control:checked~label.sk-toggleable__label-arrow:before {content: \"▾\";}#sk-container-id-3 div.sk-estimator input.sk-toggleable__control:checked~label.sk-toggleable__label {background-color: #d4ebff;}#sk-container-id-3 div.sk-label input.sk-toggleable__control:checked~label.sk-toggleable__label {background-color: #d4ebff;}#sk-container-id-3 input.sk-hidden--visually {border: 0;clip: rect(1px 1px 1px 1px);clip: rect(1px, 1px, 1px, 1px);height: 1px;margin: -1px;overflow: hidden;padding: 0;position: absolute;width: 1px;}#sk-container-id-3 div.sk-estimator {font-family: monospace;background-color: #f0f8ff;border: 1px dotted black;border-radius: 0.25em;box-sizing: border-box;margin-bottom: 0.5em;}#sk-container-id-3 div.sk-estimator:hover {background-color: #d4ebff;}#sk-container-id-3 div.sk-parallel-item::after {content: \"\";width: 100%;border-bottom: 1px solid gray;flex-grow: 1;}#sk-container-id-3 div.sk-label:hover label.sk-toggleable__label {background-color: #d4ebff;}#sk-container-id-3 div.sk-serial::before {content: \"\";position: absolute;border-left: 1px solid gray;box-sizing: border-box;top: 0;bottom: 0;left: 50%;z-index: 0;}#sk-container-id-3 div.sk-serial {display: flex;flex-direction: column;align-items: center;background-color: white;padding-right: 0.2em;padding-left: 0.2em;position: relative;}#sk-container-id-3 div.sk-item {position: relative;z-index: 1;}#sk-container-id-3 div.sk-parallel {display: flex;align-items: stretch;justify-content: center;background-color: white;position: relative;}#sk-container-id-3 div.sk-item::before, #sk-container-id-3 div.sk-parallel-item::before {content: \"\";position: absolute;border-left: 1px solid gray;box-sizing: border-box;top: 0;bottom: 0;left: 50%;z-index: -1;}#sk-container-id-3 div.sk-parallel-item {display: flex;flex-direction: column;z-index: 1;position: relative;background-color: white;}#sk-container-id-3 div.sk-parallel-item:first-child::after {align-self: flex-end;width: 50%;}#sk-container-id-3 div.sk-parallel-item:last-child::after {align-self: flex-start;width: 50%;}#sk-container-id-3 div.sk-parallel-item:only-child::after {width: 0;}#sk-container-id-3 div.sk-dashed-wrapped {border: 1px dashed gray;margin: 0 0.4em 0.5em 0.4em;box-sizing: border-box;padding-bottom: 0.4em;background-color: white;}#sk-container-id-3 div.sk-label label {font-family: monospace;font-weight: bold;display: inline-block;line-height: 1.2em;}#sk-container-id-3 div.sk-label-container {text-align: center;}#sk-container-id-3 div.sk-container {/* jupyter's `normalize.less` sets `[hidden] { display: none; }` but bootstrap.min.css set `[hidden] { display: none !important; }` so we also need the `!important` here to be able to override the default hidden behavior on the sphinx rendered scikit-learn.org. See: https://github.com/scikit-learn/scikit-learn/issues/21755 */display: inline-block !important;position: relative;}#sk-container-id-3 div.sk-text-repr-fallback {display: none;}</style><div id=\"sk-container-id-3\" class=\"sk-top-container\"><div class=\"sk-text-repr-fallback\"><pre>MultinomialNB()</pre><b>In a Jupyter environment, please rerun this cell to show the HTML representation or trust the notebook. <br />On GitHub, the HTML representation is unable to render, please try loading this page with nbviewer.org.</b></div><div class=\"sk-container\" hidden><div class=\"sk-item\"><div class=\"sk-estimator sk-toggleable\"><input class=\"sk-toggleable__control sk-hidden--visually\" id=\"sk-estimator-id-3\" type=\"checkbox\" checked><label for=\"sk-estimator-id-3\" class=\"sk-toggleable__label sk-toggleable__label-arrow\">MultinomialNB</label><div class=\"sk-toggleable__content\"><pre>MultinomialNB()</pre></div></div></div></div></div>"
      ],
      "text/plain": [
       "MultinomialNB()"
      ]
     },
     "execution_count": 83,
     "metadata": {},
     "output_type": "execute_result"
    }
   ],
   "source": [
    "model = MultinomialNB()\n",
    "model.fit(X_train, features[\"category\"])"
   ]
  },
  {
   "cell_type": "code",
   "execution_count": 103,
   "id": "bb33cf80-aa57-4d72-b620-861489f041dd",
   "metadata": {
    "tags": []
   },
   "outputs": [
    {
     "data": {
      "text/plain": [
       "array(['SUPERMERCATO', 'VIAGGI', 'SUPERMERCATO', 'HOME', 'VIAGGI',\n",
       "       'VARIE', 'VARIE', 'VARIE'], dtype='<U12')"
      ]
     },
     "execution_count": 103,
     "metadata": {},
     "output_type": "execute_result"
    }
   ],
   "source": [
    "X_test = tfidf_vectorizer.transform([\"super\", \"vacanza lido barcellona\", \"supermarket alghero\", \"electricity bill\", \"hotel\", \"pappa loki\", \"food loki\", \"skat\"])\n",
    "model.predict(X_test)"
   ]
  },
  {
   "cell_type": "code",
   "execution_count": null,
   "id": "4742f555-8ef3-4302-91c9-687958617ff2",
   "metadata": {},
   "outputs": [],
   "source": []
  }
 ],
 "metadata": {
  "kernelspec": {
   "display_name": "conda_tensorflow2_p310",
   "language": "python",
   "name": "conda_tensorflow2_p310"
  },
  "language_info": {
   "codemirror_mode": {
    "name": "ipython",
    "version": 3
   },
   "file_extension": ".py",
   "mimetype": "text/x-python",
   "name": "python",
   "nbconvert_exporter": "python",
   "pygments_lexer": "ipython3",
   "version": "3.10.12"
  }
 },
 "nbformat": 4,
 "nbformat_minor": 5
}
