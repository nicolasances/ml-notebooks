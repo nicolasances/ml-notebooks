{
 "cells": [
  {
   "cell_type": "markdown",
   "id": "3abc0a64-1c52-443b-92df-31dab25aead8",
   "metadata": {},
   "source": [
    "# Toto Expenses: Category Predictor"
   ]
  },
  {
   "cell_type": "code",
   "execution_count": 249,
   "id": "9505dab5-e185-4b93-bc40-6f54edd490ba",
   "metadata": {
    "tags": []
   },
   "outputs": [],
   "source": [
    "import sys\n",
    "import pickle"
   ]
  },
  {
   "cell_type": "code",
   "execution_count": 250,
   "id": "c837a70e-1762-411e-a8a2-7824fdb79220",
   "metadata": {
    "tags": []
   },
   "outputs": [
    {
     "name": "stderr",
     "output_type": "stream",
     "text": [
      "[nltk_data] Downloading package stopwords to\n",
      "[nltk_data]     /home/ec2-user/nltk_data...\n",
      "[nltk_data]   Package stopwords is already up-to-date!\n",
      "[nltk_data] Downloading package punkt to /home/ec2-user/nltk_data...\n",
      "[nltk_data]   Package punkt is already up-to-date!\n"
     ]
    }
   ],
   "source": [
    "import json\n",
    "import re\n",
    "import numpy as np\n",
    "import pandas as pd\n",
    "import seaborn as sns\n",
    "import matplotlib.pyplot as plt\n",
    "import nltk\n",
    "from nltk.stem import PorterStemmer\n",
    "from nltk.corpus import stopwords\n",
    "import string\n",
    "from sklearn.feature_extraction.text import TfidfVectorizer, CountVectorizer\n",
    "from sklearn.naive_bayes import MultinomialNB\n",
    "from sklearn.model_selection import train_test_split\n",
    "from sklearn.metrics import accuracy_score\n",
    "import warnings\n",
    "\n",
    "nltk.download('stopwords')\n",
    "nltk.download('punkt')\n",
    "\n",
    "%matplotlib inline"
   ]
  },
  {
   "cell_type": "markdown",
   "id": "0f5ebf1d-5954-435b-8b74-3e11bdd63076",
   "metadata": {},
   "source": [
    "---\n",
    "## Data Analysis"
   ]
  },
  {
   "cell_type": "code",
   "execution_count": 251,
   "id": "e7c15ef6-c0fd-4a83-8e38-b442f035bcb4",
   "metadata": {
    "tags": []
   },
   "outputs": [],
   "source": [
    "# Ingestion of the Expenses in dict objects\n",
    "def transform_line(line): \n",
    "    expense = json.loads(line)\n",
    "    return expense"
   ]
  },
  {
   "cell_type": "code",
   "execution_count": 252,
   "id": "c9ceb714-397c-4699-be93-fb41b02ad87f",
   "metadata": {
    "tags": []
   },
   "outputs": [],
   "source": [
    "# Read the data from the backup file\n",
    "# Save it into a list\n",
    "def ingest_data(filename):\n",
    "    data = []\n",
    "    \n",
    "    with open(filename, \"r\") as file: \n",
    "        for idx, line in enumerate(file):\n",
    "            expense = transform_line(line)\n",
    "            \n",
    "            data.append(expense)\n",
    "    \n",
    "    return data\n",
    "        "
   ]
  },
  {
   "cell_type": "code",
   "execution_count": 253,
   "id": "d15b1abc-7ed4-4044-94da-aadf08498ba0",
   "metadata": {
    "tags": []
   },
   "outputs": [],
   "source": [
    "def to_dataframe(data: list):\n",
    "    return pd.DataFrame(data)\n",
    "    "
   ]
  },
  {
   "cell_type": "code",
   "execution_count": 254,
   "id": "df80bdc2-d91c-4781-9a25-ad8bb4fa7864",
   "metadata": {
    "tags": []
   },
   "outputs": [],
   "source": [
    "df = to_dataframe(ingest_data(\"expenses.json\"))"
   ]
  },
  {
   "cell_type": "code",
   "execution_count": 255,
   "id": "c65f1158-303f-40a4-bbda-6d45e87219ca",
   "metadata": {
    "tags": []
   },
   "outputs": [
    {
     "data": {
      "text/html": [
       "<div>\n",
       "<style scoped>\n",
       "    .dataframe tbody tr th:only-of-type {\n",
       "        vertical-align: middle;\n",
       "    }\n",
       "\n",
       "    .dataframe tbody tr th {\n",
       "        vertical-align: top;\n",
       "    }\n",
       "\n",
       "    .dataframe thead th {\n",
       "        text-align: right;\n",
       "    }\n",
       "</style>\n",
       "<table border=\"1\" class=\"dataframe\">\n",
       "  <thead>\n",
       "    <tr style=\"text-align: right;\">\n",
       "      <th></th>\n",
       "      <th>_id</th>\n",
       "      <th>amount</th>\n",
       "      <th>date</th>\n",
       "      <th>category</th>\n",
       "      <th>description</th>\n",
       "      <th>creditMom</th>\n",
       "      <th>creditOther</th>\n",
       "      <th>yearMonth</th>\n",
       "      <th>currency</th>\n",
       "      <th>amountInEuro</th>\n",
       "      <th>user</th>\n",
       "      <th>monthly</th>\n",
       "      <th>subscriptionId</th>\n",
       "      <th>consolidated</th>\n",
       "      <th>cardId</th>\n",
       "      <th>cardMonth</th>\n",
       "      <th>weekendId</th>\n",
       "      <th>cardYear</th>\n",
       "      <th>additionalData</th>\n",
       "      <th>tags</th>\n",
       "    </tr>\n",
       "  </thead>\n",
       "  <tbody>\n",
       "    <tr>\n",
       "      <th>0</th>\n",
       "      <td>583dd4f72ab79c00017d9895</td>\n",
       "      <td>14.35</td>\n",
       "      <td>20161128</td>\n",
       "      <td>SUPERMERCATO</td>\n",
       "      <td>Supermercato (Esselunga)</td>\n",
       "      <td>NaN</td>\n",
       "      <td>NaN</td>\n",
       "      <td>201612</td>\n",
       "      <td>EUR</td>\n",
       "      <td>14.35</td>\n",
       "      <td>nicolas.matteazzi@gmail.com</td>\n",
       "      <td>False</td>\n",
       "      <td>NaN</td>\n",
       "      <td>NaN</td>\n",
       "      <td>NaN</td>\n",
       "      <td>NaN</td>\n",
       "      <td>NaN</td>\n",
       "      <td>NaN</td>\n",
       "      <td>NaN</td>\n",
       "      <td>NaN</td>\n",
       "    </tr>\n",
       "    <tr>\n",
       "      <th>1</th>\n",
       "      <td>583dd5382ab79c00017d9897</td>\n",
       "      <td>15.00</td>\n",
       "      <td>20161128</td>\n",
       "      <td>VIAGGI</td>\n",
       "      <td>Ricarica Prepagata (Boston hotel)</td>\n",
       "      <td>NaN</td>\n",
       "      <td>NaN</td>\n",
       "      <td>201612</td>\n",
       "      <td>EUR</td>\n",
       "      <td>15.00</td>\n",
       "      <td>nicolas.matteazzi@gmail.com</td>\n",
       "      <td>False</td>\n",
       "      <td>NaN</td>\n",
       "      <td>NaN</td>\n",
       "      <td>NaN</td>\n",
       "      <td>NaN</td>\n",
       "      <td>NaN</td>\n",
       "      <td>NaN</td>\n",
       "      <td>NaN</td>\n",
       "      <td>NaN</td>\n",
       "    </tr>\n",
       "  </tbody>\n",
       "</table>\n",
       "</div>"
      ],
      "text/plain": [
       "                        _id  amount      date      category  \\\n",
       "0  583dd4f72ab79c00017d9895   14.35  20161128  SUPERMERCATO   \n",
       "1  583dd5382ab79c00017d9897   15.00  20161128        VIAGGI   \n",
       "\n",
       "                         description  creditMom  creditOther  yearMonth  \\\n",
       "0           Supermercato (Esselunga)        NaN          NaN     201612   \n",
       "1  Ricarica Prepagata (Boston hotel)        NaN          NaN     201612   \n",
       "\n",
       "  currency  amountInEuro                         user monthly subscriptionId  \\\n",
       "0      EUR         14.35  nicolas.matteazzi@gmail.com   False            NaN   \n",
       "1      EUR         15.00  nicolas.matteazzi@gmail.com   False            NaN   \n",
       "\n",
       "  consolidated cardId cardMonth weekendId cardYear additionalData tags  \n",
       "0          NaN    NaN       NaN       NaN      NaN            NaN  NaN  \n",
       "1          NaN    NaN       NaN       NaN      NaN            NaN  NaN  "
      ]
     },
     "execution_count": 255,
     "metadata": {},
     "output_type": "execute_result"
    }
   ],
   "source": [
    "df.head(2)"
   ]
  },
  {
   "cell_type": "code",
   "execution_count": 256,
   "id": "3994b453-bfc4-498c-8b00-a5f897382b68",
   "metadata": {
    "tags": []
   },
   "outputs": [
    {
     "data": {
      "text/html": [
       "<div>\n",
       "<style scoped>\n",
       "    .dataframe tbody tr th:only-of-type {\n",
       "        vertical-align: middle;\n",
       "    }\n",
       "\n",
       "    .dataframe tbody tr th {\n",
       "        vertical-align: top;\n",
       "    }\n",
       "\n",
       "    .dataframe thead th {\n",
       "        text-align: right;\n",
       "    }\n",
       "</style>\n",
       "<table border=\"1\" class=\"dataframe\">\n",
       "  <thead>\n",
       "    <tr style=\"text-align: right;\">\n",
       "      <th></th>\n",
       "      <th>description</th>\n",
       "      <th>category</th>\n",
       "    </tr>\n",
       "  </thead>\n",
       "  <tbody>\n",
       "    <tr>\n",
       "      <th>5776</th>\n",
       "      <td>Google Photos</td>\n",
       "      <td>SVAGO</td>\n",
       "    </tr>\n",
       "    <tr>\n",
       "      <th>5777</th>\n",
       "      <td>Adobe</td>\n",
       "      <td>SVAGO</td>\n",
       "    </tr>\n",
       "    <tr>\n",
       "      <th>5778</th>\n",
       "      <td>Car insurance</td>\n",
       "      <td>AUTO</td>\n",
       "    </tr>\n",
       "    <tr>\n",
       "      <th>5779</th>\n",
       "      <td>Apple Tv+</td>\n",
       "      <td>SVAGO</td>\n",
       "    </tr>\n",
       "    <tr>\n",
       "      <th>5780</th>\n",
       "      <td>Mc Donald</td>\n",
       "      <td>FOOD</td>\n",
       "    </tr>\n",
       "  </tbody>\n",
       "</table>\n",
       "</div>"
      ],
      "text/plain": [
       "        description category\n",
       "5776  Google Photos    SVAGO\n",
       "5777          Adobe    SVAGO\n",
       "5778  Car insurance     AUTO\n",
       "5779      Apple Tv+    SVAGO\n",
       "5780      Mc Donald     FOOD"
      ]
     },
     "execution_count": 256,
     "metadata": {},
     "output_type": "execute_result"
    }
   ],
   "source": [
    "features = df[df[\"user\"] == \"nicolas.matteazzi@gmail.com\"][[\"description\", \"category\"]]\n",
    "features.tail(5)"
   ]
  },
  {
   "cell_type": "markdown",
   "id": "7067bbdb-27b6-4814-a84e-44f66e54ce4c",
   "metadata": {},
   "source": [
    "### Vectorizing the Descriptions\n",
    "The vectorization process basically:\n",
    " * splits all descriptions into tokens and \n",
    " * perform **stemming**\n"
   ]
  },
  {
   "cell_type": "code",
   "execution_count": 259,
   "id": "a1f5dd7c-9949-44ff-8550-34ae681b608e",
   "metadata": {
    "tags": []
   },
   "outputs": [],
   "source": [
    "stopwords_vocab = set(stopwords.words(\"english\")).union(set(stopwords.words(\"italian\")))\n",
    "# stopwords_vocab = set(stopwords.words(\"danish\"))\n",
    "punctuation_symbols = list(string.punctuation)"
   ]
  },
  {
   "cell_type": "code",
   "execution_count": 260,
   "id": "ae713a8d-e4b8-4f35-9f3b-3dec13af5b07",
   "metadata": {
    "tags": []
   },
   "outputs": [],
   "source": [
    "stemmer = PorterStemmer()"
   ]
  },
  {
   "cell_type": "code",
   "execution_count": 261,
   "id": "5a6dd220-d8bb-451e-84e8-d0ab21a60331",
   "metadata": {
    "tags": []
   },
   "outputs": [],
   "source": [
    "def tokenize(desc): \n",
    "    '''\n",
    "    Tokenizes a description and applies the following:\n",
    "     - removes stop words\n",
    "     - removes useless characters (e.g. '-')\n",
    "     - stems the word\n",
    "    '''\n",
    "    # Split descriptions into tokens\n",
    "    tokens = desc.split()\n",
    "    \n",
    "    # Prepare to remove any punctuation in the word\n",
    "    translation_table = str.maketrans('', '', ''.join(punctuation_symbols))\n",
    "    \n",
    "    # Filter out stopwords, remove numeric characters from the word\n",
    "    tokens = [re.sub(r'\\d', '', word.lower().translate(translation_table)) for word in tokens if word.lower() not in stopwords_vocab]\n",
    "    tokens = [word for word in tokens if word not in punctuation_symbols and not word.isdigit()]\n",
    "    \n",
    "    \n",
    "    # Perform stemming\n",
    "    tokens = [stemmer.stem(word) for word in tokens]\n",
    "    \n",
    "    # Join the tokens, as needed by TF-IDF\n",
    "    tokens = \" \".join(tokens)\n",
    "    \n",
    "    return tokens"
   ]
  },
  {
   "cell_type": "code",
   "execution_count": 262,
   "id": "ae572b4f-d317-41df-9be0-292688c4c3cc",
   "metadata": {
    "tags": []
   },
   "outputs": [],
   "source": [
    "# Create a new column \"tokens\" that contains the processed descriptions\n",
    "features.loc[:,\"tokens\"] = features[\"description\"].apply(tokenize)"
   ]
  },
  {
   "cell_type": "code",
   "execution_count": 271,
   "id": "b09b1867-ab64-46ee-968f-c796acb37e81",
   "metadata": {
    "tags": []
   },
   "outputs": [
    {
     "data": {
      "text/html": [
       "<div>\n",
       "<style scoped>\n",
       "    .dataframe tbody tr th:only-of-type {\n",
       "        vertical-align: middle;\n",
       "    }\n",
       "\n",
       "    .dataframe tbody tr th {\n",
       "        vertical-align: top;\n",
       "    }\n",
       "\n",
       "    .dataframe thead th {\n",
       "        text-align: right;\n",
       "    }\n",
       "</style>\n",
       "<table border=\"1\" class=\"dataframe\">\n",
       "  <thead>\n",
       "    <tr style=\"text-align: right;\">\n",
       "      <th></th>\n",
       "      <th>description</th>\n",
       "      <th>category</th>\n",
       "      <th>tokens</th>\n",
       "    </tr>\n",
       "  </thead>\n",
       "  <tbody>\n",
       "    <tr>\n",
       "      <th>39</th>\n",
       "      <td>Sciarpa Caro Zara</td>\n",
       "      <td>XMAS</td>\n",
       "      <td>sciarpa caro zara</td>\n",
       "    </tr>\n",
       "    <tr>\n",
       "      <th>40</th>\n",
       "      <td>Yamamay intimo Caro</td>\n",
       "      <td>XMAS</td>\n",
       "      <td>yamamay intimo caro</td>\n",
       "    </tr>\n",
       "    <tr>\n",
       "      <th>41</th>\n",
       "      <td>Parcheggio Lampugnano</td>\n",
       "      <td>AUTO</td>\n",
       "      <td>parcheggio lampugnano</td>\n",
       "    </tr>\n",
       "    <tr>\n",
       "      <th>42</th>\n",
       "      <td>Pedaggi Autostrada Novembre</td>\n",
       "      <td>AUTO</td>\n",
       "      <td>pedaggi autostrada novembr</td>\n",
       "    </tr>\n",
       "    <tr>\n",
       "      <th>43</th>\n",
       "      <td>Parcheggio Lampugnano</td>\n",
       "      <td>AUTO</td>\n",
       "      <td>parcheggio lampugnano</td>\n",
       "    </tr>\n",
       "    <tr>\n",
       "      <th>44</th>\n",
       "      <td>Prelievo Bancomat (Sci)</td>\n",
       "      <td>SVAGO</td>\n",
       "      <td>prelievo bancomat sci</td>\n",
       "    </tr>\n",
       "    <tr>\n",
       "      <th>45</th>\n",
       "      <td>Pagamento Elettricità</td>\n",
       "      <td>HOME</td>\n",
       "      <td>pagamento elettricità</td>\n",
       "    </tr>\n",
       "    <tr>\n",
       "      <th>46</th>\n",
       "      <td>Gas</td>\n",
       "      <td>HOME</td>\n",
       "      <td>ga</td>\n",
       "    </tr>\n",
       "    <tr>\n",
       "      <th>47</th>\n",
       "      <td>Mc Donald's</td>\n",
       "      <td>FOOD</td>\n",
       "      <td>mc donald</td>\n",
       "    </tr>\n",
       "    <tr>\n",
       "      <th>48</th>\n",
       "      <td>Benzina per Cervinia</td>\n",
       "      <td>SVAGO</td>\n",
       "      <td>benzina cervinia</td>\n",
       "    </tr>\n",
       "  </tbody>\n",
       "</table>\n",
       "</div>"
      ],
      "text/plain": [
       "                    description category                      tokens\n",
       "39            Sciarpa Caro Zara     XMAS           sciarpa caro zara\n",
       "40          Yamamay intimo Caro     XMAS         yamamay intimo caro\n",
       "41        Parcheggio Lampugnano     AUTO       parcheggio lampugnano\n",
       "42  Pedaggi Autostrada Novembre     AUTO  pedaggi autostrada novembr\n",
       "43        Parcheggio Lampugnano     AUTO       parcheggio lampugnano\n",
       "44      Prelievo Bancomat (Sci)    SVAGO       prelievo bancomat sci\n",
       "45        Pagamento Elettricità     HOME       pagamento elettricità\n",
       "46                          Gas     HOME                          ga\n",
       "47                  Mc Donald's     FOOD                   mc donald\n",
       "48         Benzina per Cervinia    SVAGO            benzina cervinia"
      ]
     },
     "execution_count": 271,
     "metadata": {},
     "output_type": "execute_result"
    }
   ],
   "source": [
    "range_low = np.random.randint(0, len(features))\n",
    "features.iloc[range_low:range_low + 10]"
   ]
  },
  {
   "cell_type": "code",
   "execution_count": 272,
   "id": "ceea0ba5-df7a-4d1c-9eff-d885e0e48948",
   "metadata": {
    "tags": []
   },
   "outputs": [],
   "source": [
    "# Split the dataset between test and train\n",
    "train_df, test_df = train_test_split(features, test_size=0.2)"
   ]
  },
  {
   "cell_type": "code",
   "execution_count": 274,
   "id": "aa1dd54b-a071-4b1c-afe0-d859199be378",
   "metadata": {
    "tags": []
   },
   "outputs": [],
   "source": [
    "# Vectorize the tokens both for test and train datasets\n",
    "tfidf_vectorizer = TfidfVectorizer()\n",
    "\n",
    "X_train = tfidf_vectorizer.fit_transform(train_df[\"tokens\"])\n",
    "\n",
    "# Here we only transform because we need to consider the test set as if it was \n",
    "# a new set of data, not seen by the model\n",
    "X_test = tfidf_vectorizer.transform(test_df[\"tokens\"])\n"
   ]
  },
  {
   "cell_type": "code",
   "execution_count": 277,
   "id": "ee9fb59f-e94b-4518-b40a-d52b65addfa7",
   "metadata": {
    "tags": []
   },
   "outputs": [
    {
     "data": {
      "text/html": [
       "<style>#sk-container-id-9 {color: black;}#sk-container-id-9 pre{padding: 0;}#sk-container-id-9 div.sk-toggleable {background-color: white;}#sk-container-id-9 label.sk-toggleable__label {cursor: pointer;display: block;width: 100%;margin-bottom: 0;padding: 0.3em;box-sizing: border-box;text-align: center;}#sk-container-id-9 label.sk-toggleable__label-arrow:before {content: \"▸\";float: left;margin-right: 0.25em;color: #696969;}#sk-container-id-9 label.sk-toggleable__label-arrow:hover:before {color: black;}#sk-container-id-9 div.sk-estimator:hover label.sk-toggleable__label-arrow:before {color: black;}#sk-container-id-9 div.sk-toggleable__content {max-height: 0;max-width: 0;overflow: hidden;text-align: left;background-color: #f0f8ff;}#sk-container-id-9 div.sk-toggleable__content pre {margin: 0.2em;color: black;border-radius: 0.25em;background-color: #f0f8ff;}#sk-container-id-9 input.sk-toggleable__control:checked~div.sk-toggleable__content {max-height: 200px;max-width: 100%;overflow: auto;}#sk-container-id-9 input.sk-toggleable__control:checked~label.sk-toggleable__label-arrow:before {content: \"▾\";}#sk-container-id-9 div.sk-estimator input.sk-toggleable__control:checked~label.sk-toggleable__label {background-color: #d4ebff;}#sk-container-id-9 div.sk-label input.sk-toggleable__control:checked~label.sk-toggleable__label {background-color: #d4ebff;}#sk-container-id-9 input.sk-hidden--visually {border: 0;clip: rect(1px 1px 1px 1px);clip: rect(1px, 1px, 1px, 1px);height: 1px;margin: -1px;overflow: hidden;padding: 0;position: absolute;width: 1px;}#sk-container-id-9 div.sk-estimator {font-family: monospace;background-color: #f0f8ff;border: 1px dotted black;border-radius: 0.25em;box-sizing: border-box;margin-bottom: 0.5em;}#sk-container-id-9 div.sk-estimator:hover {background-color: #d4ebff;}#sk-container-id-9 div.sk-parallel-item::after {content: \"\";width: 100%;border-bottom: 1px solid gray;flex-grow: 1;}#sk-container-id-9 div.sk-label:hover label.sk-toggleable__label {background-color: #d4ebff;}#sk-container-id-9 div.sk-serial::before {content: \"\";position: absolute;border-left: 1px solid gray;box-sizing: border-box;top: 0;bottom: 0;left: 50%;z-index: 0;}#sk-container-id-9 div.sk-serial {display: flex;flex-direction: column;align-items: center;background-color: white;padding-right: 0.2em;padding-left: 0.2em;position: relative;}#sk-container-id-9 div.sk-item {position: relative;z-index: 1;}#sk-container-id-9 div.sk-parallel {display: flex;align-items: stretch;justify-content: center;background-color: white;position: relative;}#sk-container-id-9 div.sk-item::before, #sk-container-id-9 div.sk-parallel-item::before {content: \"\";position: absolute;border-left: 1px solid gray;box-sizing: border-box;top: 0;bottom: 0;left: 50%;z-index: -1;}#sk-container-id-9 div.sk-parallel-item {display: flex;flex-direction: column;z-index: 1;position: relative;background-color: white;}#sk-container-id-9 div.sk-parallel-item:first-child::after {align-self: flex-end;width: 50%;}#sk-container-id-9 div.sk-parallel-item:last-child::after {align-self: flex-start;width: 50%;}#sk-container-id-9 div.sk-parallel-item:only-child::after {width: 0;}#sk-container-id-9 div.sk-dashed-wrapped {border: 1px dashed gray;margin: 0 0.4em 0.5em 0.4em;box-sizing: border-box;padding-bottom: 0.4em;background-color: white;}#sk-container-id-9 div.sk-label label {font-family: monospace;font-weight: bold;display: inline-block;line-height: 1.2em;}#sk-container-id-9 div.sk-label-container {text-align: center;}#sk-container-id-9 div.sk-container {/* jupyter's `normalize.less` sets `[hidden] { display: none; }` but bootstrap.min.css set `[hidden] { display: none !important; }` so we also need the `!important` here to be able to override the default hidden behavior on the sphinx rendered scikit-learn.org. See: https://github.com/scikit-learn/scikit-learn/issues/21755 */display: inline-block !important;position: relative;}#sk-container-id-9 div.sk-text-repr-fallback {display: none;}</style><div id=\"sk-container-id-9\" class=\"sk-top-container\"><div class=\"sk-text-repr-fallback\"><pre>MultinomialNB()</pre><b>In a Jupyter environment, please rerun this cell to show the HTML representation or trust the notebook. <br />On GitHub, the HTML representation is unable to render, please try loading this page with nbviewer.org.</b></div><div class=\"sk-container\" hidden><div class=\"sk-item\"><div class=\"sk-estimator sk-toggleable\"><input class=\"sk-toggleable__control sk-hidden--visually\" id=\"sk-estimator-id-9\" type=\"checkbox\" checked><label for=\"sk-estimator-id-9\" class=\"sk-toggleable__label sk-toggleable__label-arrow\">MultinomialNB</label><div class=\"sk-toggleable__content\"><pre>MultinomialNB()</pre></div></div></div></div></div>"
      ],
      "text/plain": [
       "MultinomialNB()"
      ]
     },
     "execution_count": 277,
     "metadata": {},
     "output_type": "execute_result"
    }
   ],
   "source": [
    "model = MultinomialNB()\n",
    "model.fit(X_train, train_df[\"category\"])"
   ]
  },
  {
   "cell_type": "code",
   "execution_count": 278,
   "id": "78260bea-096e-4f6a-aa03-e6ae681df405",
   "metadata": {
    "tags": []
   },
   "outputs": [
    {
     "name": "stdout",
     "output_type": "stream",
     "text": [
      "0.7193995381062356\n"
     ]
    }
   ],
   "source": [
    "# Evaluate the accuracy of the model\n",
    "# 1. Predict \n",
    "Y_test = model.predict(X_test)\n",
    "\n",
    "# 2. Evaluate\n",
    "accuracy = accuracy_score(test_df[\"category\"], Y_test)\n",
    "\n",
    "print(accuracy)"
   ]
  },
  {
   "cell_type": "markdown",
   "id": "dbf08b3d-0f37-47a0-bf75-6661f265ddc2",
   "metadata": {},
   "source": [
    "### Trying a different vectorizer"
   ]
  },
  {
   "cell_type": "code",
   "execution_count": 279,
   "id": "59181640-3bfb-4c94-b43a-2e42ad2faaf5",
   "metadata": {
    "tags": []
   },
   "outputs": [],
   "source": [
    "binary_vectorizer = CountVectorizer(binary=True)\n",
    "\n",
    "X_train = binary_vectorizer.fit_transform(train_df[\"tokens\"])\n",
    "X_test = binary_vectorizer.transform(test_df[\"tokens\"])\n"
   ]
  },
  {
   "cell_type": "code",
   "execution_count": 285,
   "id": "92e0b2d3-5068-4c35-bbb6-431928bc19f5",
   "metadata": {
    "tags": []
   },
   "outputs": [
    {
     "data": {
      "text/plain": [
       "4592              medicin oper\n",
       "760                       park\n",
       "1081                   contabo\n",
       "116      parcheggio lampugnano\n",
       "5697      hk handel og kontorf\n",
       "                 ...          \n",
       "4406               super vacat\n",
       "421          boat tour navigli\n",
       "2011    black star burger perm\n",
       "4648               supermarket\n",
       "1623              pant bertoni\n",
       "Name: tokens, Length: 3464, dtype: object"
      ]
     },
     "execution_count": 285,
     "metadata": {},
     "output_type": "execute_result"
    }
   ],
   "source": [
    "train_df[\"tokens\"]"
   ]
  },
  {
   "cell_type": "code",
   "execution_count": 280,
   "id": "8d5faaf3-7416-4bbb-a654-c8e0b8e37958",
   "metadata": {
    "tags": []
   },
   "outputs": [
    {
     "data": {
      "text/html": [
       "<style>#sk-container-id-10 {color: black;}#sk-container-id-10 pre{padding: 0;}#sk-container-id-10 div.sk-toggleable {background-color: white;}#sk-container-id-10 label.sk-toggleable__label {cursor: pointer;display: block;width: 100%;margin-bottom: 0;padding: 0.3em;box-sizing: border-box;text-align: center;}#sk-container-id-10 label.sk-toggleable__label-arrow:before {content: \"▸\";float: left;margin-right: 0.25em;color: #696969;}#sk-container-id-10 label.sk-toggleable__label-arrow:hover:before {color: black;}#sk-container-id-10 div.sk-estimator:hover label.sk-toggleable__label-arrow:before {color: black;}#sk-container-id-10 div.sk-toggleable__content {max-height: 0;max-width: 0;overflow: hidden;text-align: left;background-color: #f0f8ff;}#sk-container-id-10 div.sk-toggleable__content pre {margin: 0.2em;color: black;border-radius: 0.25em;background-color: #f0f8ff;}#sk-container-id-10 input.sk-toggleable__control:checked~div.sk-toggleable__content {max-height: 200px;max-width: 100%;overflow: auto;}#sk-container-id-10 input.sk-toggleable__control:checked~label.sk-toggleable__label-arrow:before {content: \"▾\";}#sk-container-id-10 div.sk-estimator input.sk-toggleable__control:checked~label.sk-toggleable__label {background-color: #d4ebff;}#sk-container-id-10 div.sk-label input.sk-toggleable__control:checked~label.sk-toggleable__label {background-color: #d4ebff;}#sk-container-id-10 input.sk-hidden--visually {border: 0;clip: rect(1px 1px 1px 1px);clip: rect(1px, 1px, 1px, 1px);height: 1px;margin: -1px;overflow: hidden;padding: 0;position: absolute;width: 1px;}#sk-container-id-10 div.sk-estimator {font-family: monospace;background-color: #f0f8ff;border: 1px dotted black;border-radius: 0.25em;box-sizing: border-box;margin-bottom: 0.5em;}#sk-container-id-10 div.sk-estimator:hover {background-color: #d4ebff;}#sk-container-id-10 div.sk-parallel-item::after {content: \"\";width: 100%;border-bottom: 1px solid gray;flex-grow: 1;}#sk-container-id-10 div.sk-label:hover label.sk-toggleable__label {background-color: #d4ebff;}#sk-container-id-10 div.sk-serial::before {content: \"\";position: absolute;border-left: 1px solid gray;box-sizing: border-box;top: 0;bottom: 0;left: 50%;z-index: 0;}#sk-container-id-10 div.sk-serial {display: flex;flex-direction: column;align-items: center;background-color: white;padding-right: 0.2em;padding-left: 0.2em;position: relative;}#sk-container-id-10 div.sk-item {position: relative;z-index: 1;}#sk-container-id-10 div.sk-parallel {display: flex;align-items: stretch;justify-content: center;background-color: white;position: relative;}#sk-container-id-10 div.sk-item::before, #sk-container-id-10 div.sk-parallel-item::before {content: \"\";position: absolute;border-left: 1px solid gray;box-sizing: border-box;top: 0;bottom: 0;left: 50%;z-index: -1;}#sk-container-id-10 div.sk-parallel-item {display: flex;flex-direction: column;z-index: 1;position: relative;background-color: white;}#sk-container-id-10 div.sk-parallel-item:first-child::after {align-self: flex-end;width: 50%;}#sk-container-id-10 div.sk-parallel-item:last-child::after {align-self: flex-start;width: 50%;}#sk-container-id-10 div.sk-parallel-item:only-child::after {width: 0;}#sk-container-id-10 div.sk-dashed-wrapped {border: 1px dashed gray;margin: 0 0.4em 0.5em 0.4em;box-sizing: border-box;padding-bottom: 0.4em;background-color: white;}#sk-container-id-10 div.sk-label label {font-family: monospace;font-weight: bold;display: inline-block;line-height: 1.2em;}#sk-container-id-10 div.sk-label-container {text-align: center;}#sk-container-id-10 div.sk-container {/* jupyter's `normalize.less` sets `[hidden] { display: none; }` but bootstrap.min.css set `[hidden] { display: none !important; }` so we also need the `!important` here to be able to override the default hidden behavior on the sphinx rendered scikit-learn.org. See: https://github.com/scikit-learn/scikit-learn/issues/21755 */display: inline-block !important;position: relative;}#sk-container-id-10 div.sk-text-repr-fallback {display: none;}</style><div id=\"sk-container-id-10\" class=\"sk-top-container\"><div class=\"sk-text-repr-fallback\"><pre>MultinomialNB()</pre><b>In a Jupyter environment, please rerun this cell to show the HTML representation or trust the notebook. <br />On GitHub, the HTML representation is unable to render, please try loading this page with nbviewer.org.</b></div><div class=\"sk-container\" hidden><div class=\"sk-item\"><div class=\"sk-estimator sk-toggleable\"><input class=\"sk-toggleable__control sk-hidden--visually\" id=\"sk-estimator-id-10\" type=\"checkbox\" checked><label for=\"sk-estimator-id-10\" class=\"sk-toggleable__label sk-toggleable__label-arrow\">MultinomialNB</label><div class=\"sk-toggleable__content\"><pre>MultinomialNB()</pre></div></div></div></div></div>"
      ],
      "text/plain": [
       "MultinomialNB()"
      ]
     },
     "execution_count": 280,
     "metadata": {},
     "output_type": "execute_result"
    }
   ],
   "source": [
    "model = MultinomialNB()\n",
    "model.fit(X_train, train_df[\"category\"])"
   ]
  },
  {
   "cell_type": "code",
   "execution_count": 281,
   "id": "a69478ba-748f-4b96-a586-8968e6af79a5",
   "metadata": {
    "tags": []
   },
   "outputs": [
    {
     "name": "stdout",
     "output_type": "stream",
     "text": [
      "Training accuracy: 0.8585\n",
      "Test accuracy: 0.7425\n"
     ]
    }
   ],
   "source": [
    "# Evaluate the accuracy of the model\n",
    "# 1. Predict \n",
    "Y_test = model.predict(X_test)\n",
    "Y_train = model.predict(X_train)\n",
    "\n",
    "# 2. Evaluate\n",
    "accuracy = accuracy_score(test_df[\"category\"], Y_test)\n",
    "train_accuracy = accuracy_score(train_df[\"category\"], Y_train)\n",
    "\n",
    "print(f\"Training accuracy: {train_accuracy:.4f}\")\n",
    "print(f\"Test accuracy: {accuracy:.4f}\")"
   ]
  },
  {
   "cell_type": "code",
   "execution_count": 282,
   "id": "c3071039-5065-4ed6-b457-0a3d871b41e9",
   "metadata": {
    "tags": []
   },
   "outputs": [],
   "source": [
    "comparison_df = pd.DataFrame(data={\"Tokens\": test_df[\"tokens\"], \"Expected Category\": test_df[\"category\"], \"Predicted Category\": Y_test})"
   ]
  },
  {
   "cell_type": "code",
   "execution_count": 283,
   "id": "e8c15bc0-8af0-4bcc-8aca-494fcf9f1b83",
   "metadata": {
    "tags": []
   },
   "outputs": [
    {
     "data": {
      "text/html": [
       "<div>\n",
       "<style scoped>\n",
       "    .dataframe tbody tr th:only-of-type {\n",
       "        vertical-align: middle;\n",
       "    }\n",
       "\n",
       "    .dataframe tbody tr th {\n",
       "        vertical-align: top;\n",
       "    }\n",
       "\n",
       "    .dataframe thead th {\n",
       "        text-align: right;\n",
       "    }\n",
       "</style>\n",
       "<table border=\"1\" class=\"dataframe\">\n",
       "  <thead>\n",
       "    <tr style=\"text-align: right;\">\n",
       "      <th></th>\n",
       "      <th>Tokens</th>\n",
       "      <th>Expected Category</th>\n",
       "      <th>Predicted Category</th>\n",
       "    </tr>\n",
       "  </thead>\n",
       "  <tbody>\n",
       "    <tr>\n",
       "      <th>5535</th>\n",
       "      <td>sport outlet ishoej ishoej</td>\n",
       "      <td>VARIE</td>\n",
       "      <td>AUTO</td>\n",
       "    </tr>\n",
       "    <tr>\n",
       "      <th>4109</th>\n",
       "      <td>ejendomskat</td>\n",
       "      <td>HOME</td>\n",
       "      <td>VARIE</td>\n",
       "    </tr>\n",
       "    <tr>\n",
       "      <th>1168</th>\n",
       "      <td>cafè domenica</td>\n",
       "      <td>SVAGO</td>\n",
       "      <td>FOOD</td>\n",
       "    </tr>\n",
       "    <tr>\n",
       "      <th>5174</th>\n",
       "      <td></td>\n",
       "      <td>VARIE</td>\n",
       "      <td>AUTO</td>\n",
       "    </tr>\n",
       "    <tr>\n",
       "      <th>1429</th>\n",
       "      <td>silvan</td>\n",
       "      <td>FURNITURE</td>\n",
       "      <td>HOME</td>\n",
       "    </tr>\n",
       "    <tr>\n",
       "      <th>3893</th>\n",
       "      <td>insur etc</td>\n",
       "      <td>HOME</td>\n",
       "      <td>AUTO</td>\n",
       "    </tr>\n",
       "    <tr>\n",
       "      <th>3660</th>\n",
       "      <td>dog food</td>\n",
       "      <td>PET</td>\n",
       "      <td>VARIE</td>\n",
       "    </tr>\n",
       "    <tr>\n",
       "      <th>296</th>\n",
       "      <td>cena carolin mexicali</td>\n",
       "      <td>USCITE</td>\n",
       "      <td>VARIE</td>\n",
       "    </tr>\n",
       "    <tr>\n",
       "      <th>5267</th>\n",
       "      <td>amzn mktp de uf</td>\n",
       "      <td>VARIE</td>\n",
       "      <td>SVAGO</td>\n",
       "    </tr>\n",
       "    <tr>\n",
       "      <th>898</th>\n",
       "      <td>parch mxp</td>\n",
       "      <td>AUTO</td>\n",
       "      <td>VIAGGI</td>\n",
       "    </tr>\n",
       "    <tr>\n",
       "      <th>4578</th>\n",
       "      <td>benzina</td>\n",
       "      <td>VIAGGI</td>\n",
       "      <td>AUTO</td>\n",
       "    </tr>\n",
       "    <tr>\n",
       "      <th>551</th>\n",
       "      <td>prelievo pranzo cesar</td>\n",
       "      <td>USCITE</td>\n",
       "      <td>VIAGGI</td>\n",
       "    </tr>\n",
       "    <tr>\n",
       "      <th>1828</th>\n",
       "      <td>princi</td>\n",
       "      <td>VIAGGI</td>\n",
       "      <td>AUTO</td>\n",
       "    </tr>\n",
       "    <tr>\n",
       "      <th>5333</th>\n",
       "      <td>transfer budget</td>\n",
       "      <td>HOME</td>\n",
       "      <td>VARIE</td>\n",
       "    </tr>\n",
       "    <tr>\n",
       "      <th>1543</th>\n",
       "      <td>brandina</td>\n",
       "      <td>FURNITURE</td>\n",
       "      <td>AUTO</td>\n",
       "    </tr>\n",
       "    <tr>\n",
       "      <th>2928</th>\n",
       "      <td>park airport sandro</td>\n",
       "      <td>VARIE</td>\n",
       "      <td>VIAGGI</td>\n",
       "    </tr>\n",
       "    <tr>\n",
       "      <th>3187</th>\n",
       "      <td>qualcosa</td>\n",
       "      <td>VARIE</td>\n",
       "      <td>AUTO</td>\n",
       "    </tr>\n",
       "    <tr>\n",
       "      <th>4699</th>\n",
       "      <td>app gym</td>\n",
       "      <td>PALESTRA</td>\n",
       "      <td>SVAGO</td>\n",
       "    </tr>\n",
       "    <tr>\n",
       "      <th>2013</th>\n",
       "      <td>vdk rub</td>\n",
       "      <td>VIAGGI</td>\n",
       "      <td>VARIE</td>\n",
       "    </tr>\n",
       "    <tr>\n",
       "      <th>5256</th>\n",
       "      <td>bauhau valbi</td>\n",
       "      <td>VARIE</td>\n",
       "      <td>HOME</td>\n",
       "    </tr>\n",
       "    <tr>\n",
       "      <th>5247</th>\n",
       "      <td>silvan  fisketo</td>\n",
       "      <td>VARIE</td>\n",
       "      <td>HOME</td>\n",
       "    </tr>\n",
       "    <tr>\n",
       "      <th>3812</th>\n",
       "      <td>babi sam steril  stuff</td>\n",
       "      <td>CHILD</td>\n",
       "      <td>VARIE</td>\n",
       "    </tr>\n",
       "    <tr>\n",
       "      <th>1120</th>\n",
       "      <td>mobilepay netto carolin</td>\n",
       "      <td>SUPERMERCATO</td>\n",
       "      <td>VARIE</td>\n",
       "    </tr>\n",
       "    <tr>\n",
       "      <th>220</th>\n",
       "      <td>viridea ares</td>\n",
       "      <td>FURNITURE</td>\n",
       "      <td>AUTO</td>\n",
       "    </tr>\n",
       "    <tr>\n",
       "      <th>3141</th>\n",
       "      <td>copenhagen someth</td>\n",
       "      <td>VARIE</td>\n",
       "      <td>VIAGGI</td>\n",
       "    </tr>\n",
       "    <tr>\n",
       "      <th>1037</th>\n",
       "      <td>paludan</td>\n",
       "      <td>FOOD</td>\n",
       "      <td>AUTO</td>\n",
       "    </tr>\n",
       "    <tr>\n",
       "      <th>5414</th>\n",
       "      <td>appl com</td>\n",
       "      <td>VARIE</td>\n",
       "      <td>SVAGO</td>\n",
       "    </tr>\n",
       "    <tr>\n",
       "      <th>3175</th>\n",
       "      <td>park sardegna</td>\n",
       "      <td>VIAGGI</td>\n",
       "      <td>AUTO</td>\n",
       "    </tr>\n",
       "    <tr>\n",
       "      <th>2506</th>\n",
       "      <td>ago vet</td>\n",
       "      <td>PET</td>\n",
       "      <td>VARIE</td>\n",
       "    </tr>\n",
       "    <tr>\n",
       "      <th>3399</th>\n",
       "      <td>benzina</td>\n",
       "      <td>VIAGGI</td>\n",
       "      <td>AUTO</td>\n",
       "    </tr>\n",
       "    <tr>\n",
       "      <th>5409</th>\n",
       "      <td>automatudbet solrød afdel</td>\n",
       "      <td>PET</td>\n",
       "      <td>SUPERMERCATO</td>\n",
       "    </tr>\n",
       "    <tr>\n",
       "      <th>5091</th>\n",
       "      <td>rental hh</td>\n",
       "      <td>HOME</td>\n",
       "      <td>VIAGGI</td>\n",
       "    </tr>\n",
       "    <tr>\n",
       "      <th>1107</th>\n",
       "      <td>camici libero</td>\n",
       "      <td>CLOTHES</td>\n",
       "      <td>SUPERMERCATO</td>\n",
       "    </tr>\n",
       "    <tr>\n",
       "      <th>5049</th>\n",
       "      <td>vuggestu</td>\n",
       "      <td>CHILD</td>\n",
       "      <td>VARIE</td>\n",
       "    </tr>\n",
       "    <tr>\n",
       "      <th>1235</th>\n",
       "      <td>medicin</td>\n",
       "      <td>SALUTE</td>\n",
       "      <td>VARIE</td>\n",
       "    </tr>\n",
       "    <tr>\n",
       "      <th>5767</th>\n",
       "      <td>train app</td>\n",
       "      <td>PALESTRA</td>\n",
       "      <td>AUTO</td>\n",
       "    </tr>\n",
       "    <tr>\n",
       "      <th>3846</th>\n",
       "      <td>insur mobil pay</td>\n",
       "      <td>HOME</td>\n",
       "      <td>AUTO</td>\n",
       "    </tr>\n",
       "    <tr>\n",
       "      <th>3882</th>\n",
       "      <td>servic</td>\n",
       "      <td>AUTO</td>\n",
       "      <td>VARIE</td>\n",
       "    </tr>\n",
       "    <tr>\n",
       "      <th>4076</th>\n",
       "      <td>suitsuppli sweater</td>\n",
       "      <td>CLOTHES</td>\n",
       "      <td>AUTO</td>\n",
       "    </tr>\n",
       "    <tr>\n",
       "      <th>5584</th>\n",
       "      <td>bastard café</td>\n",
       "      <td>VARIE</td>\n",
       "      <td>FOOD</td>\n",
       "    </tr>\n",
       "    <tr>\n",
       "      <th>5413</th>\n",
       "      <td>transfer budget</td>\n",
       "      <td>HOME</td>\n",
       "      <td>VARIE</td>\n",
       "    </tr>\n",
       "    <tr>\n",
       "      <th>4215</th>\n",
       "      <td>carolin insur</td>\n",
       "      <td>HOME</td>\n",
       "      <td>VARIE</td>\n",
       "    </tr>\n",
       "    <tr>\n",
       "      <th>401</th>\n",
       "      <td>adattator prese uk</td>\n",
       "      <td>VARIE</td>\n",
       "      <td>SVAGO</td>\n",
       "    </tr>\n",
       "    <tr>\n",
       "      <th>5130</th>\n",
       "      <td>dsb  vpt rka</td>\n",
       "      <td>AUTO</td>\n",
       "      <td>VARIE</td>\n",
       "    </tr>\n",
       "    <tr>\n",
       "      <th>2333</th>\n",
       "      <td>gaustatoppen skien</td>\n",
       "      <td>VIAGGI</td>\n",
       "      <td>AUTO</td>\n",
       "    </tr>\n",
       "    <tr>\n",
       "      <th>5775</th>\n",
       "      <td>vuggestu</td>\n",
       "      <td>CHILD</td>\n",
       "      <td>VARIE</td>\n",
       "    </tr>\n",
       "    <tr>\n",
       "      <th>512</th>\n",
       "      <td>prelievo parcheggio</td>\n",
       "      <td>VIAGGI</td>\n",
       "      <td>AUTO</td>\n",
       "    </tr>\n",
       "    <tr>\n",
       "      <th>5555</th>\n",
       "      <td>aurland aurland</td>\n",
       "      <td>VARIE</td>\n",
       "      <td>AUTO</td>\n",
       "    </tr>\n",
       "    <tr>\n",
       "      <th>3905</th>\n",
       "      <td>cours udemi swift</td>\n",
       "      <td>SVAGO</td>\n",
       "      <td>VARIE</td>\n",
       "    </tr>\n",
       "    <tr>\n",
       "      <th>312</th>\n",
       "      <td>parcheggio niguarda</td>\n",
       "      <td>SALUTE</td>\n",
       "      <td>AUTO</td>\n",
       "    </tr>\n",
       "  </tbody>\n",
       "</table>\n",
       "</div>"
      ],
      "text/plain": [
       "                          Tokens Expected Category Predicted Category\n",
       "5535  sport outlet ishoej ishoej             VARIE               AUTO\n",
       "4109                 ejendomskat              HOME              VARIE\n",
       "1168               cafè domenica             SVAGO               FOOD\n",
       "5174                                         VARIE               AUTO\n",
       "1429                      silvan         FURNITURE               HOME\n",
       "3893                   insur etc              HOME               AUTO\n",
       "3660                    dog food               PET              VARIE\n",
       "296        cena carolin mexicali            USCITE              VARIE\n",
       "5267             amzn mktp de uf             VARIE              SVAGO\n",
       "898                    parch mxp              AUTO             VIAGGI\n",
       "4578                     benzina            VIAGGI               AUTO\n",
       "551        prelievo pranzo cesar            USCITE             VIAGGI\n",
       "1828                      princi            VIAGGI               AUTO\n",
       "5333             transfer budget              HOME              VARIE\n",
       "1543                    brandina         FURNITURE               AUTO\n",
       "2928         park airport sandro             VARIE             VIAGGI\n",
       "3187                    qualcosa             VARIE               AUTO\n",
       "4699                     app gym          PALESTRA              SVAGO\n",
       "2013                    vdk rub             VIAGGI              VARIE\n",
       "5256               bauhau valbi              VARIE               HOME\n",
       "5247            silvan  fisketo              VARIE               HOME\n",
       "3812      babi sam steril  stuff             CHILD              VARIE\n",
       "1120     mobilepay netto carolin      SUPERMERCATO              VARIE\n",
       "220                 viridea ares         FURNITURE               AUTO\n",
       "3141           copenhagen someth             VARIE             VIAGGI\n",
       "1037                     paludan              FOOD               AUTO\n",
       "5414                 appl com                VARIE              SVAGO\n",
       "3175               park sardegna            VIAGGI               AUTO\n",
       "2506                     ago vet               PET              VARIE\n",
       "3399                     benzina            VIAGGI               AUTO\n",
       "5409   automatudbet solrød afdel               PET       SUPERMERCATO\n",
       "5091                 rental hh                HOME             VIAGGI\n",
       "1107               camici libero           CLOTHES       SUPERMERCATO\n",
       "5049                    vuggestu             CHILD              VARIE\n",
       "1235                     medicin            SALUTE              VARIE\n",
       "5767                   train app          PALESTRA               AUTO\n",
       "3846             insur mobil pay              HOME               AUTO\n",
       "3882                      servic              AUTO              VARIE\n",
       "4076          suitsuppli sweater           CLOTHES               AUTO\n",
       "5584               bastard café              VARIE               FOOD\n",
       "5413             transfer budget              HOME              VARIE\n",
       "4215               carolin insur              HOME              VARIE\n",
       "401           adattator prese uk             VARIE              SVAGO\n",
       "5130               dsb  vpt rka               AUTO              VARIE\n",
       "2333          gaustatoppen skien            VIAGGI               AUTO\n",
       "5775                    vuggestu             CHILD              VARIE\n",
       "512          prelievo parcheggio            VIAGGI               AUTO\n",
       "5555             aurland aurland             VARIE               AUTO\n",
       "3905           cours udemi swift             SVAGO              VARIE\n",
       "312          parcheggio niguarda            SALUTE               AUTO"
      ]
     },
     "execution_count": 283,
     "metadata": {},
     "output_type": "execute_result"
    }
   ],
   "source": [
    "comparison_df[comparison_df[\"Expected Category\"] != comparison_df[\"Predicted Category\"]].head(50)"
   ]
  },
  {
   "cell_type": "markdown",
   "id": "5e42539a-3fd0-4c30-94a6-9bd6ce9e47b1",
   "metadata": {},
   "source": [
    "### Trying One-hot encoding"
   ]
  },
  {
   "cell_type": "code",
   "execution_count": 298,
   "id": "f9794295-815b-4e01-97ca-6d114c338f3d",
   "metadata": {
    "tags": []
   },
   "outputs": [
    {
     "data": {
      "text/plain": [
       "4592                [medicin, oper]\n",
       "760                          [park]\n",
       "1081                      [contabo]\n",
       "116        [parcheggio, lampugnano]\n",
       "5697      [hk, handel, og, kontorf]\n",
       "                   ...             \n",
       "4406                 [super, vacat]\n",
       "421           [boat, tour, navigli]\n",
       "2011    [black, star, burger, perm]\n",
       "4648                  [supermarket]\n",
       "1623                [pant, bertoni]\n",
       "Name: split_tokens, Length: 3464, dtype: object"
      ]
     },
     "execution_count": 298,
     "metadata": {},
     "output_type": "execute_result"
    }
   ],
   "source": [
    "oh_train_df = train_df.copy()\n",
    "\n",
    "oh_train_df[\"split_tokens\"] = oh_train_df[\"tokens\"].apply(str.split)\n",
    "oh_train_df[\"split_tokens\"]"
   ]
  },
  {
   "cell_type": "code",
   "execution_count": 312,
   "id": "4b7ae4b3-8e97-4ddc-8d05-80240968f5f8",
   "metadata": {
    "tags": []
   },
   "outputs": [],
   "source": [
    "def create_vocab(list_of_tokens): \n",
    "    \"\"\"Creates a vocabulary dict of the list of tokens used in the training data. \n",
    "    \n",
    "    The dictionnary is an index dictionnary, that assign to each word an index. \n",
    "    The dictionnary is meant to be used for \"one-hot encoding\" or similar\n",
    "    \n",
    "    Returns\n",
    "     - (dict) where the key is the word and the value is the index\n",
    "    \"\"\"\n",
    "    \n",
    "    vocab = {}\n",
    "    \n",
    "    idx = 1\n",
    "    for l in list_of_tokens:\n",
    "        for token in l: \n",
    "            if token not in vocab.keys(): \n",
    "                vocab[token] = idx\n",
    "                idx += 1\n",
    "                \n",
    "    # Add the UNK word\n",
    "    vocab[\"UNK\"] = 0\n",
    "    \n",
    "    return vocab"
   ]
  },
  {
   "cell_type": "code",
   "execution_count": 313,
   "id": "330c9eeb-16d3-438a-a9f3-22dd652ea695",
   "metadata": {
    "tags": []
   },
   "outputs": [],
   "source": [
    "vocab = create_vocab(oh_train_df[\"split_tokens\"].values)"
   ]
  },
  {
   "cell_type": "code",
   "execution_count": 336,
   "id": "f2caed52-d3c7-41ac-8461-7a70dc267177",
   "metadata": {
    "tags": []
   },
   "outputs": [],
   "source": [
    "def custom_encode(words: list, vocab: dict, unknown_word: str = \"UNK\"): \n",
    "    \n",
    "    encoded_words = np.zeros(len(vocab))\n",
    "    \n",
    "    # Create an encoding of the words\n",
    "    for word in words: \n",
    "        if word in vocab.keys():\n",
    "            idx = vocab[word]\n",
    "        else:\n",
    "            idx = vocab[unknown_word]\n",
    "        \n",
    "        encoded_words[idx] = 1\n",
    "    \n",
    "    return encoded_words.tolist()\n",
    "    \n",
    "    "
   ]
  },
  {
   "cell_type": "code",
   "execution_count": 338,
   "id": "8a80f8b4-feec-47c8-a1a8-835048740493",
   "metadata": {
    "tags": []
   },
   "outputs": [],
   "source": [
    "# Quick test\n",
    "# custom_encode(\"parcheggio lampugnano\".split(), vocab)"
   ]
  },
  {
   "cell_type": "code",
   "execution_count": 339,
   "id": "3140b127-c014-4e1c-9d61-63804be13d8b",
   "metadata": {
    "tags": []
   },
   "outputs": [],
   "source": [
    "# Apply to training dataframe\n",
    "oh_train_df[\"encoded_tokens\"] = oh_train_df[\"split_tokens\"].apply(lambda x: custom_encode(x, vocab))"
   ]
  },
  {
   "cell_type": "code",
   "execution_count": 342,
   "id": "e058369c-99f6-498d-aca6-71fc05af0449",
   "metadata": {
    "tags": []
   },
   "outputs": [],
   "source": [
    "X_train = oh_train_df[\"encoded_tokens\"].values.tolist()\n",
    "Y_train = oh_train_df[\"category\"].values.tolist()"
   ]
  },
  {
   "cell_type": "code",
   "execution_count": 343,
   "id": "14037d06-e0fe-44cf-83a3-6ae295edd518",
   "metadata": {
    "tags": []
   },
   "outputs": [
    {
     "data": {
      "text/html": [
       "<style>#sk-container-id-11 {color: black;}#sk-container-id-11 pre{padding: 0;}#sk-container-id-11 div.sk-toggleable {background-color: white;}#sk-container-id-11 label.sk-toggleable__label {cursor: pointer;display: block;width: 100%;margin-bottom: 0;padding: 0.3em;box-sizing: border-box;text-align: center;}#sk-container-id-11 label.sk-toggleable__label-arrow:before {content: \"▸\";float: left;margin-right: 0.25em;color: #696969;}#sk-container-id-11 label.sk-toggleable__label-arrow:hover:before {color: black;}#sk-container-id-11 div.sk-estimator:hover label.sk-toggleable__label-arrow:before {color: black;}#sk-container-id-11 div.sk-toggleable__content {max-height: 0;max-width: 0;overflow: hidden;text-align: left;background-color: #f0f8ff;}#sk-container-id-11 div.sk-toggleable__content pre {margin: 0.2em;color: black;border-radius: 0.25em;background-color: #f0f8ff;}#sk-container-id-11 input.sk-toggleable__control:checked~div.sk-toggleable__content {max-height: 200px;max-width: 100%;overflow: auto;}#sk-container-id-11 input.sk-toggleable__control:checked~label.sk-toggleable__label-arrow:before {content: \"▾\";}#sk-container-id-11 div.sk-estimator input.sk-toggleable__control:checked~label.sk-toggleable__label {background-color: #d4ebff;}#sk-container-id-11 div.sk-label input.sk-toggleable__control:checked~label.sk-toggleable__label {background-color: #d4ebff;}#sk-container-id-11 input.sk-hidden--visually {border: 0;clip: rect(1px 1px 1px 1px);clip: rect(1px, 1px, 1px, 1px);height: 1px;margin: -1px;overflow: hidden;padding: 0;position: absolute;width: 1px;}#sk-container-id-11 div.sk-estimator {font-family: monospace;background-color: #f0f8ff;border: 1px dotted black;border-radius: 0.25em;box-sizing: border-box;margin-bottom: 0.5em;}#sk-container-id-11 div.sk-estimator:hover {background-color: #d4ebff;}#sk-container-id-11 div.sk-parallel-item::after {content: \"\";width: 100%;border-bottom: 1px solid gray;flex-grow: 1;}#sk-container-id-11 div.sk-label:hover label.sk-toggleable__label {background-color: #d4ebff;}#sk-container-id-11 div.sk-serial::before {content: \"\";position: absolute;border-left: 1px solid gray;box-sizing: border-box;top: 0;bottom: 0;left: 50%;z-index: 0;}#sk-container-id-11 div.sk-serial {display: flex;flex-direction: column;align-items: center;background-color: white;padding-right: 0.2em;padding-left: 0.2em;position: relative;}#sk-container-id-11 div.sk-item {position: relative;z-index: 1;}#sk-container-id-11 div.sk-parallel {display: flex;align-items: stretch;justify-content: center;background-color: white;position: relative;}#sk-container-id-11 div.sk-item::before, #sk-container-id-11 div.sk-parallel-item::before {content: \"\";position: absolute;border-left: 1px solid gray;box-sizing: border-box;top: 0;bottom: 0;left: 50%;z-index: -1;}#sk-container-id-11 div.sk-parallel-item {display: flex;flex-direction: column;z-index: 1;position: relative;background-color: white;}#sk-container-id-11 div.sk-parallel-item:first-child::after {align-self: flex-end;width: 50%;}#sk-container-id-11 div.sk-parallel-item:last-child::after {align-self: flex-start;width: 50%;}#sk-container-id-11 div.sk-parallel-item:only-child::after {width: 0;}#sk-container-id-11 div.sk-dashed-wrapped {border: 1px dashed gray;margin: 0 0.4em 0.5em 0.4em;box-sizing: border-box;padding-bottom: 0.4em;background-color: white;}#sk-container-id-11 div.sk-label label {font-family: monospace;font-weight: bold;display: inline-block;line-height: 1.2em;}#sk-container-id-11 div.sk-label-container {text-align: center;}#sk-container-id-11 div.sk-container {/* jupyter's `normalize.less` sets `[hidden] { display: none; }` but bootstrap.min.css set `[hidden] { display: none !important; }` so we also need the `!important` here to be able to override the default hidden behavior on the sphinx rendered scikit-learn.org. See: https://github.com/scikit-learn/scikit-learn/issues/21755 */display: inline-block !important;position: relative;}#sk-container-id-11 div.sk-text-repr-fallback {display: none;}</style><div id=\"sk-container-id-11\" class=\"sk-top-container\"><div class=\"sk-text-repr-fallback\"><pre>MultinomialNB()</pre><b>In a Jupyter environment, please rerun this cell to show the HTML representation or trust the notebook. <br />On GitHub, the HTML representation is unable to render, please try loading this page with nbviewer.org.</b></div><div class=\"sk-container\" hidden><div class=\"sk-item\"><div class=\"sk-estimator sk-toggleable\"><input class=\"sk-toggleable__control sk-hidden--visually\" id=\"sk-estimator-id-11\" type=\"checkbox\" checked><label for=\"sk-estimator-id-11\" class=\"sk-toggleable__label sk-toggleable__label-arrow\">MultinomialNB</label><div class=\"sk-toggleable__content\"><pre>MultinomialNB()</pre></div></div></div></div></div>"
      ],
      "text/plain": [
       "MultinomialNB()"
      ]
     },
     "execution_count": 343,
     "metadata": {},
     "output_type": "execute_result"
    }
   ],
   "source": [
    "model = MultinomialNB()\n",
    "model.fit(X_train, Y_train)"
   ]
  },
  {
   "cell_type": "code",
   "execution_count": 344,
   "id": "ebb5451f-fcaa-4462-8297-f226f82555e1",
   "metadata": {
    "tags": []
   },
   "outputs": [
    {
     "name": "stdout",
     "output_type": "stream",
     "text": [
      "Training accuracy: 1.0000\n",
      "Test accuracy: 0.7471\n"
     ]
    }
   ],
   "source": [
    "# Evaluate the accuracy of the model\n",
    "oh_test_df = test_df.copy()\n",
    "oh_test_df[\"split_tokens\"] = oh_test_df[\"tokens\"].apply(str.split)\n",
    "oh_test_df[\"encoded_tokens\"] = oh_test_df[\"split_tokens\"].apply(lambda x: custom_encode(x, vocab))\n",
    "\n",
    "X_test = oh_test_df[\"encoded_tokens\"].values.tolist()\n",
    "\n",
    "# 1. Predict \n",
    "Y_test = model.predict(X_test)\n",
    "Y_train_pred = model.predict(X_train)\n",
    "\n",
    "# 2. Evaluate\n",
    "accuracy = accuracy_score(oh_test_df[\"category\"], Y_test)\n",
    "train_accuracy = accuracy_score(oh_train_df[\"category\"], Y_train)\n",
    "\n",
    "print(f\"Training accuracy: {train_accuracy:.4f}\")\n",
    "print(f\"Test accuracy: {accuracy:.4f}\")"
   ]
  },
  {
   "cell_type": "markdown",
   "id": "9d9fce02-7cda-4edc-88fa-211e8acc4f56",
   "metadata": {},
   "source": [
    "# Saving the model"
   ]
  },
  {
   "cell_type": "code",
   "execution_count": 288,
   "id": "735d018a-f18d-44e6-8932-23c6e6c370b1",
   "metadata": {
    "tags": []
   },
   "outputs": [
    {
     "data": {
      "text/plain": [
       "array(['AUTO'], dtype='<U12')"
      ]
     },
     "execution_count": 288,
     "metadata": {},
     "output_type": "execute_result"
    }
   ],
   "source": [
    "my_X = binary_vectorizer.transform([\"benzina\"])\n",
    "model.predict(my_X)"
   ]
  },
  {
   "cell_type": "code",
   "execution_count": 90,
   "id": "18256d13-5b0f-4fcc-8c09-027e958f4cb6",
   "metadata": {
    "tags": []
   },
   "outputs": [],
   "source": [
    "with open(\"expcat-model-cbm\", \"wb\") as f: \n",
    "    pickle.dump(model, f)"
   ]
  },
  {
   "cell_type": "code",
   "execution_count": 91,
   "id": "9e0220eb-6296-4ac8-b22f-772077d584a9",
   "metadata": {
    "tags": []
   },
   "outputs": [],
   "source": [
    "with open(\"expcat-vect-cbm\", \"wb\") as  f:\n",
    "    pickle.dump(binary_vectorizer, f)"
   ]
  },
  {
   "cell_type": "code",
   "execution_count": 94,
   "id": "b2608abf-0d90-4760-b01d-47d0307b2bb4",
   "metadata": {
    "tags": []
   },
   "outputs": [],
   "source": [
    "stopwords_vocab = set(stopwords.words(\"danish\"))"
   ]
  },
  {
   "cell_type": "code",
   "execution_count": 95,
   "id": "5b905ed4-fa2b-46ab-8cd4-c78a6cf32fc9",
   "metadata": {
    "tags": []
   },
   "outputs": [],
   "source": [
    "with open(\"expcat-stopwords-cbm\", \"wb\") as f: \n",
    "    pickle.dump(stopwords_vocab, f)"
   ]
  },
  {
   "cell_type": "code",
   "execution_count": null,
   "id": "9e06934e-d4f8-420d-8fb8-88e7abe79d1f",
   "metadata": {},
   "outputs": [],
   "source": []
  }
 ],
 "metadata": {
  "kernelspec": {
   "display_name": "conda_tensorflow2_p310",
   "language": "python",
   "name": "conda_tensorflow2_p310"
  },
  "language_info": {
   "codemirror_mode": {
    "name": "ipython",
    "version": 3
   },
   "file_extension": ".py",
   "mimetype": "text/x-python",
   "name": "python",
   "nbconvert_exporter": "python",
   "pygments_lexer": "ipython3",
   "version": "3.10.12"
  }
 },
 "nbformat": 4,
 "nbformat_minor": 5
}
