{
 "cells": [
  {
   "cell_type": "markdown",
   "id": "3abc0a64-1c52-443b-92df-31dab25aead8",
   "metadata": {},
   "source": [
    "# Toto Expenses: Category Predictor"
   ]
  },
  {
   "cell_type": "code",
   "execution_count": 389,
   "id": "9505dab5-e185-4b93-bc40-6f54edd490ba",
   "metadata": {
    "tags": []
   },
   "outputs": [],
   "source": [
    "import sys\n",
    "import pickle"
   ]
  },
  {
   "cell_type": "code",
   "execution_count": 390,
   "id": "c837a70e-1762-411e-a8a2-7824fdb79220",
   "metadata": {
    "tags": []
   },
   "outputs": [
    {
     "name": "stderr",
     "output_type": "stream",
     "text": [
      "[nltk_data] Downloading package stopwords to\n",
      "[nltk_data]     /home/ec2-user/nltk_data...\n",
      "[nltk_data]   Package stopwords is already up-to-date!\n",
      "[nltk_data] Downloading package punkt to /home/ec2-user/nltk_data...\n",
      "[nltk_data]   Package punkt is already up-to-date!\n"
     ]
    }
   ],
   "source": [
    "import json\n",
    "import re\n",
    "import numpy as np\n",
    "import pandas as pd\n",
    "import seaborn as sns\n",
    "import matplotlib.pyplot as plt\n",
    "import nltk\n",
    "from nltk.stem import PorterStemmer\n",
    "from nltk.corpus import stopwords\n",
    "import string\n",
    "from sklearn.feature_extraction.text import TfidfVectorizer, CountVectorizer\n",
    "from sklearn.naive_bayes import MultinomialNB\n",
    "from sklearn.model_selection import train_test_split\n",
    "from sklearn.metrics import accuracy_score\n",
    "import warnings\n",
    "\n",
    "nltk.download('stopwords')\n",
    "nltk.download('punkt')\n",
    "\n",
    "%matplotlib inline"
   ]
  },
  {
   "cell_type": "markdown",
   "id": "0f5ebf1d-5954-435b-8b74-3e11bdd63076",
   "metadata": {},
   "source": [
    "---\n",
    "## Data Analysis"
   ]
  },
  {
   "cell_type": "code",
   "execution_count": 391,
   "id": "e7c15ef6-c0fd-4a83-8e38-b442f035bcb4",
   "metadata": {
    "tags": []
   },
   "outputs": [],
   "source": [
    "# Ingestion of the Expenses in dict objects\n",
    "def transform_line(line): \n",
    "    expense = json.loads(line)\n",
    "    return expense"
   ]
  },
  {
   "cell_type": "code",
   "execution_count": 392,
   "id": "c9ceb714-397c-4699-be93-fb41b02ad87f",
   "metadata": {
    "tags": []
   },
   "outputs": [],
   "source": [
    "# Read the data from the backup file\n",
    "# Save it into a list\n",
    "def ingest_data(filename):\n",
    "    data = []\n",
    "    \n",
    "    with open(filename, \"r\") as file: \n",
    "        for idx, line in enumerate(file):\n",
    "            expense = transform_line(line)\n",
    "            \n",
    "            data.append(expense)\n",
    "    \n",
    "    return data\n",
    "        "
   ]
  },
  {
   "cell_type": "code",
   "execution_count": 393,
   "id": "d15b1abc-7ed4-4044-94da-aadf08498ba0",
   "metadata": {
    "tags": []
   },
   "outputs": [],
   "source": [
    "def to_dataframe(data: list):\n",
    "    return pd.DataFrame(data)\n",
    "    "
   ]
  },
  {
   "cell_type": "code",
   "execution_count": 394,
   "id": "df80bdc2-d91c-4781-9a25-ad8bb4fa7864",
   "metadata": {
    "tags": []
   },
   "outputs": [],
   "source": [
    "df = to_dataframe(ingest_data(\"expenses.json\"))"
   ]
  },
  {
   "cell_type": "code",
   "execution_count": 395,
   "id": "c65f1158-303f-40a4-bbda-6d45e87219ca",
   "metadata": {
    "tags": []
   },
   "outputs": [
    {
     "data": {
      "text/html": [
       "<div>\n",
       "<style scoped>\n",
       "    .dataframe tbody tr th:only-of-type {\n",
       "        vertical-align: middle;\n",
       "    }\n",
       "\n",
       "    .dataframe tbody tr th {\n",
       "        vertical-align: top;\n",
       "    }\n",
       "\n",
       "    .dataframe thead th {\n",
       "        text-align: right;\n",
       "    }\n",
       "</style>\n",
       "<table border=\"1\" class=\"dataframe\">\n",
       "  <thead>\n",
       "    <tr style=\"text-align: right;\">\n",
       "      <th></th>\n",
       "      <th>_id</th>\n",
       "      <th>amount</th>\n",
       "      <th>date</th>\n",
       "      <th>category</th>\n",
       "      <th>description</th>\n",
       "      <th>creditMom</th>\n",
       "      <th>creditOther</th>\n",
       "      <th>yearMonth</th>\n",
       "      <th>currency</th>\n",
       "      <th>amountInEuro</th>\n",
       "      <th>user</th>\n",
       "      <th>monthly</th>\n",
       "      <th>subscriptionId</th>\n",
       "      <th>consolidated</th>\n",
       "      <th>cardId</th>\n",
       "      <th>cardMonth</th>\n",
       "      <th>weekendId</th>\n",
       "      <th>cardYear</th>\n",
       "      <th>additionalData</th>\n",
       "      <th>tags</th>\n",
       "    </tr>\n",
       "  </thead>\n",
       "  <tbody>\n",
       "    <tr>\n",
       "      <th>0</th>\n",
       "      <td>583dd4f72ab79c00017d9895</td>\n",
       "      <td>14.35</td>\n",
       "      <td>20161128</td>\n",
       "      <td>SUPERMERCATO</td>\n",
       "      <td>Supermercato (Esselunga)</td>\n",
       "      <td>NaN</td>\n",
       "      <td>NaN</td>\n",
       "      <td>201612</td>\n",
       "      <td>EUR</td>\n",
       "      <td>14.35</td>\n",
       "      <td>nicolas.matteazzi@gmail.com</td>\n",
       "      <td>False</td>\n",
       "      <td>NaN</td>\n",
       "      <td>NaN</td>\n",
       "      <td>NaN</td>\n",
       "      <td>NaN</td>\n",
       "      <td>NaN</td>\n",
       "      <td>NaN</td>\n",
       "      <td>NaN</td>\n",
       "      <td>NaN</td>\n",
       "    </tr>\n",
       "    <tr>\n",
       "      <th>1</th>\n",
       "      <td>583dd5382ab79c00017d9897</td>\n",
       "      <td>15.00</td>\n",
       "      <td>20161128</td>\n",
       "      <td>VIAGGI</td>\n",
       "      <td>Ricarica Prepagata (Boston hotel)</td>\n",
       "      <td>NaN</td>\n",
       "      <td>NaN</td>\n",
       "      <td>201612</td>\n",
       "      <td>EUR</td>\n",
       "      <td>15.00</td>\n",
       "      <td>nicolas.matteazzi@gmail.com</td>\n",
       "      <td>False</td>\n",
       "      <td>NaN</td>\n",
       "      <td>NaN</td>\n",
       "      <td>NaN</td>\n",
       "      <td>NaN</td>\n",
       "      <td>NaN</td>\n",
       "      <td>NaN</td>\n",
       "      <td>NaN</td>\n",
       "      <td>NaN</td>\n",
       "    </tr>\n",
       "  </tbody>\n",
       "</table>\n",
       "</div>"
      ],
      "text/plain": [
       "                        _id  amount      date      category  \\\n",
       "0  583dd4f72ab79c00017d9895   14.35  20161128  SUPERMERCATO   \n",
       "1  583dd5382ab79c00017d9897   15.00  20161128        VIAGGI   \n",
       "\n",
       "                         description  creditMom  creditOther  yearMonth  \\\n",
       "0           Supermercato (Esselunga)        NaN          NaN     201612   \n",
       "1  Ricarica Prepagata (Boston hotel)        NaN          NaN     201612   \n",
       "\n",
       "  currency  amountInEuro                         user monthly subscriptionId  \\\n",
       "0      EUR         14.35  nicolas.matteazzi@gmail.com   False            NaN   \n",
       "1      EUR         15.00  nicolas.matteazzi@gmail.com   False            NaN   \n",
       "\n",
       "  consolidated cardId cardMonth weekendId cardYear additionalData tags  \n",
       "0          NaN    NaN       NaN       NaN      NaN            NaN  NaN  \n",
       "1          NaN    NaN       NaN       NaN      NaN            NaN  NaN  "
      ]
     },
     "execution_count": 395,
     "metadata": {},
     "output_type": "execute_result"
    }
   ],
   "source": [
    "df.head(2)"
   ]
  },
  {
   "cell_type": "code",
   "execution_count": 396,
   "id": "3994b453-bfc4-498c-8b00-a5f897382b68",
   "metadata": {
    "tags": []
   },
   "outputs": [
    {
     "data": {
      "text/html": [
       "<div>\n",
       "<style scoped>\n",
       "    .dataframe tbody tr th:only-of-type {\n",
       "        vertical-align: middle;\n",
       "    }\n",
       "\n",
       "    .dataframe tbody tr th {\n",
       "        vertical-align: top;\n",
       "    }\n",
       "\n",
       "    .dataframe thead th {\n",
       "        text-align: right;\n",
       "    }\n",
       "</style>\n",
       "<table border=\"1\" class=\"dataframe\">\n",
       "  <thead>\n",
       "    <tr style=\"text-align: right;\">\n",
       "      <th></th>\n",
       "      <th>description</th>\n",
       "      <th>category</th>\n",
       "    </tr>\n",
       "  </thead>\n",
       "  <tbody>\n",
       "    <tr>\n",
       "      <th>5776</th>\n",
       "      <td>Google Photos</td>\n",
       "      <td>SVAGO</td>\n",
       "    </tr>\n",
       "    <tr>\n",
       "      <th>5777</th>\n",
       "      <td>Adobe</td>\n",
       "      <td>SVAGO</td>\n",
       "    </tr>\n",
       "    <tr>\n",
       "      <th>5778</th>\n",
       "      <td>Car insurance</td>\n",
       "      <td>AUTO</td>\n",
       "    </tr>\n",
       "    <tr>\n",
       "      <th>5779</th>\n",
       "      <td>Apple Tv+</td>\n",
       "      <td>SVAGO</td>\n",
       "    </tr>\n",
       "    <tr>\n",
       "      <th>5780</th>\n",
       "      <td>Mc Donald</td>\n",
       "      <td>FOOD</td>\n",
       "    </tr>\n",
       "  </tbody>\n",
       "</table>\n",
       "</div>"
      ],
      "text/plain": [
       "        description category\n",
       "5776  Google Photos    SVAGO\n",
       "5777          Adobe    SVAGO\n",
       "5778  Car insurance     AUTO\n",
       "5779      Apple Tv+    SVAGO\n",
       "5780      Mc Donald     FOOD"
      ]
     },
     "execution_count": 396,
     "metadata": {},
     "output_type": "execute_result"
    }
   ],
   "source": [
    "features = df[df[\"user\"] == \"nicolas.matteazzi@gmail.com\"][[\"description\", \"category\"]]\n",
    "features.tail(5)"
   ]
  },
  {
   "cell_type": "markdown",
   "id": "7067bbdb-27b6-4814-a84e-44f66e54ce4c",
   "metadata": {},
   "source": [
    "### Vectorizing the Descriptions\n",
    "The vectorization process basically:\n",
    " * splits all descriptions into tokens and \n",
    " * perform **stemming**\n"
   ]
  },
  {
   "cell_type": "code",
   "execution_count": 397,
   "id": "a1f5dd7c-9949-44ff-8550-34ae681b608e",
   "metadata": {
    "tags": []
   },
   "outputs": [],
   "source": [
    "stopwords_vocab = set(stopwords.words(\"english\")).union(set(stopwords.words(\"italian\")))\n",
    "# stopwords_vocab = set(stopwords.words(\"danish\"))\n",
    "punctuation_symbols = list(string.punctuation)"
   ]
  },
  {
   "cell_type": "code",
   "execution_count": 398,
   "id": "ae713a8d-e4b8-4f35-9f3b-3dec13af5b07",
   "metadata": {
    "tags": []
   },
   "outputs": [],
   "source": [
    "stemmer = PorterStemmer()"
   ]
  },
  {
   "cell_type": "code",
   "execution_count": 399,
   "id": "5a6dd220-d8bb-451e-84e8-d0ab21a60331",
   "metadata": {
    "tags": []
   },
   "outputs": [],
   "source": [
    "def tokenize(desc): \n",
    "    '''\n",
    "    Tokenizes a description and applies the following:\n",
    "     - removes stop words\n",
    "     - removes useless characters (e.g. '-')\n",
    "     - stems the word\n",
    "    '''\n",
    "    # Split descriptions into tokens\n",
    "    tokens = desc.split()\n",
    "    \n",
    "    # Prepare to remove any punctuation in the word\n",
    "    translation_table = str.maketrans('', '', ''.join(punctuation_symbols))\n",
    "    \n",
    "    # Filter out stopwords, remove numeric characters from the word\n",
    "    tokens = [re.sub(r'\\d', '', word.lower().translate(translation_table)) for word in tokens if word.lower() not in stopwords_vocab]\n",
    "    tokens = [word for word in tokens if word not in punctuation_symbols and not word.isdigit()]\n",
    "    \n",
    "    \n",
    "    # Perform stemming\n",
    "    tokens = [stemmer.stem(word) for word in tokens]\n",
    "    \n",
    "    # Join the tokens, as needed by TF-IDF\n",
    "    tokens = \" \".join(tokens)\n",
    "    \n",
    "    return tokens"
   ]
  },
  {
   "cell_type": "code",
   "execution_count": 400,
   "id": "ae572b4f-d317-41df-9be0-292688c4c3cc",
   "metadata": {
    "tags": []
   },
   "outputs": [],
   "source": [
    "# Create a new column \"tokens\" that contains the processed descriptions\n",
    "features.loc[:,\"tokens\"] = features[\"description\"].apply(tokenize)"
   ]
  },
  {
   "cell_type": "code",
   "execution_count": 401,
   "id": "b09b1867-ab64-46ee-968f-c796acb37e81",
   "metadata": {
    "tags": []
   },
   "outputs": [
    {
     "data": {
      "text/html": [
       "<div>\n",
       "<style scoped>\n",
       "    .dataframe tbody tr th:only-of-type {\n",
       "        vertical-align: middle;\n",
       "    }\n",
       "\n",
       "    .dataframe tbody tr th {\n",
       "        vertical-align: top;\n",
       "    }\n",
       "\n",
       "    .dataframe thead th {\n",
       "        text-align: right;\n",
       "    }\n",
       "</style>\n",
       "<table border=\"1\" class=\"dataframe\">\n",
       "  <thead>\n",
       "    <tr style=\"text-align: right;\">\n",
       "      <th></th>\n",
       "      <th>description</th>\n",
       "      <th>category</th>\n",
       "      <th>tokens</th>\n",
       "    </tr>\n",
       "  </thead>\n",
       "  <tbody>\n",
       "    <tr>\n",
       "      <th>3628</th>\n",
       "      <td>Vitamins</td>\n",
       "      <td>SALUTE</td>\n",
       "      <td>vitamin</td>\n",
       "    </tr>\n",
       "    <tr>\n",
       "      <th>3629</th>\n",
       "      <td>Benzina</td>\n",
       "      <td>AUTO</td>\n",
       "      <td>benzina</td>\n",
       "    </tr>\n",
       "    <tr>\n",
       "      <th>3630</th>\n",
       "      <td>B Skat</td>\n",
       "      <td>VARIE</td>\n",
       "      <td>b skat</td>\n",
       "    </tr>\n",
       "    <tr>\n",
       "      <th>3632</th>\n",
       "      <td>Books Amazon</td>\n",
       "      <td>SVAGO</td>\n",
       "      <td>book amazon</td>\n",
       "    </tr>\n",
       "    <tr>\n",
       "      <th>3633</th>\n",
       "      <td>Vacations Cannes Hot</td>\n",
       "      <td>VIAGGI</td>\n",
       "      <td>vacat cann hot</td>\n",
       "    </tr>\n",
       "    <tr>\n",
       "      <th>3634</th>\n",
       "      <td>Supermarket</td>\n",
       "      <td>SUPERMERCATO</td>\n",
       "      <td>supermarket</td>\n",
       "    </tr>\n",
       "    <tr>\n",
       "      <th>3639</th>\n",
       "      <td>Supermarket</td>\n",
       "      <td>SUPERMERCATO</td>\n",
       "      <td>supermarket</td>\n",
       "    </tr>\n",
       "    <tr>\n",
       "      <th>3640</th>\n",
       "      <td>Parking</td>\n",
       "      <td>AUTO</td>\n",
       "      <td>park</td>\n",
       "    </tr>\n",
       "    <tr>\n",
       "      <th>3641</th>\n",
       "      <td>Bastard cafe</td>\n",
       "      <td>USCITE</td>\n",
       "      <td>bastard cafe</td>\n",
       "    </tr>\n",
       "    <tr>\n",
       "      <th>3654</th>\n",
       "      <td>Insurances</td>\n",
       "      <td>HOME</td>\n",
       "      <td>insur</td>\n",
       "    </tr>\n",
       "  </tbody>\n",
       "</table>\n",
       "</div>"
      ],
      "text/plain": [
       "               description      category          tokens\n",
       "3628              Vitamins        SALUTE         vitamin\n",
       "3629              Benzina           AUTO         benzina\n",
       "3630                B Skat         VARIE          b skat\n",
       "3632          Books Amazon         SVAGO     book amazon\n",
       "3633  Vacations Cannes Hot        VIAGGI  vacat cann hot\n",
       "3634          Supermarket   SUPERMERCATO     supermarket\n",
       "3639          Supermarket   SUPERMERCATO     supermarket\n",
       "3640               Parking          AUTO            park\n",
       "3641          Bastard cafe        USCITE    bastard cafe\n",
       "3654            Insurances          HOME           insur"
      ]
     },
     "execution_count": 401,
     "metadata": {},
     "output_type": "execute_result"
    }
   ],
   "source": [
    "range_low = np.random.randint(0, len(features))\n",
    "features.iloc[range_low:range_low + 10]"
   ]
  },
  {
   "cell_type": "code",
   "execution_count": 402,
   "id": "ceea0ba5-df7a-4d1c-9eff-d885e0e48948",
   "metadata": {
    "tags": []
   },
   "outputs": [],
   "source": [
    "# Split the dataset between test and train\n",
    "train_df, test_df = train_test_split(features, test_size=0.2)"
   ]
  },
  {
   "cell_type": "code",
   "execution_count": 403,
   "id": "aa1dd54b-a071-4b1c-afe0-d859199be378",
   "metadata": {
    "tags": []
   },
   "outputs": [],
   "source": [
    "# Vectorize the tokens both for test and train datasets\n",
    "tfidf_vectorizer = TfidfVectorizer()\n",
    "\n",
    "X_train = tfidf_vectorizer.fit_transform(train_df[\"tokens\"])\n",
    "\n",
    "# Here we only transform because we need to consider the test set as if it was \n",
    "# a new set of data, not seen by the model\n",
    "X_test = tfidf_vectorizer.transform(test_df[\"tokens\"])\n"
   ]
  },
  {
   "cell_type": "code",
   "execution_count": 404,
   "id": "ee9fb59f-e94b-4518-b40a-d52b65addfa7",
   "metadata": {
    "tags": []
   },
   "outputs": [
    {
     "data": {
      "text/html": [
       "<style>#sk-container-id-17 {color: black;}#sk-container-id-17 pre{padding: 0;}#sk-container-id-17 div.sk-toggleable {background-color: white;}#sk-container-id-17 label.sk-toggleable__label {cursor: pointer;display: block;width: 100%;margin-bottom: 0;padding: 0.3em;box-sizing: border-box;text-align: center;}#sk-container-id-17 label.sk-toggleable__label-arrow:before {content: \"▸\";float: left;margin-right: 0.25em;color: #696969;}#sk-container-id-17 label.sk-toggleable__label-arrow:hover:before {color: black;}#sk-container-id-17 div.sk-estimator:hover label.sk-toggleable__label-arrow:before {color: black;}#sk-container-id-17 div.sk-toggleable__content {max-height: 0;max-width: 0;overflow: hidden;text-align: left;background-color: #f0f8ff;}#sk-container-id-17 div.sk-toggleable__content pre {margin: 0.2em;color: black;border-radius: 0.25em;background-color: #f0f8ff;}#sk-container-id-17 input.sk-toggleable__control:checked~div.sk-toggleable__content {max-height: 200px;max-width: 100%;overflow: auto;}#sk-container-id-17 input.sk-toggleable__control:checked~label.sk-toggleable__label-arrow:before {content: \"▾\";}#sk-container-id-17 div.sk-estimator input.sk-toggleable__control:checked~label.sk-toggleable__label {background-color: #d4ebff;}#sk-container-id-17 div.sk-label input.sk-toggleable__control:checked~label.sk-toggleable__label {background-color: #d4ebff;}#sk-container-id-17 input.sk-hidden--visually {border: 0;clip: rect(1px 1px 1px 1px);clip: rect(1px, 1px, 1px, 1px);height: 1px;margin: -1px;overflow: hidden;padding: 0;position: absolute;width: 1px;}#sk-container-id-17 div.sk-estimator {font-family: monospace;background-color: #f0f8ff;border: 1px dotted black;border-radius: 0.25em;box-sizing: border-box;margin-bottom: 0.5em;}#sk-container-id-17 div.sk-estimator:hover {background-color: #d4ebff;}#sk-container-id-17 div.sk-parallel-item::after {content: \"\";width: 100%;border-bottom: 1px solid gray;flex-grow: 1;}#sk-container-id-17 div.sk-label:hover label.sk-toggleable__label {background-color: #d4ebff;}#sk-container-id-17 div.sk-serial::before {content: \"\";position: absolute;border-left: 1px solid gray;box-sizing: border-box;top: 0;bottom: 0;left: 50%;z-index: 0;}#sk-container-id-17 div.sk-serial {display: flex;flex-direction: column;align-items: center;background-color: white;padding-right: 0.2em;padding-left: 0.2em;position: relative;}#sk-container-id-17 div.sk-item {position: relative;z-index: 1;}#sk-container-id-17 div.sk-parallel {display: flex;align-items: stretch;justify-content: center;background-color: white;position: relative;}#sk-container-id-17 div.sk-item::before, #sk-container-id-17 div.sk-parallel-item::before {content: \"\";position: absolute;border-left: 1px solid gray;box-sizing: border-box;top: 0;bottom: 0;left: 50%;z-index: -1;}#sk-container-id-17 div.sk-parallel-item {display: flex;flex-direction: column;z-index: 1;position: relative;background-color: white;}#sk-container-id-17 div.sk-parallel-item:first-child::after {align-self: flex-end;width: 50%;}#sk-container-id-17 div.sk-parallel-item:last-child::after {align-self: flex-start;width: 50%;}#sk-container-id-17 div.sk-parallel-item:only-child::after {width: 0;}#sk-container-id-17 div.sk-dashed-wrapped {border: 1px dashed gray;margin: 0 0.4em 0.5em 0.4em;box-sizing: border-box;padding-bottom: 0.4em;background-color: white;}#sk-container-id-17 div.sk-label label {font-family: monospace;font-weight: bold;display: inline-block;line-height: 1.2em;}#sk-container-id-17 div.sk-label-container {text-align: center;}#sk-container-id-17 div.sk-container {/* jupyter's `normalize.less` sets `[hidden] { display: none; }` but bootstrap.min.css set `[hidden] { display: none !important; }` so we also need the `!important` here to be able to override the default hidden behavior on the sphinx rendered scikit-learn.org. See: https://github.com/scikit-learn/scikit-learn/issues/21755 */display: inline-block !important;position: relative;}#sk-container-id-17 div.sk-text-repr-fallback {display: none;}</style><div id=\"sk-container-id-17\" class=\"sk-top-container\"><div class=\"sk-text-repr-fallback\"><pre>MultinomialNB()</pre><b>In a Jupyter environment, please rerun this cell to show the HTML representation or trust the notebook. <br />On GitHub, the HTML representation is unable to render, please try loading this page with nbviewer.org.</b></div><div class=\"sk-container\" hidden><div class=\"sk-item\"><div class=\"sk-estimator sk-toggleable\"><input class=\"sk-toggleable__control sk-hidden--visually\" id=\"sk-estimator-id-17\" type=\"checkbox\" checked><label for=\"sk-estimator-id-17\" class=\"sk-toggleable__label sk-toggleable__label-arrow\">MultinomialNB</label><div class=\"sk-toggleable__content\"><pre>MultinomialNB()</pre></div></div></div></div></div>"
      ],
      "text/plain": [
       "MultinomialNB()"
      ]
     },
     "execution_count": 404,
     "metadata": {},
     "output_type": "execute_result"
    }
   ],
   "source": [
    "model = MultinomialNB()\n",
    "model.fit(X_train, train_df[\"category\"])"
   ]
  },
  {
   "cell_type": "code",
   "execution_count": 405,
   "id": "78260bea-096e-4f6a-aa03-e6ae681df405",
   "metadata": {
    "tags": []
   },
   "outputs": [
    {
     "name": "stdout",
     "output_type": "stream",
     "text": [
      "0.733256351039261\n"
     ]
    }
   ],
   "source": [
    "# Evaluate the accuracy of the model\n",
    "# 1. Predict \n",
    "Y_test = model.predict(X_test)\n",
    "\n",
    "# 2. Evaluate\n",
    "accuracy = accuracy_score(test_df[\"category\"], Y_test)\n",
    "\n",
    "print(accuracy)"
   ]
  },
  {
   "cell_type": "markdown",
   "id": "dbf08b3d-0f37-47a0-bf75-6661f265ddc2",
   "metadata": {},
   "source": [
    "### Trying a different vectorizer"
   ]
  },
  {
   "cell_type": "code",
   "execution_count": 406,
   "id": "59181640-3bfb-4c94-b43a-2e42ad2faaf5",
   "metadata": {
    "tags": []
   },
   "outputs": [],
   "source": [
    "binary_vectorizer = CountVectorizer(binary=True)\n",
    "\n",
    "X_train = binary_vectorizer.fit_transform(train_df[\"tokens\"])\n",
    "X_test = binary_vectorizer.transform(test_df[\"tokens\"])\n"
   ]
  },
  {
   "cell_type": "code",
   "execution_count": 407,
   "id": "92e0b2d3-5068-4c35-bbb6-431928bc19f5",
   "metadata": {
    "tags": []
   },
   "outputs": [
    {
     "data": {
      "text/plain": [
       "4385                  autorout\n",
       "3155                 bridg fyn\n",
       "4990                   currenc\n",
       "1463                       dvd\n",
       "709      parcheggio lampugnano\n",
       "                 ...          \n",
       "5139                          \n",
       "4439             lunett soleil\n",
       "1351                     fotex\n",
       "4045                photo caro\n",
       "128     supermercato esselunga\n",
       "Name: tokens, Length: 3464, dtype: object"
      ]
     },
     "execution_count": 407,
     "metadata": {},
     "output_type": "execute_result"
    }
   ],
   "source": [
    "train_df[\"tokens\"]"
   ]
  },
  {
   "cell_type": "code",
   "execution_count": 408,
   "id": "8d5faaf3-7416-4bbb-a654-c8e0b8e37958",
   "metadata": {
    "tags": []
   },
   "outputs": [
    {
     "data": {
      "text/html": [
       "<style>#sk-container-id-18 {color: black;}#sk-container-id-18 pre{padding: 0;}#sk-container-id-18 div.sk-toggleable {background-color: white;}#sk-container-id-18 label.sk-toggleable__label {cursor: pointer;display: block;width: 100%;margin-bottom: 0;padding: 0.3em;box-sizing: border-box;text-align: center;}#sk-container-id-18 label.sk-toggleable__label-arrow:before {content: \"▸\";float: left;margin-right: 0.25em;color: #696969;}#sk-container-id-18 label.sk-toggleable__label-arrow:hover:before {color: black;}#sk-container-id-18 div.sk-estimator:hover label.sk-toggleable__label-arrow:before {color: black;}#sk-container-id-18 div.sk-toggleable__content {max-height: 0;max-width: 0;overflow: hidden;text-align: left;background-color: #f0f8ff;}#sk-container-id-18 div.sk-toggleable__content pre {margin: 0.2em;color: black;border-radius: 0.25em;background-color: #f0f8ff;}#sk-container-id-18 input.sk-toggleable__control:checked~div.sk-toggleable__content {max-height: 200px;max-width: 100%;overflow: auto;}#sk-container-id-18 input.sk-toggleable__control:checked~label.sk-toggleable__label-arrow:before {content: \"▾\";}#sk-container-id-18 div.sk-estimator input.sk-toggleable__control:checked~label.sk-toggleable__label {background-color: #d4ebff;}#sk-container-id-18 div.sk-label input.sk-toggleable__control:checked~label.sk-toggleable__label {background-color: #d4ebff;}#sk-container-id-18 input.sk-hidden--visually {border: 0;clip: rect(1px 1px 1px 1px);clip: rect(1px, 1px, 1px, 1px);height: 1px;margin: -1px;overflow: hidden;padding: 0;position: absolute;width: 1px;}#sk-container-id-18 div.sk-estimator {font-family: monospace;background-color: #f0f8ff;border: 1px dotted black;border-radius: 0.25em;box-sizing: border-box;margin-bottom: 0.5em;}#sk-container-id-18 div.sk-estimator:hover {background-color: #d4ebff;}#sk-container-id-18 div.sk-parallel-item::after {content: \"\";width: 100%;border-bottom: 1px solid gray;flex-grow: 1;}#sk-container-id-18 div.sk-label:hover label.sk-toggleable__label {background-color: #d4ebff;}#sk-container-id-18 div.sk-serial::before {content: \"\";position: absolute;border-left: 1px solid gray;box-sizing: border-box;top: 0;bottom: 0;left: 50%;z-index: 0;}#sk-container-id-18 div.sk-serial {display: flex;flex-direction: column;align-items: center;background-color: white;padding-right: 0.2em;padding-left: 0.2em;position: relative;}#sk-container-id-18 div.sk-item {position: relative;z-index: 1;}#sk-container-id-18 div.sk-parallel {display: flex;align-items: stretch;justify-content: center;background-color: white;position: relative;}#sk-container-id-18 div.sk-item::before, #sk-container-id-18 div.sk-parallel-item::before {content: \"\";position: absolute;border-left: 1px solid gray;box-sizing: border-box;top: 0;bottom: 0;left: 50%;z-index: -1;}#sk-container-id-18 div.sk-parallel-item {display: flex;flex-direction: column;z-index: 1;position: relative;background-color: white;}#sk-container-id-18 div.sk-parallel-item:first-child::after {align-self: flex-end;width: 50%;}#sk-container-id-18 div.sk-parallel-item:last-child::after {align-self: flex-start;width: 50%;}#sk-container-id-18 div.sk-parallel-item:only-child::after {width: 0;}#sk-container-id-18 div.sk-dashed-wrapped {border: 1px dashed gray;margin: 0 0.4em 0.5em 0.4em;box-sizing: border-box;padding-bottom: 0.4em;background-color: white;}#sk-container-id-18 div.sk-label label {font-family: monospace;font-weight: bold;display: inline-block;line-height: 1.2em;}#sk-container-id-18 div.sk-label-container {text-align: center;}#sk-container-id-18 div.sk-container {/* jupyter's `normalize.less` sets `[hidden] { display: none; }` but bootstrap.min.css set `[hidden] { display: none !important; }` so we also need the `!important` here to be able to override the default hidden behavior on the sphinx rendered scikit-learn.org. See: https://github.com/scikit-learn/scikit-learn/issues/21755 */display: inline-block !important;position: relative;}#sk-container-id-18 div.sk-text-repr-fallback {display: none;}</style><div id=\"sk-container-id-18\" class=\"sk-top-container\"><div class=\"sk-text-repr-fallback\"><pre>MultinomialNB()</pre><b>In a Jupyter environment, please rerun this cell to show the HTML representation or trust the notebook. <br />On GitHub, the HTML representation is unable to render, please try loading this page with nbviewer.org.</b></div><div class=\"sk-container\" hidden><div class=\"sk-item\"><div class=\"sk-estimator sk-toggleable\"><input class=\"sk-toggleable__control sk-hidden--visually\" id=\"sk-estimator-id-18\" type=\"checkbox\" checked><label for=\"sk-estimator-id-18\" class=\"sk-toggleable__label sk-toggleable__label-arrow\">MultinomialNB</label><div class=\"sk-toggleable__content\"><pre>MultinomialNB()</pre></div></div></div></div></div>"
      ],
      "text/plain": [
       "MultinomialNB()"
      ]
     },
     "execution_count": 408,
     "metadata": {},
     "output_type": "execute_result"
    }
   ],
   "source": [
    "model = MultinomialNB()\n",
    "model.fit(X_train, train_df[\"category\"])"
   ]
  },
  {
   "cell_type": "code",
   "execution_count": 409,
   "id": "a69478ba-748f-4b96-a586-8968e6af79a5",
   "metadata": {
    "tags": []
   },
   "outputs": [
    {
     "name": "stdout",
     "output_type": "stream",
     "text": [
      "Training accuracy: 0.8591\n",
      "Test accuracy: 0.7517\n"
     ]
    }
   ],
   "source": [
    "# Evaluate the accuracy of the model\n",
    "# 1. Predict \n",
    "Y_test = model.predict(X_test)\n",
    "Y_train = model.predict(X_train)\n",
    "\n",
    "# 2. Evaluate\n",
    "accuracy = accuracy_score(test_df[\"category\"], Y_test)\n",
    "train_accuracy = accuracy_score(train_df[\"category\"], Y_train)\n",
    "\n",
    "print(f\"Training accuracy: {train_accuracy:.4f}\")\n",
    "print(f\"Test accuracy: {accuracy:.4f}\")"
   ]
  },
  {
   "cell_type": "code",
   "execution_count": 460,
   "id": "1e4b765f-1720-4b68-886d-73dc40075a85",
   "metadata": {
    "tags": []
   },
   "outputs": [],
   "source": [
    "def check_misclassifications(test_df, Y_test): \n",
    "    comparison_df = pd.DataFrame(data={\"Description\": test_df[\"description\"], \"Tokens\": test_df[\"tokens\"], \"Expected Category\": test_df[\"category\"], \"Predicted Category\": Y_test})\n",
    "    return comparison_df[comparison_df[\"Expected Category\"] != comparison_df[\"Predicted Category\"]]"
   ]
  },
  {
   "cell_type": "markdown",
   "id": "5e42539a-3fd0-4c30-94a6-9bd6ce9e47b1",
   "metadata": {},
   "source": [
    "### Trying One-hot encoding"
   ]
  },
  {
   "cell_type": "code",
   "execution_count": 412,
   "id": "f9794295-815b-4e01-97ca-6d114c338f3d",
   "metadata": {
    "tags": []
   },
   "outputs": [
    {
     "data": {
      "text/plain": [
       "4385                   [autorout]\n",
       "3155                 [bridg, fyn]\n",
       "4990                    [currenc]\n",
       "1463                        [dvd]\n",
       "709      [parcheggio, lampugnano]\n",
       "                  ...            \n",
       "5139                           []\n",
       "4439             [lunett, soleil]\n",
       "1351                      [fotex]\n",
       "4045                [photo, caro]\n",
       "128     [supermercato, esselunga]\n",
       "Name: split_tokens, Length: 3464, dtype: object"
      ]
     },
     "execution_count": 412,
     "metadata": {},
     "output_type": "execute_result"
    }
   ],
   "source": [
    "oh_train_df = train_df.copy()\n",
    "\n",
    "oh_train_df[\"split_tokens\"] = oh_train_df[\"tokens\"].apply(str.split)\n",
    "oh_train_df[\"split_tokens\"]"
   ]
  },
  {
   "cell_type": "code",
   "execution_count": 413,
   "id": "4b7ae4b3-8e97-4ddc-8d05-80240968f5f8",
   "metadata": {
    "tags": []
   },
   "outputs": [],
   "source": [
    "def create_vocab(list_of_tokens): \n",
    "    \"\"\"Creates a vocabulary dict of the list of tokens used in the training data. \n",
    "    \n",
    "    The dictionnary is an index dictionnary, that assign to each word an index. \n",
    "    The dictionnary is meant to be used for \"one-hot encoding\" or similar\n",
    "    \n",
    "    Returns\n",
    "     - (dict) where the key is the word and the value is the index\n",
    "    \"\"\"\n",
    "    \n",
    "    vocab = {}\n",
    "    \n",
    "    idx = 1\n",
    "    for l in list_of_tokens:\n",
    "        for token in l: \n",
    "            if token not in vocab.keys(): \n",
    "                vocab[token] = idx\n",
    "                idx += 1\n",
    "                \n",
    "    # Add the UNK word\n",
    "    vocab[\"UNK\"] = 0\n",
    "    \n",
    "    return vocab"
   ]
  },
  {
   "cell_type": "code",
   "execution_count": 414,
   "id": "330c9eeb-16d3-438a-a9f3-22dd652ea695",
   "metadata": {
    "tags": []
   },
   "outputs": [],
   "source": [
    "vocab = create_vocab(oh_train_df[\"split_tokens\"].values)"
   ]
  },
  {
   "cell_type": "code",
   "execution_count": 415,
   "id": "f2caed52-d3c7-41ac-8461-7a70dc267177",
   "metadata": {
    "tags": []
   },
   "outputs": [],
   "source": [
    "def custom_encode(words: list, vocab: dict, unknown_word: str = \"UNK\"): \n",
    "    \n",
    "    encoded_words = np.zeros(len(vocab))\n",
    "    \n",
    "    # Create an encoding of the words\n",
    "    for word in words: \n",
    "        if word in vocab.keys():\n",
    "            idx = vocab[word]\n",
    "        else:\n",
    "            idx = vocab[unknown_word]\n",
    "        \n",
    "        encoded_words[idx] = 1\n",
    "    \n",
    "    return encoded_words.tolist()\n",
    "    \n",
    "    "
   ]
  },
  {
   "cell_type": "code",
   "execution_count": 416,
   "id": "8a80f8b4-feec-47c8-a1a8-835048740493",
   "metadata": {
    "tags": []
   },
   "outputs": [],
   "source": [
    "# Quick test\n",
    "# custom_encode(\"parcheggio lampugnano\".split(), vocab)"
   ]
  },
  {
   "cell_type": "code",
   "execution_count": 417,
   "id": "3140b127-c014-4e1c-9d61-63804be13d8b",
   "metadata": {
    "tags": []
   },
   "outputs": [],
   "source": [
    "# Apply to training dataframe\n",
    "oh_train_df[\"encoded_tokens\"] = oh_train_df[\"split_tokens\"].apply(lambda x: custom_encode(x, vocab))"
   ]
  },
  {
   "cell_type": "code",
   "execution_count": 418,
   "id": "e058369c-99f6-498d-aca6-71fc05af0449",
   "metadata": {
    "tags": []
   },
   "outputs": [],
   "source": [
    "X_train = oh_train_df[\"encoded_tokens\"].values.tolist()\n",
    "Y_train = oh_train_df[\"category\"].values.tolist()"
   ]
  },
  {
   "cell_type": "code",
   "execution_count": 419,
   "id": "14037d06-e0fe-44cf-83a3-6ae295edd518",
   "metadata": {
    "tags": []
   },
   "outputs": [
    {
     "data": {
      "text/html": [
       "<style>#sk-container-id-19 {color: black;}#sk-container-id-19 pre{padding: 0;}#sk-container-id-19 div.sk-toggleable {background-color: white;}#sk-container-id-19 label.sk-toggleable__label {cursor: pointer;display: block;width: 100%;margin-bottom: 0;padding: 0.3em;box-sizing: border-box;text-align: center;}#sk-container-id-19 label.sk-toggleable__label-arrow:before {content: \"▸\";float: left;margin-right: 0.25em;color: #696969;}#sk-container-id-19 label.sk-toggleable__label-arrow:hover:before {color: black;}#sk-container-id-19 div.sk-estimator:hover label.sk-toggleable__label-arrow:before {color: black;}#sk-container-id-19 div.sk-toggleable__content {max-height: 0;max-width: 0;overflow: hidden;text-align: left;background-color: #f0f8ff;}#sk-container-id-19 div.sk-toggleable__content pre {margin: 0.2em;color: black;border-radius: 0.25em;background-color: #f0f8ff;}#sk-container-id-19 input.sk-toggleable__control:checked~div.sk-toggleable__content {max-height: 200px;max-width: 100%;overflow: auto;}#sk-container-id-19 input.sk-toggleable__control:checked~label.sk-toggleable__label-arrow:before {content: \"▾\";}#sk-container-id-19 div.sk-estimator input.sk-toggleable__control:checked~label.sk-toggleable__label {background-color: #d4ebff;}#sk-container-id-19 div.sk-label input.sk-toggleable__control:checked~label.sk-toggleable__label {background-color: #d4ebff;}#sk-container-id-19 input.sk-hidden--visually {border: 0;clip: rect(1px 1px 1px 1px);clip: rect(1px, 1px, 1px, 1px);height: 1px;margin: -1px;overflow: hidden;padding: 0;position: absolute;width: 1px;}#sk-container-id-19 div.sk-estimator {font-family: monospace;background-color: #f0f8ff;border: 1px dotted black;border-radius: 0.25em;box-sizing: border-box;margin-bottom: 0.5em;}#sk-container-id-19 div.sk-estimator:hover {background-color: #d4ebff;}#sk-container-id-19 div.sk-parallel-item::after {content: \"\";width: 100%;border-bottom: 1px solid gray;flex-grow: 1;}#sk-container-id-19 div.sk-label:hover label.sk-toggleable__label {background-color: #d4ebff;}#sk-container-id-19 div.sk-serial::before {content: \"\";position: absolute;border-left: 1px solid gray;box-sizing: border-box;top: 0;bottom: 0;left: 50%;z-index: 0;}#sk-container-id-19 div.sk-serial {display: flex;flex-direction: column;align-items: center;background-color: white;padding-right: 0.2em;padding-left: 0.2em;position: relative;}#sk-container-id-19 div.sk-item {position: relative;z-index: 1;}#sk-container-id-19 div.sk-parallel {display: flex;align-items: stretch;justify-content: center;background-color: white;position: relative;}#sk-container-id-19 div.sk-item::before, #sk-container-id-19 div.sk-parallel-item::before {content: \"\";position: absolute;border-left: 1px solid gray;box-sizing: border-box;top: 0;bottom: 0;left: 50%;z-index: -1;}#sk-container-id-19 div.sk-parallel-item {display: flex;flex-direction: column;z-index: 1;position: relative;background-color: white;}#sk-container-id-19 div.sk-parallel-item:first-child::after {align-self: flex-end;width: 50%;}#sk-container-id-19 div.sk-parallel-item:last-child::after {align-self: flex-start;width: 50%;}#sk-container-id-19 div.sk-parallel-item:only-child::after {width: 0;}#sk-container-id-19 div.sk-dashed-wrapped {border: 1px dashed gray;margin: 0 0.4em 0.5em 0.4em;box-sizing: border-box;padding-bottom: 0.4em;background-color: white;}#sk-container-id-19 div.sk-label label {font-family: monospace;font-weight: bold;display: inline-block;line-height: 1.2em;}#sk-container-id-19 div.sk-label-container {text-align: center;}#sk-container-id-19 div.sk-container {/* jupyter's `normalize.less` sets `[hidden] { display: none; }` but bootstrap.min.css set `[hidden] { display: none !important; }` so we also need the `!important` here to be able to override the default hidden behavior on the sphinx rendered scikit-learn.org. See: https://github.com/scikit-learn/scikit-learn/issues/21755 */display: inline-block !important;position: relative;}#sk-container-id-19 div.sk-text-repr-fallback {display: none;}</style><div id=\"sk-container-id-19\" class=\"sk-top-container\"><div class=\"sk-text-repr-fallback\"><pre>MultinomialNB()</pre><b>In a Jupyter environment, please rerun this cell to show the HTML representation or trust the notebook. <br />On GitHub, the HTML representation is unable to render, please try loading this page with nbviewer.org.</b></div><div class=\"sk-container\" hidden><div class=\"sk-item\"><div class=\"sk-estimator sk-toggleable\"><input class=\"sk-toggleable__control sk-hidden--visually\" id=\"sk-estimator-id-19\" type=\"checkbox\" checked><label for=\"sk-estimator-id-19\" class=\"sk-toggleable__label sk-toggleable__label-arrow\">MultinomialNB</label><div class=\"sk-toggleable__content\"><pre>MultinomialNB()</pre></div></div></div></div></div>"
      ],
      "text/plain": [
       "MultinomialNB()"
      ]
     },
     "execution_count": 419,
     "metadata": {},
     "output_type": "execute_result"
    }
   ],
   "source": [
    "model = MultinomialNB()\n",
    "model.fit(X_train, Y_train)"
   ]
  },
  {
   "cell_type": "code",
   "execution_count": 420,
   "id": "ebb5451f-fcaa-4462-8297-f226f82555e1",
   "metadata": {
    "tags": []
   },
   "outputs": [
    {
     "name": "stdout",
     "output_type": "stream",
     "text": [
      "Training accuracy: 1.0000\n",
      "Test accuracy: 0.7529\n"
     ]
    }
   ],
   "source": [
    "# Evaluate the accuracy of the model\n",
    "oh_test_df = test_df.copy()\n",
    "oh_test_df[\"split_tokens\"] = oh_test_df[\"tokens\"].apply(str.split)\n",
    "oh_test_df[\"encoded_tokens\"] = oh_test_df[\"split_tokens\"].apply(lambda x: custom_encode(x, vocab))\n",
    "\n",
    "X_test = oh_test_df[\"encoded_tokens\"].values.tolist()\n",
    "\n",
    "# 1. Predict \n",
    "Y_test = model.predict(X_test)\n",
    "Y_train_pred = model.predict(X_train)\n",
    "\n",
    "# 2. Evaluate\n",
    "accuracy = accuracy_score(oh_test_df[\"category\"], Y_test)\n",
    "train_accuracy = accuracy_score(oh_train_df[\"category\"], Y_train)\n",
    "\n",
    "print(f\"Training accuracy: {train_accuracy:.4f}\")\n",
    "print(f\"Test accuracy: {accuracy:.4f}\")"
   ]
  },
  {
   "cell_type": "markdown",
   "id": "9ba5e50b-da24-4480-8714-3c990db2c25f",
   "metadata": {},
   "source": [
    "### Trying other models (RF, MLP, etc..)"
   ]
  },
  {
   "cell_type": "markdown",
   "id": "ecb634af-192d-4b10-85a0-6a68704d5e1a",
   "metadata": {},
   "source": [
    "This still uses the custom vectorization"
   ]
  },
  {
   "cell_type": "code",
   "execution_count": 421,
   "id": "644556ba-a0f2-4c39-b4bc-175daf367a2f",
   "metadata": {
    "tags": []
   },
   "outputs": [],
   "source": [
    "from sklearn.ensemble import RandomForestClassifier\n",
    "from sklearn.neural_network import MLPClassifier"
   ]
  },
  {
   "cell_type": "code",
   "execution_count": 453,
   "id": "25bfdeaa-a04a-474d-bef4-fd47ce83a0e2",
   "metadata": {
    "tags": []
   },
   "outputs": [
    {
     "name": "stdout",
     "output_type": "stream",
     "text": [
      "Training accuracy: 1.0000\n",
      "Test accuracy: 0.8106\n"
     ]
    }
   ],
   "source": [
    "rf_model = RandomForestClassifier(n_estimators=100)\n",
    "\n",
    "rf_model.fit(X_train, Y_train)\n",
    "\n",
    "# 1. Predict \n",
    "Y_test = rf_model.predict(X_test)\n",
    "Y_train_pred = rf_model.predict(X_train)\n",
    "\n",
    "# 2. Evaluate\n",
    "accuracy = accuracy_score(oh_test_df[\"category\"], Y_test)\n",
    "train_accuracy = accuracy_score(oh_train_df[\"category\"], Y_train)\n",
    "\n",
    "print(f\"Training accuracy: {train_accuracy:.4f}\")\n",
    "print(f\"Test accuracy: {accuracy:.4f}\")"
   ]
  },
  {
   "cell_type": "code",
   "execution_count": 450,
   "id": "32636d8c-1525-4b1d-a28b-c99f871ea7ce",
   "metadata": {
    "tags": []
   },
   "outputs": [
    {
     "name": "stdout",
     "output_type": "stream",
     "text": [
      "Training accuracy: 1.0000\n",
      "Test accuracy: 0.8187\n"
     ]
    }
   ],
   "source": [
    "mlp_model = MLPClassifier(hidden_layer_sizes=(50, 25), max_iter=500, random_state=23, alpha=0.1)\n",
    "\n",
    "mlp_model.fit(X_train, Y_train)\n",
    "\n",
    "# 1. Predict \n",
    "Y_test = mlp_model.predict(X_test)\n",
    "Y_train_pred = mlp_model.predict(X_train)\n",
    "\n",
    "# 2. Evaluate\n",
    "accuracy = accuracy_score(oh_test_df[\"category\"], Y_test)\n",
    "train_accuracy = accuracy_score(oh_train_df[\"category\"], Y_train)\n",
    "\n",
    "print(f\"Training accuracy: {train_accuracy:.4f}\")\n",
    "print(f\"Test accuracy: {accuracy:.4f}\")"
   ]
  },
  {
   "cell_type": "markdown",
   "id": "90039790-0366-44da-8073-ca3b7b40f4c6",
   "metadata": {},
   "source": [
    "It really looks like MLPClassifier has by far the **highest test accuracy** of all the models. <br>\n",
    "Even though it clearly overfits the training set, it seems to be performing quite ok on the test set. \n",
    "\n",
    "We can try to run Grid Search on MLP"
   ]
  },
  {
   "cell_type": "code",
   "execution_count": 425,
   "id": "03ebf988-7f8a-4223-a081-143534dad96d",
   "metadata": {
    "tags": []
   },
   "outputs": [],
   "source": [
    "from sklearn.model_selection import GridSearchCV"
   ]
  },
  {
   "cell_type": "code",
   "execution_count": 442,
   "id": "45a39560-e18d-41ee-8050-1a452c1a3ca3",
   "metadata": {
    "tags": []
   },
   "outputs": [],
   "source": [
    "def fine_tune_mlp(): \n",
    "    mlp_grid_model = GridSearchCV(\n",
    "        MLPClassifier(\n",
    "            max_iter=500, \n",
    "            hidden_layer_sizes=(50, 25), \n",
    "            alpha=0.0001, \n",
    "            random_state=23\n",
    "        ), \n",
    "        param_grid={\n",
    "            #\"hidden_layer_sizes\": [(50, 20), (50, 25), (60, 25)],\n",
    "            \"alpha\": [0.0001, 0.001, 0.01]\n",
    "        }\n",
    "    )\n",
    "\n",
    "    mlp_grid_model.fit(X_train, Y_train)\n",
    "\n",
    "    # 1. Predict \n",
    "    Y_test = mlp_grid_model.predict(X_test)\n",
    "    Y_train_pred = mlp_grid_model.predict(X_train)\n",
    "\n",
    "    # 2. Evaluate\n",
    "    accuracy = accuracy_score(oh_test_df[\"category\"], Y_test)\n",
    "    train_accuracy = accuracy_score(oh_train_df[\"category\"], Y_train)\n",
    "\n",
    "    print(f\"Training accuracy: {train_accuracy:.4f}\")\n",
    "    print(f\"Test accuracy: {accuracy:.4f}\")\n",
    "    \n",
    "    print(f\"Best Parameters: {mlp_grid_model.best_params_}\")\n",
    "\n",
    "    return mlp_grid_model.best_estimator_"
   ]
  },
  {
   "cell_type": "code",
   "execution_count": 441,
   "id": "5d890e66-a44a-4a24-afc5-5478567ff81a",
   "metadata": {
    "tags": []
   },
   "outputs": [
    {
     "name": "stdout",
     "output_type": "stream",
     "text": [
      "Training accuracy: 1.0000\n",
      "Test accuracy: 0.8141\n",
      "Best Parameters: {'alpha': 0.0001}\n"
     ]
    },
    {
     "data": {
      "text/html": [
       "<style>#sk-container-id-21 {color: black;}#sk-container-id-21 pre{padding: 0;}#sk-container-id-21 div.sk-toggleable {background-color: white;}#sk-container-id-21 label.sk-toggleable__label {cursor: pointer;display: block;width: 100%;margin-bottom: 0;padding: 0.3em;box-sizing: border-box;text-align: center;}#sk-container-id-21 label.sk-toggleable__label-arrow:before {content: \"▸\";float: left;margin-right: 0.25em;color: #696969;}#sk-container-id-21 label.sk-toggleable__label-arrow:hover:before {color: black;}#sk-container-id-21 div.sk-estimator:hover label.sk-toggleable__label-arrow:before {color: black;}#sk-container-id-21 div.sk-toggleable__content {max-height: 0;max-width: 0;overflow: hidden;text-align: left;background-color: #f0f8ff;}#sk-container-id-21 div.sk-toggleable__content pre {margin: 0.2em;color: black;border-radius: 0.25em;background-color: #f0f8ff;}#sk-container-id-21 input.sk-toggleable__control:checked~div.sk-toggleable__content {max-height: 200px;max-width: 100%;overflow: auto;}#sk-container-id-21 input.sk-toggleable__control:checked~label.sk-toggleable__label-arrow:before {content: \"▾\";}#sk-container-id-21 div.sk-estimator input.sk-toggleable__control:checked~label.sk-toggleable__label {background-color: #d4ebff;}#sk-container-id-21 div.sk-label input.sk-toggleable__control:checked~label.sk-toggleable__label {background-color: #d4ebff;}#sk-container-id-21 input.sk-hidden--visually {border: 0;clip: rect(1px 1px 1px 1px);clip: rect(1px, 1px, 1px, 1px);height: 1px;margin: -1px;overflow: hidden;padding: 0;position: absolute;width: 1px;}#sk-container-id-21 div.sk-estimator {font-family: monospace;background-color: #f0f8ff;border: 1px dotted black;border-radius: 0.25em;box-sizing: border-box;margin-bottom: 0.5em;}#sk-container-id-21 div.sk-estimator:hover {background-color: #d4ebff;}#sk-container-id-21 div.sk-parallel-item::after {content: \"\";width: 100%;border-bottom: 1px solid gray;flex-grow: 1;}#sk-container-id-21 div.sk-label:hover label.sk-toggleable__label {background-color: #d4ebff;}#sk-container-id-21 div.sk-serial::before {content: \"\";position: absolute;border-left: 1px solid gray;box-sizing: border-box;top: 0;bottom: 0;left: 50%;z-index: 0;}#sk-container-id-21 div.sk-serial {display: flex;flex-direction: column;align-items: center;background-color: white;padding-right: 0.2em;padding-left: 0.2em;position: relative;}#sk-container-id-21 div.sk-item {position: relative;z-index: 1;}#sk-container-id-21 div.sk-parallel {display: flex;align-items: stretch;justify-content: center;background-color: white;position: relative;}#sk-container-id-21 div.sk-item::before, #sk-container-id-21 div.sk-parallel-item::before {content: \"\";position: absolute;border-left: 1px solid gray;box-sizing: border-box;top: 0;bottom: 0;left: 50%;z-index: -1;}#sk-container-id-21 div.sk-parallel-item {display: flex;flex-direction: column;z-index: 1;position: relative;background-color: white;}#sk-container-id-21 div.sk-parallel-item:first-child::after {align-self: flex-end;width: 50%;}#sk-container-id-21 div.sk-parallel-item:last-child::after {align-self: flex-start;width: 50%;}#sk-container-id-21 div.sk-parallel-item:only-child::after {width: 0;}#sk-container-id-21 div.sk-dashed-wrapped {border: 1px dashed gray;margin: 0 0.4em 0.5em 0.4em;box-sizing: border-box;padding-bottom: 0.4em;background-color: white;}#sk-container-id-21 div.sk-label label {font-family: monospace;font-weight: bold;display: inline-block;line-height: 1.2em;}#sk-container-id-21 div.sk-label-container {text-align: center;}#sk-container-id-21 div.sk-container {/* jupyter's `normalize.less` sets `[hidden] { display: none; }` but bootstrap.min.css set `[hidden] { display: none !important; }` so we also need the `!important` here to be able to override the default hidden behavior on the sphinx rendered scikit-learn.org. See: https://github.com/scikit-learn/scikit-learn/issues/21755 */display: inline-block !important;position: relative;}#sk-container-id-21 div.sk-text-repr-fallback {display: none;}</style><div id=\"sk-container-id-21\" class=\"sk-top-container\"><div class=\"sk-text-repr-fallback\"><pre>MLPClassifier(max_iter=500, random_state=23)</pre><b>In a Jupyter environment, please rerun this cell to show the HTML representation or trust the notebook. <br />On GitHub, the HTML representation is unable to render, please try loading this page with nbviewer.org.</b></div><div class=\"sk-container\" hidden><div class=\"sk-item\"><div class=\"sk-estimator sk-toggleable\"><input class=\"sk-toggleable__control sk-hidden--visually\" id=\"sk-estimator-id-21\" type=\"checkbox\" checked><label for=\"sk-estimator-id-21\" class=\"sk-toggleable__label sk-toggleable__label-arrow\">MLPClassifier</label><div class=\"sk-toggleable__content\"><pre>MLPClassifier(max_iter=500, random_state=23)</pre></div></div></div></div></div>"
      ],
      "text/plain": [
       "MLPClassifier(max_iter=500, random_state=23)"
      ]
     },
     "execution_count": 441,
     "metadata": {},
     "output_type": "execute_result"
    }
   ],
   "source": [
    "# fine_tune_mlp()"
   ]
  },
  {
   "cell_type": "code",
   "execution_count": 462,
   "id": "ad25ffe4-55c6-4b3c-8694-5e1ba7bc293d",
   "metadata": {
    "tags": []
   },
   "outputs": [
    {
     "data": {
      "text/html": [
       "<div>\n",
       "<style scoped>\n",
       "    .dataframe tbody tr th:only-of-type {\n",
       "        vertical-align: middle;\n",
       "    }\n",
       "\n",
       "    .dataframe tbody tr th {\n",
       "        vertical-align: top;\n",
       "    }\n",
       "\n",
       "    .dataframe thead th {\n",
       "        text-align: right;\n",
       "    }\n",
       "</style>\n",
       "<table border=\"1\" class=\"dataframe\">\n",
       "  <thead>\n",
       "    <tr style=\"text-align: right;\">\n",
       "      <th></th>\n",
       "      <th>Description</th>\n",
       "      <th>Tokens</th>\n",
       "      <th>Expected Category</th>\n",
       "      <th>Predicted Category</th>\n",
       "    </tr>\n",
       "  </thead>\n",
       "  <tbody>\n",
       "    <tr>\n",
       "      <th>4583</th>\n",
       "      <td>H&amp;M</td>\n",
       "      <td>hm</td>\n",
       "      <td>CLOTHES</td>\n",
       "      <td>VARIE</td>\n",
       "    </tr>\n",
       "    <tr>\n",
       "      <th>3782</th>\n",
       "      <td>Caroline house expenses</td>\n",
       "      <td>carolin hous expens</td>\n",
       "      <td>HOME</td>\n",
       "      <td>XMAS</td>\n",
       "    </tr>\n",
       "    <tr>\n",
       "      <th>3147</th>\n",
       "      <td>Pesi fitness</td>\n",
       "      <td>pesi fit</td>\n",
       "      <td>PALESTRA</td>\n",
       "      <td>VARIE</td>\n",
       "    </tr>\n",
       "    <tr>\n",
       "      <th>5529</th>\n",
       "      <td>LA HUNESTGERMAIN PARIS 6</td>\n",
       "      <td>hunestgermain pari</td>\n",
       "      <td>VIAGGI</td>\n",
       "      <td>VARIE</td>\n",
       "    </tr>\n",
       "    <tr>\n",
       "      <th>4915</th>\n",
       "      <td>Baby car seat</td>\n",
       "      <td>babi car seat</td>\n",
       "      <td>CHILD</td>\n",
       "      <td>AUTO</td>\n",
       "    </tr>\n",
       "    <tr>\n",
       "      <th>359</th>\n",
       "      <td>Prelievo Bancomat Orio</td>\n",
       "      <td>prelievo bancomat orio</td>\n",
       "      <td>VIAGGI</td>\n",
       "      <td>VARIE</td>\n",
       "    </tr>\n",
       "    <tr>\n",
       "      <th>2389</th>\n",
       "      <td>BURGER KING �09866 Q07\\ \\MI...</td>\n",
       "      <td>burger king � q mi</td>\n",
       "      <td>VIAGGI</td>\n",
       "      <td>FOOD</td>\n",
       "    </tr>\n",
       "    <tr>\n",
       "      <th>4757</th>\n",
       "      <td>Thermometer</td>\n",
       "      <td>thermomet</td>\n",
       "      <td>SALUTE</td>\n",
       "      <td>VARIE</td>\n",
       "    </tr>\n",
       "    <tr>\n",
       "      <th>3203</th>\n",
       "      <td>Raccomandata per grondaia</td>\n",
       "      <td>raccomandata grondaia</td>\n",
       "      <td>HOME</td>\n",
       "      <td>VARIE</td>\n",
       "    </tr>\n",
       "    <tr>\n",
       "      <th>5500</th>\n",
       "      <td>LIM RIDE COST DUBLIN</td>\n",
       "      <td>lim ride cost dublin</td>\n",
       "      <td>VARIE</td>\n",
       "      <td>VIAGGI</td>\n",
       "    </tr>\n",
       "    <tr>\n",
       "      <th>4510</th>\n",
       "      <td>Pisa dolciumi</td>\n",
       "      <td>pisa dolciumi</td>\n",
       "      <td>VIAGGI</td>\n",
       "      <td>VARIE</td>\n",
       "    </tr>\n",
       "    <tr>\n",
       "      <th>5022</th>\n",
       "      <td>Dog griseøre</td>\n",
       "      <td>dog griseør</td>\n",
       "      <td>PET</td>\n",
       "      <td>VARIE</td>\n",
       "    </tr>\n",
       "    <tr>\n",
       "      <th>1430</th>\n",
       "      <td>Fitness dk</td>\n",
       "      <td>fit dk</td>\n",
       "      <td>PALESTRA</td>\n",
       "      <td>VARIE</td>\n",
       "    </tr>\n",
       "    <tr>\n",
       "      <th>5005</th>\n",
       "      <td>Silvan</td>\n",
       "      <td>silvan</td>\n",
       "      <td>HOME</td>\n",
       "      <td>FURNITURE</td>\n",
       "    </tr>\n",
       "    <tr>\n",
       "      <th>5491</th>\n",
       "      <td>SHELL 8511 SITTENSEN</td>\n",
       "      <td>shell  sittensen</td>\n",
       "      <td>VARIE</td>\n",
       "      <td>VIAGGI</td>\n",
       "    </tr>\n",
       "    <tr>\n",
       "      <th>3296</th>\n",
       "      <td>Car2go</td>\n",
       "      <td>cargo</td>\n",
       "      <td>VIAGGI</td>\n",
       "      <td>AUTO</td>\n",
       "    </tr>\n",
       "    <tr>\n",
       "      <th>3612</th>\n",
       "      <td>Wood</td>\n",
       "      <td>wood</td>\n",
       "      <td>HOME</td>\n",
       "      <td>FURNITURE</td>\n",
       "    </tr>\n",
       "    <tr>\n",
       "      <th>5613</th>\n",
       "      <td>Google CLOUD_01B4E4 C33D8 Milan</td>\n",
       "      <td>googl cloudb cd milan</td>\n",
       "      <td>VARIE</td>\n",
       "      <td>SVAGO</td>\n",
       "    </tr>\n",
       "    <tr>\n",
       "      <th>4215</th>\n",
       "      <td>Caroline Insurances</td>\n",
       "      <td>carolin insur</td>\n",
       "      <td>HOME</td>\n",
       "      <td>XMAS</td>\n",
       "    </tr>\n",
       "    <tr>\n",
       "      <th>513</th>\n",
       "      <td>Essence</td>\n",
       "      <td>essenc</td>\n",
       "      <td>VIAGGI</td>\n",
       "      <td>VARIE</td>\n",
       "    </tr>\n",
       "    <tr>\n",
       "      <th>910</th>\n",
       "      <td>Rejsekort</td>\n",
       "      <td>rejsekort</td>\n",
       "      <td>VIAGGI</td>\n",
       "      <td>VARIE</td>\n",
       "    </tr>\n",
       "    <tr>\n",
       "      <th>5548</th>\n",
       "      <td>ESSO LAERDAL LAERDAL</td>\n",
       "      <td>esso laerdal laerdal</td>\n",
       "      <td>VIAGGI</td>\n",
       "      <td>VARIE</td>\n",
       "    </tr>\n",
       "    <tr>\n",
       "      <th>1543</th>\n",
       "      <td>Brandina</td>\n",
       "      <td>brandina</td>\n",
       "      <td>FURNITURE</td>\n",
       "      <td>VARIE</td>\n",
       "    </tr>\n",
       "    <tr>\n",
       "      <th>2407</th>\n",
       "      <td>AL.JANA PAWLA II 27\\ \\WARSZ...</td>\n",
       "      <td>aljana pawla ii  warsz</td>\n",
       "      <td>VIAGGI</td>\n",
       "      <td>VARIE</td>\n",
       "    </tr>\n",
       "    <tr>\n",
       "      <th>2330</th>\n",
       "      <td>INGO VASBYG.4      71927</td>\n",
       "      <td>ingo vasbyg</td>\n",
       "      <td>VIAGGI</td>\n",
       "      <td>VARIE</td>\n",
       "    </tr>\n",
       "    <tr>\n",
       "      <th>4647</th>\n",
       "      <td>Bandaid</td>\n",
       "      <td>bandaid</td>\n",
       "      <td>SALUTE</td>\n",
       "      <td>VARIE</td>\n",
       "    </tr>\n",
       "    <tr>\n",
       "      <th>3215</th>\n",
       "      <td>Parq</td>\n",
       "      <td>parq</td>\n",
       "      <td>AUTO</td>\n",
       "      <td>VARIE</td>\n",
       "    </tr>\n",
       "    <tr>\n",
       "      <th>9</th>\n",
       "      <td>Groupon - Acquisto scarpe</td>\n",
       "      <td>groupon  acquisto scarp</td>\n",
       "      <td>CLOTHES</td>\n",
       "      <td>VARIE</td>\n",
       "    </tr>\n",
       "    <tr>\n",
       "      <th>3490</th>\n",
       "      <td>Bauhaus</td>\n",
       "      <td>bauhau</td>\n",
       "      <td>FURNITURE</td>\n",
       "      <td>HOME</td>\n",
       "    </tr>\n",
       "    <tr>\n",
       "      <th>5729</th>\n",
       "      <td>Transfer to budget</td>\n",
       "      <td>transfer budget</td>\n",
       "      <td>HOME</td>\n",
       "      <td>VARIE</td>\n",
       "    </tr>\n",
       "    <tr>\n",
       "      <th>5540</th>\n",
       "      <td>Øresundsbroen m SE 18961</td>\n",
       "      <td>øresundsbroen</td>\n",
       "      <td>VIAGGI</td>\n",
       "      <td>VARIE</td>\n",
       "    </tr>\n",
       "    <tr>\n",
       "      <th>4148</th>\n",
       "      <td>Dog stuff</td>\n",
       "      <td>dog stuff</td>\n",
       "      <td>PET</td>\n",
       "      <td>VARIE</td>\n",
       "    </tr>\n",
       "    <tr>\n",
       "      <th>3905</th>\n",
       "      <td>Course Udemy Swift</td>\n",
       "      <td>cours udemi swift</td>\n",
       "      <td>SVAGO</td>\n",
       "      <td>VARIE</td>\n",
       "    </tr>\n",
       "    <tr>\n",
       "      <th>5537</th>\n",
       "      <td>AMZN Mktp DE AD8YN2C15 AMAZON DE</td>\n",
       "      <td>amzn mktp de adync amazon de</td>\n",
       "      <td>VARIE</td>\n",
       "      <td>SVAGO</td>\n",
       "    </tr>\n",
       "    <tr>\n",
       "      <th>2329</th>\n",
       "      <td>BEITOST�LEN RES\\ \\BEITOST�L...</td>\n",
       "      <td>beitost�len re beitost�l</td>\n",
       "      <td>VIAGGI</td>\n",
       "      <td>VARIE</td>\n",
       "    </tr>\n",
       "    <tr>\n",
       "      <th>5563</th>\n",
       "      <td>Google Dublin</td>\n",
       "      <td>googl dublin</td>\n",
       "      <td>VARIE</td>\n",
       "      <td>SVAGO</td>\n",
       "    </tr>\n",
       "    <tr>\n",
       "      <th>1874</th>\n",
       "      <td>Ganci per mobile</td>\n",
       "      <td>ganci mobil</td>\n",
       "      <td>FURNITURE</td>\n",
       "      <td>VARIE</td>\n",
       "    </tr>\n",
       "    <tr>\n",
       "      <th>2707</th>\n",
       "      <td>Improv commedy</td>\n",
       "      <td>improv commedi</td>\n",
       "      <td>USCITE</td>\n",
       "      <td>VARIE</td>\n",
       "    </tr>\n",
       "    <tr>\n",
       "      <th>1331</th>\n",
       "      <td>Fitness.dk</td>\n",
       "      <td>fitnessdk</td>\n",
       "      <td>PALESTRA</td>\n",
       "      <td>VARIE</td>\n",
       "    </tr>\n",
       "    <tr>\n",
       "      <th>5304</th>\n",
       "      <td>EASYJET AIR 000000K1VM42C</td>\n",
       "      <td>easyjet air kvmc</td>\n",
       "      <td>VIAGGI</td>\n",
       "      <td>VARIE</td>\n",
       "    </tr>\n",
       "    <tr>\n",
       "      <th>193</th>\n",
       "      <td>Biglietti per La La Land</td>\n",
       "      <td>biglietti land</td>\n",
       "      <td>USCITE</td>\n",
       "      <td>VARIE</td>\n",
       "    </tr>\n",
       "    <tr>\n",
       "      <th>1863</th>\n",
       "      <td>Ago vet</td>\n",
       "      <td>ago vet</td>\n",
       "      <td>VARIE</td>\n",
       "      <td>PET</td>\n",
       "    </tr>\n",
       "    <tr>\n",
       "      <th>375</th>\n",
       "      <td>Muren Stockholm</td>\n",
       "      <td>muren stockholm</td>\n",
       "      <td>VIAGGI</td>\n",
       "      <td>VARIE</td>\n",
       "    </tr>\n",
       "    <tr>\n",
       "      <th>5436</th>\n",
       "      <td>GOOGLE CLOUD_01B4E4 C</td>\n",
       "      <td>googl cloudb</td>\n",
       "      <td>VARIE</td>\n",
       "      <td>SVAGO</td>\n",
       "    </tr>\n",
       "    <tr>\n",
       "      <th>5145</th>\n",
       "      <td>Fisketorvet Føtex 11606</td>\n",
       "      <td>fisketorvet føtex</td>\n",
       "      <td>VARIE</td>\n",
       "      <td>SUPERMERCATO</td>\n",
       "    </tr>\n",
       "    <tr>\n",
       "      <th>5425</th>\n",
       "      <td>AMZN Mktp DE OZ0G03H35</td>\n",
       "      <td>amzn mktp de ozgh</td>\n",
       "      <td>VARIE</td>\n",
       "      <td>SVAGO</td>\n",
       "    </tr>\n",
       "    <tr>\n",
       "      <th>3170</th>\n",
       "      <td>Antica Fonte</td>\n",
       "      <td>antica font</td>\n",
       "      <td>VIAGGI</td>\n",
       "      <td>VARIE</td>\n",
       "    </tr>\n",
       "    <tr>\n",
       "      <th>4481</th>\n",
       "      <td>Camporosso</td>\n",
       "      <td>camporosso</td>\n",
       "      <td>VIAGGI</td>\n",
       "      <td>VARIE</td>\n",
       "    </tr>\n",
       "    <tr>\n",
       "      <th>5520</th>\n",
       "      <td>LIBERTE PARIS</td>\n",
       "      <td>libert pari</td>\n",
       "      <td>VARIE</td>\n",
       "      <td>VIAGGI</td>\n",
       "    </tr>\n",
       "    <tr>\n",
       "      <th>5447</th>\n",
       "      <td>PAYPAL EASYPARK AS 35314369001</td>\n",
       "      <td>paypal easypark</td>\n",
       "      <td>AUTO</td>\n",
       "      <td>VARIE</td>\n",
       "    </tr>\n",
       "  </tbody>\n",
       "</table>\n",
       "</div>"
      ],
      "text/plain": [
       "                           Description                        Tokens  \\\n",
       "4583                               H&M                            hm   \n",
       "3782           Caroline house expenses           carolin hous expens   \n",
       "3147                      Pesi fitness                      pesi fit   \n",
       "5529          LA HUNESTGERMAIN PARIS 6           hunestgermain pari    \n",
       "4915                     Baby car seat                 babi car seat   \n",
       "359             Prelievo Bancomat Orio        prelievo bancomat orio   \n",
       "2389    BURGER KING �09866 Q07\\ \\MI...            burger king � q mi   \n",
       "4757                      Thermometer                      thermomet   \n",
       "3203         Raccomandata per grondaia         raccomandata grondaia   \n",
       "5500              LIM RIDE COST DUBLIN          lim ride cost dublin   \n",
       "4510                     Pisa dolciumi                 pisa dolciumi   \n",
       "5022                      Dog griseøre                   dog griseør   \n",
       "1430                        Fitness dk                        fit dk   \n",
       "5005                            Silvan                        silvan   \n",
       "5491              SHELL 8511 SITTENSEN              shell  sittensen   \n",
       "3296                            Car2go                         cargo   \n",
       "3612                              Wood                          wood   \n",
       "5613   Google CLOUD_01B4E4 C33D8 Milan         googl cloudb cd milan   \n",
       "4215               Caroline Insurances                 carolin insur   \n",
       "513                            Essence                        essenc   \n",
       "910                          Rejsekort                     rejsekort   \n",
       "5548              ESSO LAERDAL LAERDAL          esso laerdal laerdal   \n",
       "1543                          Brandina                      brandina   \n",
       "2407    AL.JANA PAWLA II 27\\ \\WARSZ...        aljana pawla ii  warsz   \n",
       "2330          INGO VASBYG.4      71927                  ingo vasbyg    \n",
       "4647                           Bandaid                       bandaid   \n",
       "3215                              Parq                          parq   \n",
       "9            Groupon - Acquisto scarpe       groupon  acquisto scarp   \n",
       "3490                           Bauhaus                        bauhau   \n",
       "5729                Transfer to budget               transfer budget   \n",
       "5540          Øresundsbroen m SE 18961                øresundsbroen    \n",
       "4148                         Dog stuff                     dog stuff   \n",
       "3905                Course Udemy Swift             cours udemi swift   \n",
       "5537  AMZN Mktp DE AD8YN2C15 AMAZON DE  amzn mktp de adync amazon de   \n",
       "2329    BEITOST�LEN RES\\ \\BEITOST�L...      beitost�len re beitost�l   \n",
       "5563                     Google Dublin                  googl dublin   \n",
       "1874                  Ganci per mobile                   ganci mobil   \n",
       "2707                    Improv commedy                improv commedi   \n",
       "1331                        Fitness.dk                     fitnessdk   \n",
       "5304         EASYJET AIR 000000K1VM42C              easyjet air kvmc   \n",
       "193           Biglietti per La La Land                biglietti land   \n",
       "1863                           Ago vet                       ago vet   \n",
       "375                    Muren Stockholm               muren stockholm   \n",
       "5436             GOOGLE CLOUD_01B4E4 C                  googl cloudb   \n",
       "5145           Fisketorvet Føtex 11606            fisketorvet føtex    \n",
       "5425            AMZN Mktp DE OZ0G03H35             amzn mktp de ozgh   \n",
       "3170                      Antica Fonte                   antica font   \n",
       "4481                        Camporosso                    camporosso   \n",
       "5520                     LIBERTE PARIS                   libert pari   \n",
       "5447    PAYPAL EASYPARK AS 35314369001              paypal easypark    \n",
       "\n",
       "     Expected Category Predicted Category  \n",
       "4583           CLOTHES              VARIE  \n",
       "3782              HOME               XMAS  \n",
       "3147          PALESTRA              VARIE  \n",
       "5529            VIAGGI              VARIE  \n",
       "4915             CHILD               AUTO  \n",
       "359             VIAGGI              VARIE  \n",
       "2389            VIAGGI               FOOD  \n",
       "4757            SALUTE              VARIE  \n",
       "3203              HOME              VARIE  \n",
       "5500             VARIE             VIAGGI  \n",
       "4510            VIAGGI              VARIE  \n",
       "5022               PET              VARIE  \n",
       "1430          PALESTRA              VARIE  \n",
       "5005              HOME          FURNITURE  \n",
       "5491             VARIE             VIAGGI  \n",
       "3296            VIAGGI               AUTO  \n",
       "3612              HOME          FURNITURE  \n",
       "5613             VARIE              SVAGO  \n",
       "4215              HOME               XMAS  \n",
       "513             VIAGGI              VARIE  \n",
       "910             VIAGGI              VARIE  \n",
       "5548            VIAGGI              VARIE  \n",
       "1543         FURNITURE              VARIE  \n",
       "2407            VIAGGI              VARIE  \n",
       "2330            VIAGGI              VARIE  \n",
       "4647            SALUTE              VARIE  \n",
       "3215              AUTO              VARIE  \n",
       "9              CLOTHES              VARIE  \n",
       "3490         FURNITURE               HOME  \n",
       "5729              HOME              VARIE  \n",
       "5540            VIAGGI              VARIE  \n",
       "4148               PET              VARIE  \n",
       "3905             SVAGO              VARIE  \n",
       "5537             VARIE              SVAGO  \n",
       "2329            VIAGGI              VARIE  \n",
       "5563             VARIE              SVAGO  \n",
       "1874         FURNITURE              VARIE  \n",
       "2707            USCITE              VARIE  \n",
       "1331          PALESTRA              VARIE  \n",
       "5304            VIAGGI              VARIE  \n",
       "193             USCITE              VARIE  \n",
       "1863             VARIE                PET  \n",
       "375             VIAGGI              VARIE  \n",
       "5436             VARIE              SVAGO  \n",
       "5145             VARIE       SUPERMERCATO  \n",
       "5425             VARIE              SVAGO  \n",
       "3170            VIAGGI              VARIE  \n",
       "4481            VIAGGI              VARIE  \n",
       "5520             VARIE             VIAGGI  \n",
       "5447              AUTO              VARIE  "
      ]
     },
     "execution_count": 462,
     "metadata": {},
     "output_type": "execute_result"
    }
   ],
   "source": [
    "comparison = check_misclassifications(oh_test_df, Y_test)\n",
    "comparison.iloc[0:50]"
   ]
  },
  {
   "cell_type": "markdown",
   "id": "9d9fce02-7cda-4edc-88fa-211e8acc4f56",
   "metadata": {},
   "source": [
    "# Saving the model"
   ]
  },
  {
   "cell_type": "code",
   "execution_count": 288,
   "id": "735d018a-f18d-44e6-8932-23c6e6c370b1",
   "metadata": {
    "tags": []
   },
   "outputs": [
    {
     "data": {
      "text/plain": [
       "array(['AUTO'], dtype='<U12')"
      ]
     },
     "execution_count": 288,
     "metadata": {},
     "output_type": "execute_result"
    }
   ],
   "source": [
    "my_X = binary_vectorizer.transform([\"benzina\"])\n",
    "model.predict(my_X)"
   ]
  },
  {
   "cell_type": "code",
   "execution_count": 90,
   "id": "18256d13-5b0f-4fcc-8c09-027e958f4cb6",
   "metadata": {
    "tags": []
   },
   "outputs": [],
   "source": [
    "with open(\"expcat-model-cbm\", \"wb\") as f: \n",
    "    pickle.dump(model, f)"
   ]
  },
  {
   "cell_type": "code",
   "execution_count": 91,
   "id": "9e0220eb-6296-4ac8-b22f-772077d584a9",
   "metadata": {
    "tags": []
   },
   "outputs": [],
   "source": [
    "with open(\"expcat-vect-cbm\", \"wb\") as  f:\n",
    "    pickle.dump(binary_vectorizer, f)"
   ]
  },
  {
   "cell_type": "code",
   "execution_count": 94,
   "id": "b2608abf-0d90-4760-b01d-47d0307b2bb4",
   "metadata": {
    "tags": []
   },
   "outputs": [],
   "source": [
    "stopwords_vocab = set(stopwords.words(\"danish\"))"
   ]
  },
  {
   "cell_type": "code",
   "execution_count": 95,
   "id": "5b905ed4-fa2b-46ab-8cd4-c78a6cf32fc9",
   "metadata": {
    "tags": []
   },
   "outputs": [],
   "source": [
    "with open(\"expcat-stopwords-cbm\", \"wb\") as f: \n",
    "    pickle.dump(stopwords_vocab, f)"
   ]
  },
  {
   "cell_type": "code",
   "execution_count": null,
   "id": "9e06934e-d4f8-420d-8fb8-88e7abe79d1f",
   "metadata": {},
   "outputs": [],
   "source": []
  }
 ],
 "metadata": {
  "kernelspec": {
   "display_name": "conda_tensorflow2_p310",
   "language": "python",
   "name": "conda_tensorflow2_p310"
  },
  "language_info": {
   "codemirror_mode": {
    "name": "ipython",
    "version": 3
   },
   "file_extension": ".py",
   "mimetype": "text/x-python",
   "name": "python",
   "nbconvert_exporter": "python",
   "pygments_lexer": "ipython3",
   "version": "3.10.12"
  }
 },
 "nbformat": 4,
 "nbformat_minor": 5
}
