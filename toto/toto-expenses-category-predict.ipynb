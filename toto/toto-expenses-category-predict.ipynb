{
 "cells": [
  {
   "cell_type": "markdown",
   "id": "3abc0a64-1c52-443b-92df-31dab25aead8",
   "metadata": {},
   "source": [
    "# Toto Expenses: Category Predictor"
   ]
  },
  {
   "cell_type": "code",
   "execution_count": 346,
   "id": "9505dab5-e185-4b93-bc40-6f54edd490ba",
   "metadata": {
    "tags": []
   },
   "outputs": [],
   "source": [
    "import sys\n",
    "import pickle"
   ]
  },
  {
   "cell_type": "code",
   "execution_count": 347,
   "id": "c837a70e-1762-411e-a8a2-7824fdb79220",
   "metadata": {
    "tags": []
   },
   "outputs": [
    {
     "name": "stderr",
     "output_type": "stream",
     "text": [
      "[nltk_data] Downloading package stopwords to\n",
      "[nltk_data]     /home/ec2-user/nltk_data...\n",
      "[nltk_data]   Package stopwords is already up-to-date!\n",
      "[nltk_data] Downloading package punkt to /home/ec2-user/nltk_data...\n",
      "[nltk_data]   Package punkt is already up-to-date!\n"
     ]
    }
   ],
   "source": [
    "import json\n",
    "import re\n",
    "import numpy as np\n",
    "import pandas as pd\n",
    "import seaborn as sns\n",
    "import matplotlib.pyplot as plt\n",
    "import nltk\n",
    "from nltk.stem import PorterStemmer\n",
    "from nltk.corpus import stopwords\n",
    "import string\n",
    "from sklearn.feature_extraction.text import TfidfVectorizer, CountVectorizer\n",
    "from sklearn.naive_bayes import MultinomialNB\n",
    "from sklearn.model_selection import train_test_split\n",
    "from sklearn.metrics import accuracy_score\n",
    "import warnings\n",
    "\n",
    "nltk.download('stopwords')\n",
    "nltk.download('punkt')\n",
    "\n",
    "%matplotlib inline"
   ]
  },
  {
   "cell_type": "markdown",
   "id": "0f5ebf1d-5954-435b-8b74-3e11bdd63076",
   "metadata": {},
   "source": [
    "---\n",
    "## Data Analysis"
   ]
  },
  {
   "cell_type": "code",
   "execution_count": 348,
   "id": "e7c15ef6-c0fd-4a83-8e38-b442f035bcb4",
   "metadata": {
    "tags": []
   },
   "outputs": [],
   "source": [
    "# Ingestion of the Expenses in dict objects\n",
    "def transform_line(line): \n",
    "    expense = json.loads(line)\n",
    "    return expense"
   ]
  },
  {
   "cell_type": "code",
   "execution_count": 349,
   "id": "c9ceb714-397c-4699-be93-fb41b02ad87f",
   "metadata": {
    "tags": []
   },
   "outputs": [],
   "source": [
    "# Read the data from the backup file\n",
    "# Save it into a list\n",
    "def ingest_data(filename):\n",
    "    data = []\n",
    "    \n",
    "    with open(filename, \"r\") as file: \n",
    "        for idx, line in enumerate(file):\n",
    "            expense = transform_line(line)\n",
    "            \n",
    "            data.append(expense)\n",
    "    \n",
    "    return data\n",
    "        "
   ]
  },
  {
   "cell_type": "code",
   "execution_count": 350,
   "id": "d15b1abc-7ed4-4044-94da-aadf08498ba0",
   "metadata": {
    "tags": []
   },
   "outputs": [],
   "source": [
    "def to_dataframe(data: list):\n",
    "    return pd.DataFrame(data)\n",
    "    "
   ]
  },
  {
   "cell_type": "code",
   "execution_count": 351,
   "id": "df80bdc2-d91c-4781-9a25-ad8bb4fa7864",
   "metadata": {
    "tags": []
   },
   "outputs": [],
   "source": [
    "df = to_dataframe(ingest_data(\"expenses.json\"))"
   ]
  },
  {
   "cell_type": "code",
   "execution_count": 352,
   "id": "c65f1158-303f-40a4-bbda-6d45e87219ca",
   "metadata": {
    "tags": []
   },
   "outputs": [
    {
     "data": {
      "text/html": [
       "<div>\n",
       "<style scoped>\n",
       "    .dataframe tbody tr th:only-of-type {\n",
       "        vertical-align: middle;\n",
       "    }\n",
       "\n",
       "    .dataframe tbody tr th {\n",
       "        vertical-align: top;\n",
       "    }\n",
       "\n",
       "    .dataframe thead th {\n",
       "        text-align: right;\n",
       "    }\n",
       "</style>\n",
       "<table border=\"1\" class=\"dataframe\">\n",
       "  <thead>\n",
       "    <tr style=\"text-align: right;\">\n",
       "      <th></th>\n",
       "      <th>_id</th>\n",
       "      <th>amount</th>\n",
       "      <th>date</th>\n",
       "      <th>category</th>\n",
       "      <th>description</th>\n",
       "      <th>creditMom</th>\n",
       "      <th>creditOther</th>\n",
       "      <th>yearMonth</th>\n",
       "      <th>currency</th>\n",
       "      <th>amountInEuro</th>\n",
       "      <th>user</th>\n",
       "      <th>monthly</th>\n",
       "      <th>subscriptionId</th>\n",
       "      <th>consolidated</th>\n",
       "      <th>cardId</th>\n",
       "      <th>cardMonth</th>\n",
       "      <th>weekendId</th>\n",
       "      <th>cardYear</th>\n",
       "      <th>additionalData</th>\n",
       "      <th>tags</th>\n",
       "    </tr>\n",
       "  </thead>\n",
       "  <tbody>\n",
       "    <tr>\n",
       "      <th>0</th>\n",
       "      <td>583dd4f72ab79c00017d9895</td>\n",
       "      <td>14.35</td>\n",
       "      <td>20161128</td>\n",
       "      <td>SUPERMERCATO</td>\n",
       "      <td>Supermercato (Esselunga)</td>\n",
       "      <td>NaN</td>\n",
       "      <td>NaN</td>\n",
       "      <td>201612</td>\n",
       "      <td>EUR</td>\n",
       "      <td>14.35</td>\n",
       "      <td>nicolas.matteazzi@gmail.com</td>\n",
       "      <td>False</td>\n",
       "      <td>NaN</td>\n",
       "      <td>NaN</td>\n",
       "      <td>NaN</td>\n",
       "      <td>NaN</td>\n",
       "      <td>NaN</td>\n",
       "      <td>NaN</td>\n",
       "      <td>NaN</td>\n",
       "      <td>NaN</td>\n",
       "    </tr>\n",
       "    <tr>\n",
       "      <th>1</th>\n",
       "      <td>583dd5382ab79c00017d9897</td>\n",
       "      <td>15.00</td>\n",
       "      <td>20161128</td>\n",
       "      <td>VIAGGI</td>\n",
       "      <td>Ricarica Prepagata (Boston hotel)</td>\n",
       "      <td>NaN</td>\n",
       "      <td>NaN</td>\n",
       "      <td>201612</td>\n",
       "      <td>EUR</td>\n",
       "      <td>15.00</td>\n",
       "      <td>nicolas.matteazzi@gmail.com</td>\n",
       "      <td>False</td>\n",
       "      <td>NaN</td>\n",
       "      <td>NaN</td>\n",
       "      <td>NaN</td>\n",
       "      <td>NaN</td>\n",
       "      <td>NaN</td>\n",
       "      <td>NaN</td>\n",
       "      <td>NaN</td>\n",
       "      <td>NaN</td>\n",
       "    </tr>\n",
       "  </tbody>\n",
       "</table>\n",
       "</div>"
      ],
      "text/plain": [
       "                        _id  amount      date      category  \\\n",
       "0  583dd4f72ab79c00017d9895   14.35  20161128  SUPERMERCATO   \n",
       "1  583dd5382ab79c00017d9897   15.00  20161128        VIAGGI   \n",
       "\n",
       "                         description  creditMom  creditOther  yearMonth  \\\n",
       "0           Supermercato (Esselunga)        NaN          NaN     201612   \n",
       "1  Ricarica Prepagata (Boston hotel)        NaN          NaN     201612   \n",
       "\n",
       "  currency  amountInEuro                         user monthly subscriptionId  \\\n",
       "0      EUR         14.35  nicolas.matteazzi@gmail.com   False            NaN   \n",
       "1      EUR         15.00  nicolas.matteazzi@gmail.com   False            NaN   \n",
       "\n",
       "  consolidated cardId cardMonth weekendId cardYear additionalData tags  \n",
       "0          NaN    NaN       NaN       NaN      NaN            NaN  NaN  \n",
       "1          NaN    NaN       NaN       NaN      NaN            NaN  NaN  "
      ]
     },
     "execution_count": 352,
     "metadata": {},
     "output_type": "execute_result"
    }
   ],
   "source": [
    "df.head(2)"
   ]
  },
  {
   "cell_type": "code",
   "execution_count": 256,
   "id": "3994b453-bfc4-498c-8b00-a5f897382b68",
   "metadata": {
    "tags": []
   },
   "outputs": [
    {
     "data": {
      "text/html": [
       "<div>\n",
       "<style scoped>\n",
       "    .dataframe tbody tr th:only-of-type {\n",
       "        vertical-align: middle;\n",
       "    }\n",
       "\n",
       "    .dataframe tbody tr th {\n",
       "        vertical-align: top;\n",
       "    }\n",
       "\n",
       "    .dataframe thead th {\n",
       "        text-align: right;\n",
       "    }\n",
       "</style>\n",
       "<table border=\"1\" class=\"dataframe\">\n",
       "  <thead>\n",
       "    <tr style=\"text-align: right;\">\n",
       "      <th></th>\n",
       "      <th>description</th>\n",
       "      <th>category</th>\n",
       "    </tr>\n",
       "  </thead>\n",
       "  <tbody>\n",
       "    <tr>\n",
       "      <th>5776</th>\n",
       "      <td>Google Photos</td>\n",
       "      <td>SVAGO</td>\n",
       "    </tr>\n",
       "    <tr>\n",
       "      <th>5777</th>\n",
       "      <td>Adobe</td>\n",
       "      <td>SVAGO</td>\n",
       "    </tr>\n",
       "    <tr>\n",
       "      <th>5778</th>\n",
       "      <td>Car insurance</td>\n",
       "      <td>AUTO</td>\n",
       "    </tr>\n",
       "    <tr>\n",
       "      <th>5779</th>\n",
       "      <td>Apple Tv+</td>\n",
       "      <td>SVAGO</td>\n",
       "    </tr>\n",
       "    <tr>\n",
       "      <th>5780</th>\n",
       "      <td>Mc Donald</td>\n",
       "      <td>FOOD</td>\n",
       "    </tr>\n",
       "  </tbody>\n",
       "</table>\n",
       "</div>"
      ],
      "text/plain": [
       "        description category\n",
       "5776  Google Photos    SVAGO\n",
       "5777          Adobe    SVAGO\n",
       "5778  Car insurance     AUTO\n",
       "5779      Apple Tv+    SVAGO\n",
       "5780      Mc Donald     FOOD"
      ]
     },
     "execution_count": 256,
     "metadata": {},
     "output_type": "execute_result"
    }
   ],
   "source": [
    "features = df[df[\"user\"] == \"nicolas.matteazzi@gmail.com\"][[\"description\", \"category\"]]\n",
    "features.tail(5)"
   ]
  },
  {
   "cell_type": "markdown",
   "id": "7067bbdb-27b6-4814-a84e-44f66e54ce4c",
   "metadata": {},
   "source": [
    "### Vectorizing the Descriptions\n",
    "The vectorization process basically:\n",
    " * splits all descriptions into tokens and \n",
    " * perform **stemming**\n"
   ]
  },
  {
   "cell_type": "code",
   "execution_count": 353,
   "id": "a1f5dd7c-9949-44ff-8550-34ae681b608e",
   "metadata": {
    "tags": []
   },
   "outputs": [],
   "source": [
    "stopwords_vocab = set(stopwords.words(\"english\")).union(set(stopwords.words(\"italian\")))\n",
    "# stopwords_vocab = set(stopwords.words(\"danish\"))\n",
    "punctuation_symbols = list(string.punctuation)"
   ]
  },
  {
   "cell_type": "code",
   "execution_count": 354,
   "id": "ae713a8d-e4b8-4f35-9f3b-3dec13af5b07",
   "metadata": {
    "tags": []
   },
   "outputs": [],
   "source": [
    "stemmer = PorterStemmer()"
   ]
  },
  {
   "cell_type": "code",
   "execution_count": 355,
   "id": "5a6dd220-d8bb-451e-84e8-d0ab21a60331",
   "metadata": {
    "tags": []
   },
   "outputs": [],
   "source": [
    "def tokenize(desc): \n",
    "    '''\n",
    "    Tokenizes a description and applies the following:\n",
    "     - removes stop words\n",
    "     - removes useless characters (e.g. '-')\n",
    "     - stems the word\n",
    "    '''\n",
    "    # Split descriptions into tokens\n",
    "    tokens = desc.split()\n",
    "    \n",
    "    # Prepare to remove any punctuation in the word\n",
    "    translation_table = str.maketrans('', '', ''.join(punctuation_symbols))\n",
    "    \n",
    "    # Filter out stopwords, remove numeric characters from the word\n",
    "    tokens = [re.sub(r'\\d', '', word.lower().translate(translation_table)) for word in tokens if word.lower() not in stopwords_vocab]\n",
    "    tokens = [word for word in tokens if word not in punctuation_symbols and not word.isdigit()]\n",
    "    \n",
    "    \n",
    "    # Perform stemming\n",
    "    tokens = [stemmer.stem(word) for word in tokens]\n",
    "    \n",
    "    # Join the tokens, as needed by TF-IDF\n",
    "    tokens = \" \".join(tokens)\n",
    "    \n",
    "    return tokens"
   ]
  },
  {
   "cell_type": "code",
   "execution_count": 356,
   "id": "ae572b4f-d317-41df-9be0-292688c4c3cc",
   "metadata": {
    "tags": []
   },
   "outputs": [],
   "source": [
    "# Create a new column \"tokens\" that contains the processed descriptions\n",
    "features.loc[:,\"tokens\"] = features[\"description\"].apply(tokenize)"
   ]
  },
  {
   "cell_type": "code",
   "execution_count": 357,
   "id": "b09b1867-ab64-46ee-968f-c796acb37e81",
   "metadata": {
    "tags": []
   },
   "outputs": [
    {
     "data": {
      "text/html": [
       "<div>\n",
       "<style scoped>\n",
       "    .dataframe tbody tr th:only-of-type {\n",
       "        vertical-align: middle;\n",
       "    }\n",
       "\n",
       "    .dataframe tbody tr th {\n",
       "        vertical-align: top;\n",
       "    }\n",
       "\n",
       "    .dataframe thead th {\n",
       "        text-align: right;\n",
       "    }\n",
       "</style>\n",
       "<table border=\"1\" class=\"dataframe\">\n",
       "  <thead>\n",
       "    <tr style=\"text-align: right;\">\n",
       "      <th></th>\n",
       "      <th>description</th>\n",
       "      <th>category</th>\n",
       "      <th>tokens</th>\n",
       "    </tr>\n",
       "  </thead>\n",
       "  <tbody>\n",
       "    <tr>\n",
       "      <th>4594</th>\n",
       "      <td>Gjensidige</td>\n",
       "      <td>AUTO</td>\n",
       "      <td>gjensidig</td>\n",
       "    </tr>\n",
       "    <tr>\n",
       "      <th>4595</th>\n",
       "      <td>A-kasse</td>\n",
       "      <td>VARIE</td>\n",
       "      <td>akass</td>\n",
       "    </tr>\n",
       "    <tr>\n",
       "      <th>4596</th>\n",
       "      <td>Vuggestue 09.2023</td>\n",
       "      <td>VARIE</td>\n",
       "      <td>vuggestu</td>\n",
       "    </tr>\n",
       "    <tr>\n",
       "      <th>4597</th>\n",
       "      <td>Fine hospital</td>\n",
       "      <td>AUTO</td>\n",
       "      <td>fine hospit</td>\n",
       "    </tr>\n",
       "    <tr>\n",
       "      <th>4598</th>\n",
       "      <td>Mc Donald</td>\n",
       "      <td>FOOD</td>\n",
       "      <td>mc donald</td>\n",
       "    </tr>\n",
       "    <tr>\n",
       "      <th>4599</th>\n",
       "      <td>Supermarket</td>\n",
       "      <td>SUPERMERCATO</td>\n",
       "      <td>supermarket</td>\n",
       "    </tr>\n",
       "    <tr>\n",
       "      <th>4600</th>\n",
       "      <td>Benzina</td>\n",
       "      <td>AUTO</td>\n",
       "      <td>benzina</td>\n",
       "    </tr>\n",
       "    <tr>\n",
       "      <th>4604</th>\n",
       "      <td>Hovmand heatpump tranche 1</td>\n",
       "      <td>HOME</td>\n",
       "      <td>hovmand heatpump tranch</td>\n",
       "    </tr>\n",
       "    <tr>\n",
       "      <th>4605</th>\n",
       "      <td>Hovmand service</td>\n",
       "      <td>HOME</td>\n",
       "      <td>hovmand servic</td>\n",
       "    </tr>\n",
       "    <tr>\n",
       "      <th>4606</th>\n",
       "      <td>Panodil pharmacy</td>\n",
       "      <td>SALUTE</td>\n",
       "      <td>panodil pharmaci</td>\n",
       "    </tr>\n",
       "  </tbody>\n",
       "</table>\n",
       "</div>"
      ],
      "text/plain": [
       "                     description      category                    tokens\n",
       "4594                  Gjensidige          AUTO                 gjensidig\n",
       "4595                     A-kasse         VARIE                     akass\n",
       "4596           Vuggestue 09.2023         VARIE                 vuggestu \n",
       "4597               Fine hospital          AUTO               fine hospit\n",
       "4598                  Mc Donald           FOOD                 mc donald\n",
       "4599                 Supermarket  SUPERMERCATO               supermarket\n",
       "4600                    Benzina           AUTO                   benzina\n",
       "4604  Hovmand heatpump tranche 1          HOME  hovmand heatpump tranch \n",
       "4605             Hovmand service          HOME            hovmand servic\n",
       "4606            Panodil pharmacy        SALUTE          panodil pharmaci"
      ]
     },
     "execution_count": 357,
     "metadata": {},
     "output_type": "execute_result"
    }
   ],
   "source": [
    "range_low = np.random.randint(0, len(features))\n",
    "features.iloc[range_low:range_low + 10]"
   ]
  },
  {
   "cell_type": "code",
   "execution_count": 358,
   "id": "ceea0ba5-df7a-4d1c-9eff-d885e0e48948",
   "metadata": {
    "tags": []
   },
   "outputs": [],
   "source": [
    "# Split the dataset between test and train\n",
    "train_df, test_df = train_test_split(features, test_size=0.2)"
   ]
  },
  {
   "cell_type": "code",
   "execution_count": 359,
   "id": "aa1dd54b-a071-4b1c-afe0-d859199be378",
   "metadata": {
    "tags": []
   },
   "outputs": [],
   "source": [
    "# Vectorize the tokens both for test and train datasets\n",
    "tfidf_vectorizer = TfidfVectorizer()\n",
    "\n",
    "X_train = tfidf_vectorizer.fit_transform(train_df[\"tokens\"])\n",
    "\n",
    "# Here we only transform because we need to consider the test set as if it was \n",
    "# a new set of data, not seen by the model\n",
    "X_test = tfidf_vectorizer.transform(test_df[\"tokens\"])\n"
   ]
  },
  {
   "cell_type": "code",
   "execution_count": 360,
   "id": "ee9fb59f-e94b-4518-b40a-d52b65addfa7",
   "metadata": {
    "tags": []
   },
   "outputs": [
    {
     "data": {
      "text/html": [
       "<style>#sk-container-id-12 {color: black;}#sk-container-id-12 pre{padding: 0;}#sk-container-id-12 div.sk-toggleable {background-color: white;}#sk-container-id-12 label.sk-toggleable__label {cursor: pointer;display: block;width: 100%;margin-bottom: 0;padding: 0.3em;box-sizing: border-box;text-align: center;}#sk-container-id-12 label.sk-toggleable__label-arrow:before {content: \"▸\";float: left;margin-right: 0.25em;color: #696969;}#sk-container-id-12 label.sk-toggleable__label-arrow:hover:before {color: black;}#sk-container-id-12 div.sk-estimator:hover label.sk-toggleable__label-arrow:before {color: black;}#sk-container-id-12 div.sk-toggleable__content {max-height: 0;max-width: 0;overflow: hidden;text-align: left;background-color: #f0f8ff;}#sk-container-id-12 div.sk-toggleable__content pre {margin: 0.2em;color: black;border-radius: 0.25em;background-color: #f0f8ff;}#sk-container-id-12 input.sk-toggleable__control:checked~div.sk-toggleable__content {max-height: 200px;max-width: 100%;overflow: auto;}#sk-container-id-12 input.sk-toggleable__control:checked~label.sk-toggleable__label-arrow:before {content: \"▾\";}#sk-container-id-12 div.sk-estimator input.sk-toggleable__control:checked~label.sk-toggleable__label {background-color: #d4ebff;}#sk-container-id-12 div.sk-label input.sk-toggleable__control:checked~label.sk-toggleable__label {background-color: #d4ebff;}#sk-container-id-12 input.sk-hidden--visually {border: 0;clip: rect(1px 1px 1px 1px);clip: rect(1px, 1px, 1px, 1px);height: 1px;margin: -1px;overflow: hidden;padding: 0;position: absolute;width: 1px;}#sk-container-id-12 div.sk-estimator {font-family: monospace;background-color: #f0f8ff;border: 1px dotted black;border-radius: 0.25em;box-sizing: border-box;margin-bottom: 0.5em;}#sk-container-id-12 div.sk-estimator:hover {background-color: #d4ebff;}#sk-container-id-12 div.sk-parallel-item::after {content: \"\";width: 100%;border-bottom: 1px solid gray;flex-grow: 1;}#sk-container-id-12 div.sk-label:hover label.sk-toggleable__label {background-color: #d4ebff;}#sk-container-id-12 div.sk-serial::before {content: \"\";position: absolute;border-left: 1px solid gray;box-sizing: border-box;top: 0;bottom: 0;left: 50%;z-index: 0;}#sk-container-id-12 div.sk-serial {display: flex;flex-direction: column;align-items: center;background-color: white;padding-right: 0.2em;padding-left: 0.2em;position: relative;}#sk-container-id-12 div.sk-item {position: relative;z-index: 1;}#sk-container-id-12 div.sk-parallel {display: flex;align-items: stretch;justify-content: center;background-color: white;position: relative;}#sk-container-id-12 div.sk-item::before, #sk-container-id-12 div.sk-parallel-item::before {content: \"\";position: absolute;border-left: 1px solid gray;box-sizing: border-box;top: 0;bottom: 0;left: 50%;z-index: -1;}#sk-container-id-12 div.sk-parallel-item {display: flex;flex-direction: column;z-index: 1;position: relative;background-color: white;}#sk-container-id-12 div.sk-parallel-item:first-child::after {align-self: flex-end;width: 50%;}#sk-container-id-12 div.sk-parallel-item:last-child::after {align-self: flex-start;width: 50%;}#sk-container-id-12 div.sk-parallel-item:only-child::after {width: 0;}#sk-container-id-12 div.sk-dashed-wrapped {border: 1px dashed gray;margin: 0 0.4em 0.5em 0.4em;box-sizing: border-box;padding-bottom: 0.4em;background-color: white;}#sk-container-id-12 div.sk-label label {font-family: monospace;font-weight: bold;display: inline-block;line-height: 1.2em;}#sk-container-id-12 div.sk-label-container {text-align: center;}#sk-container-id-12 div.sk-container {/* jupyter's `normalize.less` sets `[hidden] { display: none; }` but bootstrap.min.css set `[hidden] { display: none !important; }` so we also need the `!important` here to be able to override the default hidden behavior on the sphinx rendered scikit-learn.org. See: https://github.com/scikit-learn/scikit-learn/issues/21755 */display: inline-block !important;position: relative;}#sk-container-id-12 div.sk-text-repr-fallback {display: none;}</style><div id=\"sk-container-id-12\" class=\"sk-top-container\"><div class=\"sk-text-repr-fallback\"><pre>MultinomialNB()</pre><b>In a Jupyter environment, please rerun this cell to show the HTML representation or trust the notebook. <br />On GitHub, the HTML representation is unable to render, please try loading this page with nbviewer.org.</b></div><div class=\"sk-container\" hidden><div class=\"sk-item\"><div class=\"sk-estimator sk-toggleable\"><input class=\"sk-toggleable__control sk-hidden--visually\" id=\"sk-estimator-id-12\" type=\"checkbox\" checked><label for=\"sk-estimator-id-12\" class=\"sk-toggleable__label sk-toggleable__label-arrow\">MultinomialNB</label><div class=\"sk-toggleable__content\"><pre>MultinomialNB()</pre></div></div></div></div></div>"
      ],
      "text/plain": [
       "MultinomialNB()"
      ]
     },
     "execution_count": 360,
     "metadata": {},
     "output_type": "execute_result"
    }
   ],
   "source": [
    "model = MultinomialNB()\n",
    "model.fit(X_train, train_df[\"category\"])"
   ]
  },
  {
   "cell_type": "code",
   "execution_count": 361,
   "id": "78260bea-096e-4f6a-aa03-e6ae681df405",
   "metadata": {
    "tags": []
   },
   "outputs": [
    {
     "name": "stdout",
     "output_type": "stream",
     "text": [
      "0.7424942263279446\n"
     ]
    }
   ],
   "source": [
    "# Evaluate the accuracy of the model\n",
    "# 1. Predict \n",
    "Y_test = model.predict(X_test)\n",
    "\n",
    "# 2. Evaluate\n",
    "accuracy = accuracy_score(test_df[\"category\"], Y_test)\n",
    "\n",
    "print(accuracy)"
   ]
  },
  {
   "cell_type": "markdown",
   "id": "dbf08b3d-0f37-47a0-bf75-6661f265ddc2",
   "metadata": {},
   "source": [
    "### Trying a different vectorizer"
   ]
  },
  {
   "cell_type": "code",
   "execution_count": 362,
   "id": "59181640-3bfb-4c94-b43a-2e42ad2faaf5",
   "metadata": {
    "tags": []
   },
   "outputs": [],
   "source": [
    "binary_vectorizer = CountVectorizer(binary=True)\n",
    "\n",
    "X_train = binary_vectorizer.fit_transform(train_df[\"tokens\"])\n",
    "X_test = binary_vectorizer.transform(test_df[\"tokens\"])\n"
   ]
  },
  {
   "cell_type": "code",
   "execution_count": 363,
   "id": "92e0b2d3-5068-4c35-bbb6-431928bc19f5",
   "metadata": {
    "tags": []
   },
   "outputs": [
    {
     "data": {
      "text/plain": [
       "1630         supermarket føtex\n",
       "2217                       coc\n",
       "2005    starbuck coffe hous mo\n",
       "528                    fastweb\n",
       "3168                    milano\n",
       "                 ...          \n",
       "5008             present peter\n",
       "1155            parcheggio cph\n",
       "4721               supermarket\n",
       "3476               supermarket\n",
       "3299                       car\n",
       "Name: tokens, Length: 3464, dtype: object"
      ]
     },
     "execution_count": 363,
     "metadata": {},
     "output_type": "execute_result"
    }
   ],
   "source": [
    "train_df[\"tokens\"]"
   ]
  },
  {
   "cell_type": "code",
   "execution_count": 364,
   "id": "8d5faaf3-7416-4bbb-a654-c8e0b8e37958",
   "metadata": {
    "tags": []
   },
   "outputs": [
    {
     "data": {
      "text/html": [
       "<style>#sk-container-id-13 {color: black;}#sk-container-id-13 pre{padding: 0;}#sk-container-id-13 div.sk-toggleable {background-color: white;}#sk-container-id-13 label.sk-toggleable__label {cursor: pointer;display: block;width: 100%;margin-bottom: 0;padding: 0.3em;box-sizing: border-box;text-align: center;}#sk-container-id-13 label.sk-toggleable__label-arrow:before {content: \"▸\";float: left;margin-right: 0.25em;color: #696969;}#sk-container-id-13 label.sk-toggleable__label-arrow:hover:before {color: black;}#sk-container-id-13 div.sk-estimator:hover label.sk-toggleable__label-arrow:before {color: black;}#sk-container-id-13 div.sk-toggleable__content {max-height: 0;max-width: 0;overflow: hidden;text-align: left;background-color: #f0f8ff;}#sk-container-id-13 div.sk-toggleable__content pre {margin: 0.2em;color: black;border-radius: 0.25em;background-color: #f0f8ff;}#sk-container-id-13 input.sk-toggleable__control:checked~div.sk-toggleable__content {max-height: 200px;max-width: 100%;overflow: auto;}#sk-container-id-13 input.sk-toggleable__control:checked~label.sk-toggleable__label-arrow:before {content: \"▾\";}#sk-container-id-13 div.sk-estimator input.sk-toggleable__control:checked~label.sk-toggleable__label {background-color: #d4ebff;}#sk-container-id-13 div.sk-label input.sk-toggleable__control:checked~label.sk-toggleable__label {background-color: #d4ebff;}#sk-container-id-13 input.sk-hidden--visually {border: 0;clip: rect(1px 1px 1px 1px);clip: rect(1px, 1px, 1px, 1px);height: 1px;margin: -1px;overflow: hidden;padding: 0;position: absolute;width: 1px;}#sk-container-id-13 div.sk-estimator {font-family: monospace;background-color: #f0f8ff;border: 1px dotted black;border-radius: 0.25em;box-sizing: border-box;margin-bottom: 0.5em;}#sk-container-id-13 div.sk-estimator:hover {background-color: #d4ebff;}#sk-container-id-13 div.sk-parallel-item::after {content: \"\";width: 100%;border-bottom: 1px solid gray;flex-grow: 1;}#sk-container-id-13 div.sk-label:hover label.sk-toggleable__label {background-color: #d4ebff;}#sk-container-id-13 div.sk-serial::before {content: \"\";position: absolute;border-left: 1px solid gray;box-sizing: border-box;top: 0;bottom: 0;left: 50%;z-index: 0;}#sk-container-id-13 div.sk-serial {display: flex;flex-direction: column;align-items: center;background-color: white;padding-right: 0.2em;padding-left: 0.2em;position: relative;}#sk-container-id-13 div.sk-item {position: relative;z-index: 1;}#sk-container-id-13 div.sk-parallel {display: flex;align-items: stretch;justify-content: center;background-color: white;position: relative;}#sk-container-id-13 div.sk-item::before, #sk-container-id-13 div.sk-parallel-item::before {content: \"\";position: absolute;border-left: 1px solid gray;box-sizing: border-box;top: 0;bottom: 0;left: 50%;z-index: -1;}#sk-container-id-13 div.sk-parallel-item {display: flex;flex-direction: column;z-index: 1;position: relative;background-color: white;}#sk-container-id-13 div.sk-parallel-item:first-child::after {align-self: flex-end;width: 50%;}#sk-container-id-13 div.sk-parallel-item:last-child::after {align-self: flex-start;width: 50%;}#sk-container-id-13 div.sk-parallel-item:only-child::after {width: 0;}#sk-container-id-13 div.sk-dashed-wrapped {border: 1px dashed gray;margin: 0 0.4em 0.5em 0.4em;box-sizing: border-box;padding-bottom: 0.4em;background-color: white;}#sk-container-id-13 div.sk-label label {font-family: monospace;font-weight: bold;display: inline-block;line-height: 1.2em;}#sk-container-id-13 div.sk-label-container {text-align: center;}#sk-container-id-13 div.sk-container {/* jupyter's `normalize.less` sets `[hidden] { display: none; }` but bootstrap.min.css set `[hidden] { display: none !important; }` so we also need the `!important` here to be able to override the default hidden behavior on the sphinx rendered scikit-learn.org. See: https://github.com/scikit-learn/scikit-learn/issues/21755 */display: inline-block !important;position: relative;}#sk-container-id-13 div.sk-text-repr-fallback {display: none;}</style><div id=\"sk-container-id-13\" class=\"sk-top-container\"><div class=\"sk-text-repr-fallback\"><pre>MultinomialNB()</pre><b>In a Jupyter environment, please rerun this cell to show the HTML representation or trust the notebook. <br />On GitHub, the HTML representation is unable to render, please try loading this page with nbviewer.org.</b></div><div class=\"sk-container\" hidden><div class=\"sk-item\"><div class=\"sk-estimator sk-toggleable\"><input class=\"sk-toggleable__control sk-hidden--visually\" id=\"sk-estimator-id-13\" type=\"checkbox\" checked><label for=\"sk-estimator-id-13\" class=\"sk-toggleable__label sk-toggleable__label-arrow\">MultinomialNB</label><div class=\"sk-toggleable__content\"><pre>MultinomialNB()</pre></div></div></div></div></div>"
      ],
      "text/plain": [
       "MultinomialNB()"
      ]
     },
     "execution_count": 364,
     "metadata": {},
     "output_type": "execute_result"
    }
   ],
   "source": [
    "model = MultinomialNB()\n",
    "model.fit(X_train, train_df[\"category\"])"
   ]
  },
  {
   "cell_type": "code",
   "execution_count": 365,
   "id": "a69478ba-748f-4b96-a586-8968e6af79a5",
   "metadata": {
    "tags": []
   },
   "outputs": [
    {
     "name": "stdout",
     "output_type": "stream",
     "text": [
      "Training accuracy: 0.8571\n",
      "Test accuracy: 0.7575\n"
     ]
    }
   ],
   "source": [
    "# Evaluate the accuracy of the model\n",
    "# 1. Predict \n",
    "Y_test = model.predict(X_test)\n",
    "Y_train = model.predict(X_train)\n",
    "\n",
    "# 2. Evaluate\n",
    "accuracy = accuracy_score(test_df[\"category\"], Y_test)\n",
    "train_accuracy = accuracy_score(train_df[\"category\"], Y_train)\n",
    "\n",
    "print(f\"Training accuracy: {train_accuracy:.4f}\")\n",
    "print(f\"Test accuracy: {accuracy:.4f}\")"
   ]
  },
  {
   "cell_type": "code",
   "execution_count": 366,
   "id": "c3071039-5065-4ed6-b457-0a3d871b41e9",
   "metadata": {
    "tags": []
   },
   "outputs": [],
   "source": [
    "comparison_df = pd.DataFrame(data={\"Tokens\": test_df[\"tokens\"], \"Expected Category\": test_df[\"category\"], \"Predicted Category\": Y_test})"
   ]
  },
  {
   "cell_type": "code",
   "execution_count": 367,
   "id": "e8c15bc0-8af0-4bcc-8aca-494fcf9f1b83",
   "metadata": {
    "tags": []
   },
   "outputs": [
    {
     "data": {
      "text/html": [
       "<div>\n",
       "<style scoped>\n",
       "    .dataframe tbody tr th:only-of-type {\n",
       "        vertical-align: middle;\n",
       "    }\n",
       "\n",
       "    .dataframe tbody tr th {\n",
       "        vertical-align: top;\n",
       "    }\n",
       "\n",
       "    .dataframe thead th {\n",
       "        text-align: right;\n",
       "    }\n",
       "</style>\n",
       "<table border=\"1\" class=\"dataframe\">\n",
       "  <thead>\n",
       "    <tr style=\"text-align: right;\">\n",
       "      <th></th>\n",
       "      <th>Tokens</th>\n",
       "      <th>Expected Category</th>\n",
       "      <th>Predicted Category</th>\n",
       "    </tr>\n",
       "  </thead>\n",
       "  <tbody>\n",
       "    <tr>\n",
       "      <th>1037</th>\n",
       "      <td>paludan</td>\n",
       "      <td>FOOD</td>\n",
       "      <td>AUTO</td>\n",
       "    </tr>\n",
       "    <tr>\n",
       "      <th>5515</th>\n",
       "      <td>deliveroo pari</td>\n",
       "      <td>VARIE</td>\n",
       "      <td>VIAGGI</td>\n",
       "    </tr>\n",
       "    <tr>\n",
       "      <th>5216</th>\n",
       "      <td>paypal courserainc z</td>\n",
       "      <td>SVAGO</td>\n",
       "      <td>VARIE</td>\n",
       "    </tr>\n",
       "    <tr>\n",
       "      <th>4558</th>\n",
       "      <td>movi rental</td>\n",
       "      <td>SVAGO</td>\n",
       "      <td>AUTO</td>\n",
       "    </tr>\n",
       "    <tr>\n",
       "      <th>2285</th>\n",
       "      <td>bed</td>\n",
       "      <td>FURNITURE</td>\n",
       "      <td>SUPERMERCATO</td>\n",
       "    </tr>\n",
       "    <tr>\n",
       "      <th>5081</th>\n",
       "      <td>insur mobil pay caro</td>\n",
       "      <td>HOME</td>\n",
       "      <td>AUTO</td>\n",
       "    </tr>\n",
       "    <tr>\n",
       "      <th>3946</th>\n",
       "      <td>dog food</td>\n",
       "      <td>PET</td>\n",
       "      <td>VARIE</td>\n",
       "    </tr>\n",
       "    <tr>\n",
       "      <th>2012</th>\n",
       "      <td>royal arena</td>\n",
       "      <td>USCITE</td>\n",
       "      <td>AUTO</td>\n",
       "    </tr>\n",
       "    <tr>\n",
       "      <th>5702</th>\n",
       "      <td>googl cloud sccxg milan</td>\n",
       "      <td>SVAGO</td>\n",
       "      <td>VARIE</td>\n",
       "    </tr>\n",
       "    <tr>\n",
       "      <th>300</th>\n",
       "      <td>pranzo ikea</td>\n",
       "      <td>FOOD</td>\n",
       "      <td>FURNITURE</td>\n",
       "    </tr>\n",
       "    <tr>\n",
       "      <th>3596</th>\n",
       "      <td>shirt boggi</td>\n",
       "      <td>CLOTHES</td>\n",
       "      <td>VARIE</td>\n",
       "    </tr>\n",
       "    <tr>\n",
       "      <th>2775</th>\n",
       "      <td>legna casa</td>\n",
       "      <td>HOME</td>\n",
       "      <td>SUPERMERCATO</td>\n",
       "    </tr>\n",
       "    <tr>\n",
       "      <th>3390</th>\n",
       "      <td>storbæltbroen</td>\n",
       "      <td>VIAGGI</td>\n",
       "      <td>AUTO</td>\n",
       "    </tr>\n",
       "    <tr>\n",
       "      <th>1256</th>\n",
       "      <td>slider pandini</td>\n",
       "      <td>USCITE</td>\n",
       "      <td>AUTO</td>\n",
       "    </tr>\n",
       "    <tr>\n",
       "      <th>5487</th>\n",
       "      <td>politiken boghal koebenhavn v</td>\n",
       "      <td>VARIE</td>\n",
       "      <td>SVAGO</td>\n",
       "    </tr>\n",
       "    <tr>\n",
       "      <th>4578</th>\n",
       "      <td>benzina</td>\n",
       "      <td>VIAGGI</td>\n",
       "      <td>AUTO</td>\n",
       "    </tr>\n",
       "    <tr>\n",
       "      <th>5474</th>\n",
       "      <td>krogsgaard finan</td>\n",
       "      <td>AUTO</td>\n",
       "      <td>VARIE</td>\n",
       "    </tr>\n",
       "    <tr>\n",
       "      <th>525</th>\n",
       "      <td>domain registrarion</td>\n",
       "      <td>SVAGO</td>\n",
       "      <td>AUTO</td>\n",
       "    </tr>\n",
       "    <tr>\n",
       "      <th>2220</th>\n",
       "      <td>coc</td>\n",
       "      <td>SVAGO</td>\n",
       "      <td>VARIE</td>\n",
       "    </tr>\n",
       "    <tr>\n",
       "      <th>861</th>\n",
       "      <td>restaur sushi</td>\n",
       "      <td>USCITE</td>\n",
       "      <td>VIAGGI</td>\n",
       "    </tr>\n",
       "    <tr>\n",
       "      <th>4474</th>\n",
       "      <td>huitr apero</td>\n",
       "      <td>VIAGGI</td>\n",
       "      <td>AUTO</td>\n",
       "    </tr>\n",
       "    <tr>\n",
       "      <th>3081</th>\n",
       "      <td>market asian restaur</td>\n",
       "      <td>USCITE</td>\n",
       "      <td>VARIE</td>\n",
       "    </tr>\n",
       "    <tr>\n",
       "      <th>1424</th>\n",
       "      <td>silvan</td>\n",
       "      <td>FURNITURE</td>\n",
       "      <td>HOME</td>\n",
       "    </tr>\n",
       "    <tr>\n",
       "      <th>491</th>\n",
       "      <td>caval</td>\n",
       "      <td>USCITE</td>\n",
       "      <td>AUTO</td>\n",
       "    </tr>\n",
       "    <tr>\n",
       "      <th>4495</th>\n",
       "      <td>mobilia</td>\n",
       "      <td>VIAGGI</td>\n",
       "      <td>AUTO</td>\n",
       "    </tr>\n",
       "    <tr>\n",
       "      <th>442</th>\n",
       "      <td>rib beer</td>\n",
       "      <td>USCITE</td>\n",
       "      <td>AUTO</td>\n",
       "    </tr>\n",
       "    <tr>\n",
       "      <th>3147</th>\n",
       "      <td>pesi fit</td>\n",
       "      <td>PALESTRA</td>\n",
       "      <td>VARIE</td>\n",
       "    </tr>\n",
       "    <tr>\n",
       "      <th>2038</th>\n",
       "      <td>hike stuff</td>\n",
       "      <td>VIAGGI</td>\n",
       "      <td>VARIE</td>\n",
       "    </tr>\n",
       "    <tr>\n",
       "      <th>490</th>\n",
       "      <td>ingresso caval</td>\n",
       "      <td>USCITE</td>\n",
       "      <td>AUTO</td>\n",
       "    </tr>\n",
       "    <tr>\n",
       "      <th>5572</th>\n",
       "      <td>krogsgaard finan</td>\n",
       "      <td>AUTO</td>\n",
       "      <td>VARIE</td>\n",
       "    </tr>\n",
       "    <tr>\n",
       "      <th>1370</th>\n",
       "      <td>warpig</td>\n",
       "      <td>USCITE</td>\n",
       "      <td>VARIE</td>\n",
       "    </tr>\n",
       "    <tr>\n",
       "      <th>5225</th>\n",
       "      <td>fisketorvet føtex</td>\n",
       "      <td>VARIE</td>\n",
       "      <td>SUPERMERCATO</td>\n",
       "    </tr>\n",
       "    <tr>\n",
       "      <th>5221</th>\n",
       "      <td></td>\n",
       "      <td>VARIE</td>\n",
       "      <td>AUTO</td>\n",
       "    </tr>\n",
       "    <tr>\n",
       "      <th>5059</th>\n",
       "      <td>tivoli noah</td>\n",
       "      <td>CHILD</td>\n",
       "      <td>VARIE</td>\n",
       "    </tr>\n",
       "    <tr>\n",
       "      <th>705</th>\n",
       "      <td>cena slovenia</td>\n",
       "      <td>VARIE</td>\n",
       "      <td>VIAGGI</td>\n",
       "    </tr>\n",
       "    <tr>\n",
       "      <th>14</th>\n",
       "      <td>amazon prime  abbonamento</td>\n",
       "      <td>VARIE</td>\n",
       "      <td>SVAGO</td>\n",
       "    </tr>\n",
       "    <tr>\n",
       "      <th>3228</th>\n",
       "      <td>dentist</td>\n",
       "      <td>SALUTE</td>\n",
       "      <td>SUPERMERCATO</td>\n",
       "    </tr>\n",
       "    <tr>\n",
       "      <th>4577</th>\n",
       "      <td>biglietti metro</td>\n",
       "      <td>VIAGGI</td>\n",
       "      <td>VARIE</td>\n",
       "    </tr>\n",
       "    <tr>\n",
       "      <th>5729</th>\n",
       "      <td>transfer budget</td>\n",
       "      <td>HOME</td>\n",
       "      <td>VARIE</td>\n",
       "    </tr>\n",
       "    <tr>\n",
       "      <th>5537</th>\n",
       "      <td>amzn mktp de adync amazon de</td>\n",
       "      <td>VARIE</td>\n",
       "      <td>SVAGO</td>\n",
       "    </tr>\n",
       "    <tr>\n",
       "      <th>5201</th>\n",
       "      <td>medicin</td>\n",
       "      <td>SALUTE</td>\n",
       "      <td>VARIE</td>\n",
       "    </tr>\n",
       "    <tr>\n",
       "      <th>1562</th>\n",
       "      <td>silvan</td>\n",
       "      <td>FURNITURE</td>\n",
       "      <td>HOME</td>\n",
       "    </tr>\n",
       "    <tr>\n",
       "      <th>225</th>\n",
       "      <td>rib  beer  uscita ex lynx</td>\n",
       "      <td>USCITE</td>\n",
       "      <td>AUTO</td>\n",
       "    </tr>\n",
       "    <tr>\n",
       "      <th>5261</th>\n",
       "      <td>silvan  fisketo</td>\n",
       "      <td>VARIE</td>\n",
       "      <td>HOME</td>\n",
       "    </tr>\n",
       "    <tr>\n",
       "      <th>4816</th>\n",
       "      <td>sushi lore</td>\n",
       "      <td>FOOD</td>\n",
       "      <td>VIAGGI</td>\n",
       "    </tr>\n",
       "    <tr>\n",
       "      <th>5022</th>\n",
       "      <td>dog griseør</td>\n",
       "      <td>PET</td>\n",
       "      <td>VARIE</td>\n",
       "    </tr>\n",
       "    <tr>\n",
       "      <th>3436</th>\n",
       "      <td>b skar</td>\n",
       "      <td>VARIE</td>\n",
       "      <td>AUTO</td>\n",
       "    </tr>\n",
       "    <tr>\n",
       "      <th>1859</th>\n",
       "      <td>lampadin pile</td>\n",
       "      <td>HOME</td>\n",
       "      <td>AUTO</td>\n",
       "    </tr>\n",
       "    <tr>\n",
       "      <th>4390</th>\n",
       "      <td>delic</td>\n",
       "      <td>VIAGGI</td>\n",
       "      <td>AUTO</td>\n",
       "    </tr>\n",
       "    <tr>\n",
       "      <th>4810</th>\n",
       "      <td>warsaw store</td>\n",
       "      <td>VIAGGI</td>\n",
       "      <td>SUPERMERCATO</td>\n",
       "    </tr>\n",
       "  </tbody>\n",
       "</table>\n",
       "</div>"
      ],
      "text/plain": [
       "                             Tokens Expected Category Predicted Category\n",
       "1037                        paludan              FOOD               AUTO\n",
       "5515                deliveroo pari              VARIE             VIAGGI\n",
       "5216           paypal courserainc z             SVAGO              VARIE\n",
       "4558                    movi rental             SVAGO               AUTO\n",
       "2285                            bed         FURNITURE       SUPERMERCATO\n",
       "5081           insur mobil pay caro              HOME               AUTO\n",
       "3946                       dog food               PET              VARIE\n",
       "2012                  royal arena              USCITE               AUTO\n",
       "5702        googl cloud sccxg milan             SVAGO              VARIE\n",
       "300                     pranzo ikea              FOOD          FURNITURE\n",
       "3596                    shirt boggi           CLOTHES              VARIE\n",
       "2775                     legna casa              HOME       SUPERMERCATO\n",
       "3390                  storbæltbroen            VIAGGI               AUTO\n",
       "1256                 slider pandini            USCITE               AUTO\n",
       "5487  politiken boghal koebenhavn v             VARIE              SVAGO\n",
       "4578                        benzina            VIAGGI               AUTO\n",
       "5474               krogsgaard finan              AUTO              VARIE\n",
       "525             domain registrarion             SVAGO               AUTO\n",
       "2220                            coc             SVAGO              VARIE\n",
       "861                   restaur sushi            USCITE             VIAGGI\n",
       "4474                    huitr apero            VIAGGI               AUTO\n",
       "3081           market asian restaur            USCITE              VARIE\n",
       "1424                         silvan         FURNITURE               HOME\n",
       "491                           caval            USCITE               AUTO\n",
       "4495                        mobilia            VIAGGI               AUTO\n",
       "442                        rib beer            USCITE               AUTO\n",
       "3147                       pesi fit          PALESTRA              VARIE\n",
       "2038                     hike stuff            VIAGGI              VARIE\n",
       "490                  ingresso caval            USCITE               AUTO\n",
       "5572               krogsgaard finan              AUTO              VARIE\n",
       "1370                         warpig            USCITE              VARIE\n",
       "5225             fisketorvet føtex              VARIE       SUPERMERCATO\n",
       "5221                                            VARIE               AUTO\n",
       "5059                    tivoli noah             CHILD              VARIE\n",
       "705                   cena slovenia             VARIE             VIAGGI\n",
       "14        amazon prime  abbonamento             VARIE              SVAGO\n",
       "3228                        dentist            SALUTE       SUPERMERCATO\n",
       "4577                biglietti metro            VIAGGI              VARIE\n",
       "5729                transfer budget              HOME              VARIE\n",
       "5537   amzn mktp de adync amazon de             VARIE              SVAGO\n",
       "5201                        medicin            SALUTE              VARIE\n",
       "1562                         silvan         FURNITURE               HOME\n",
       "225       rib  beer  uscita ex lynx            USCITE               AUTO\n",
       "5261               silvan  fisketo              VARIE               HOME\n",
       "4816                     sushi lore              FOOD             VIAGGI\n",
       "5022                    dog griseør               PET              VARIE\n",
       "3436                        b skar              VARIE               AUTO\n",
       "1859                  lampadin pile              HOME               AUTO\n",
       "4390                          delic            VIAGGI               AUTO\n",
       "4810                   warsaw store            VIAGGI       SUPERMERCATO"
      ]
     },
     "execution_count": 367,
     "metadata": {},
     "output_type": "execute_result"
    }
   ],
   "source": [
    "comparison_df[comparison_df[\"Expected Category\"] != comparison_df[\"Predicted Category\"]].head(50)"
   ]
  },
  {
   "cell_type": "markdown",
   "id": "5e42539a-3fd0-4c30-94a6-9bd6ce9e47b1",
   "metadata": {},
   "source": [
    "### Trying One-hot encoding"
   ]
  },
  {
   "cell_type": "code",
   "execution_count": 368,
   "id": "f9794295-815b-4e01-97ca-6d114c338f3d",
   "metadata": {
    "tags": []
   },
   "outputs": [
    {
     "data": {
      "text/plain": [
       "1630           [supermarket, føtex]\n",
       "2217                          [coc]\n",
       "2005    [starbuck, coffe, hous, mo]\n",
       "528                       [fastweb]\n",
       "3168                       [milano]\n",
       "                   ...             \n",
       "5008               [present, peter]\n",
       "1155              [parcheggio, cph]\n",
       "4721                  [supermarket]\n",
       "3476                  [supermarket]\n",
       "3299                          [car]\n",
       "Name: split_tokens, Length: 3464, dtype: object"
      ]
     },
     "execution_count": 368,
     "metadata": {},
     "output_type": "execute_result"
    }
   ],
   "source": [
    "oh_train_df = train_df.copy()\n",
    "\n",
    "oh_train_df[\"split_tokens\"] = oh_train_df[\"tokens\"].apply(str.split)\n",
    "oh_train_df[\"split_tokens\"]"
   ]
  },
  {
   "cell_type": "code",
   "execution_count": 369,
   "id": "4b7ae4b3-8e97-4ddc-8d05-80240968f5f8",
   "metadata": {
    "tags": []
   },
   "outputs": [],
   "source": [
    "def create_vocab(list_of_tokens): \n",
    "    \"\"\"Creates a vocabulary dict of the list of tokens used in the training data. \n",
    "    \n",
    "    The dictionnary is an index dictionnary, that assign to each word an index. \n",
    "    The dictionnary is meant to be used for \"one-hot encoding\" or similar\n",
    "    \n",
    "    Returns\n",
    "     - (dict) where the key is the word and the value is the index\n",
    "    \"\"\"\n",
    "    \n",
    "    vocab = {}\n",
    "    \n",
    "    idx = 1\n",
    "    for l in list_of_tokens:\n",
    "        for token in l: \n",
    "            if token not in vocab.keys(): \n",
    "                vocab[token] = idx\n",
    "                idx += 1\n",
    "                \n",
    "    # Add the UNK word\n",
    "    vocab[\"UNK\"] = 0\n",
    "    \n",
    "    return vocab"
   ]
  },
  {
   "cell_type": "code",
   "execution_count": 370,
   "id": "330c9eeb-16d3-438a-a9f3-22dd652ea695",
   "metadata": {
    "tags": []
   },
   "outputs": [],
   "source": [
    "vocab = create_vocab(oh_train_df[\"split_tokens\"].values)"
   ]
  },
  {
   "cell_type": "code",
   "execution_count": 371,
   "id": "f2caed52-d3c7-41ac-8461-7a70dc267177",
   "metadata": {
    "tags": []
   },
   "outputs": [],
   "source": [
    "def custom_encode(words: list, vocab: dict, unknown_word: str = \"UNK\"): \n",
    "    \n",
    "    encoded_words = np.zeros(len(vocab))\n",
    "    \n",
    "    # Create an encoding of the words\n",
    "    for word in words: \n",
    "        if word in vocab.keys():\n",
    "            idx = vocab[word]\n",
    "        else:\n",
    "            idx = vocab[unknown_word]\n",
    "        \n",
    "        encoded_words[idx] = 1\n",
    "    \n",
    "    return encoded_words.tolist()\n",
    "    \n",
    "    "
   ]
  },
  {
   "cell_type": "code",
   "execution_count": 372,
   "id": "8a80f8b4-feec-47c8-a1a8-835048740493",
   "metadata": {
    "tags": []
   },
   "outputs": [],
   "source": [
    "# Quick test\n",
    "# custom_encode(\"parcheggio lampugnano\".split(), vocab)"
   ]
  },
  {
   "cell_type": "code",
   "execution_count": 373,
   "id": "3140b127-c014-4e1c-9d61-63804be13d8b",
   "metadata": {
    "tags": []
   },
   "outputs": [],
   "source": [
    "# Apply to training dataframe\n",
    "oh_train_df[\"encoded_tokens\"] = oh_train_df[\"split_tokens\"].apply(lambda x: custom_encode(x, vocab))"
   ]
  },
  {
   "cell_type": "code",
   "execution_count": 374,
   "id": "e058369c-99f6-498d-aca6-71fc05af0449",
   "metadata": {
    "tags": []
   },
   "outputs": [],
   "source": [
    "X_train = oh_train_df[\"encoded_tokens\"].values.tolist()\n",
    "Y_train = oh_train_df[\"category\"].values.tolist()"
   ]
  },
  {
   "cell_type": "code",
   "execution_count": 375,
   "id": "14037d06-e0fe-44cf-83a3-6ae295edd518",
   "metadata": {
    "tags": []
   },
   "outputs": [
    {
     "data": {
      "text/html": [
       "<style>#sk-container-id-14 {color: black;}#sk-container-id-14 pre{padding: 0;}#sk-container-id-14 div.sk-toggleable {background-color: white;}#sk-container-id-14 label.sk-toggleable__label {cursor: pointer;display: block;width: 100%;margin-bottom: 0;padding: 0.3em;box-sizing: border-box;text-align: center;}#sk-container-id-14 label.sk-toggleable__label-arrow:before {content: \"▸\";float: left;margin-right: 0.25em;color: #696969;}#sk-container-id-14 label.sk-toggleable__label-arrow:hover:before {color: black;}#sk-container-id-14 div.sk-estimator:hover label.sk-toggleable__label-arrow:before {color: black;}#sk-container-id-14 div.sk-toggleable__content {max-height: 0;max-width: 0;overflow: hidden;text-align: left;background-color: #f0f8ff;}#sk-container-id-14 div.sk-toggleable__content pre {margin: 0.2em;color: black;border-radius: 0.25em;background-color: #f0f8ff;}#sk-container-id-14 input.sk-toggleable__control:checked~div.sk-toggleable__content {max-height: 200px;max-width: 100%;overflow: auto;}#sk-container-id-14 input.sk-toggleable__control:checked~label.sk-toggleable__label-arrow:before {content: \"▾\";}#sk-container-id-14 div.sk-estimator input.sk-toggleable__control:checked~label.sk-toggleable__label {background-color: #d4ebff;}#sk-container-id-14 div.sk-label input.sk-toggleable__control:checked~label.sk-toggleable__label {background-color: #d4ebff;}#sk-container-id-14 input.sk-hidden--visually {border: 0;clip: rect(1px 1px 1px 1px);clip: rect(1px, 1px, 1px, 1px);height: 1px;margin: -1px;overflow: hidden;padding: 0;position: absolute;width: 1px;}#sk-container-id-14 div.sk-estimator {font-family: monospace;background-color: #f0f8ff;border: 1px dotted black;border-radius: 0.25em;box-sizing: border-box;margin-bottom: 0.5em;}#sk-container-id-14 div.sk-estimator:hover {background-color: #d4ebff;}#sk-container-id-14 div.sk-parallel-item::after {content: \"\";width: 100%;border-bottom: 1px solid gray;flex-grow: 1;}#sk-container-id-14 div.sk-label:hover label.sk-toggleable__label {background-color: #d4ebff;}#sk-container-id-14 div.sk-serial::before {content: \"\";position: absolute;border-left: 1px solid gray;box-sizing: border-box;top: 0;bottom: 0;left: 50%;z-index: 0;}#sk-container-id-14 div.sk-serial {display: flex;flex-direction: column;align-items: center;background-color: white;padding-right: 0.2em;padding-left: 0.2em;position: relative;}#sk-container-id-14 div.sk-item {position: relative;z-index: 1;}#sk-container-id-14 div.sk-parallel {display: flex;align-items: stretch;justify-content: center;background-color: white;position: relative;}#sk-container-id-14 div.sk-item::before, #sk-container-id-14 div.sk-parallel-item::before {content: \"\";position: absolute;border-left: 1px solid gray;box-sizing: border-box;top: 0;bottom: 0;left: 50%;z-index: -1;}#sk-container-id-14 div.sk-parallel-item {display: flex;flex-direction: column;z-index: 1;position: relative;background-color: white;}#sk-container-id-14 div.sk-parallel-item:first-child::after {align-self: flex-end;width: 50%;}#sk-container-id-14 div.sk-parallel-item:last-child::after {align-self: flex-start;width: 50%;}#sk-container-id-14 div.sk-parallel-item:only-child::after {width: 0;}#sk-container-id-14 div.sk-dashed-wrapped {border: 1px dashed gray;margin: 0 0.4em 0.5em 0.4em;box-sizing: border-box;padding-bottom: 0.4em;background-color: white;}#sk-container-id-14 div.sk-label label {font-family: monospace;font-weight: bold;display: inline-block;line-height: 1.2em;}#sk-container-id-14 div.sk-label-container {text-align: center;}#sk-container-id-14 div.sk-container {/* jupyter's `normalize.less` sets `[hidden] { display: none; }` but bootstrap.min.css set `[hidden] { display: none !important; }` so we also need the `!important` here to be able to override the default hidden behavior on the sphinx rendered scikit-learn.org. See: https://github.com/scikit-learn/scikit-learn/issues/21755 */display: inline-block !important;position: relative;}#sk-container-id-14 div.sk-text-repr-fallback {display: none;}</style><div id=\"sk-container-id-14\" class=\"sk-top-container\"><div class=\"sk-text-repr-fallback\"><pre>MultinomialNB()</pre><b>In a Jupyter environment, please rerun this cell to show the HTML representation or trust the notebook. <br />On GitHub, the HTML representation is unable to render, please try loading this page with nbviewer.org.</b></div><div class=\"sk-container\" hidden><div class=\"sk-item\"><div class=\"sk-estimator sk-toggleable\"><input class=\"sk-toggleable__control sk-hidden--visually\" id=\"sk-estimator-id-14\" type=\"checkbox\" checked><label for=\"sk-estimator-id-14\" class=\"sk-toggleable__label sk-toggleable__label-arrow\">MultinomialNB</label><div class=\"sk-toggleable__content\"><pre>MultinomialNB()</pre></div></div></div></div></div>"
      ],
      "text/plain": [
       "MultinomialNB()"
      ]
     },
     "execution_count": 375,
     "metadata": {},
     "output_type": "execute_result"
    }
   ],
   "source": [
    "model = MultinomialNB()\n",
    "model.fit(X_train, Y_train)"
   ]
  },
  {
   "cell_type": "code",
   "execution_count": 376,
   "id": "ebb5451f-fcaa-4462-8297-f226f82555e1",
   "metadata": {
    "tags": []
   },
   "outputs": [
    {
     "name": "stdout",
     "output_type": "stream",
     "text": [
      "Training accuracy: 1.0000\n",
      "Test accuracy: 0.7552\n"
     ]
    }
   ],
   "source": [
    "# Evaluate the accuracy of the model\n",
    "oh_test_df = test_df.copy()\n",
    "oh_test_df[\"split_tokens\"] = oh_test_df[\"tokens\"].apply(str.split)\n",
    "oh_test_df[\"encoded_tokens\"] = oh_test_df[\"split_tokens\"].apply(lambda x: custom_encode(x, vocab))\n",
    "\n",
    "X_test = oh_test_df[\"encoded_tokens\"].values.tolist()\n",
    "\n",
    "# 1. Predict \n",
    "Y_test = model.predict(X_test)\n",
    "Y_train_pred = model.predict(X_train)\n",
    "\n",
    "# 2. Evaluate\n",
    "accuracy = accuracy_score(oh_test_df[\"category\"], Y_test)\n",
    "train_accuracy = accuracy_score(oh_train_df[\"category\"], Y_train)\n",
    "\n",
    "print(f\"Training accuracy: {train_accuracy:.4f}\")\n",
    "print(f\"Test accuracy: {accuracy:.4f}\")"
   ]
  },
  {
   "cell_type": "markdown",
   "id": "9ba5e50b-da24-4480-8714-3c990db2c25f",
   "metadata": {},
   "source": [
    "### Trying other models (RF, MLP, etc..)"
   ]
  },
  {
   "cell_type": "markdown",
   "id": "ecb634af-192d-4b10-85a0-6a68704d5e1a",
   "metadata": {},
   "source": [
    "This still uses the custom vectorization"
   ]
  },
  {
   "cell_type": "code",
   "execution_count": 380,
   "id": "644556ba-a0f2-4c39-b4bc-175daf367a2f",
   "metadata": {
    "tags": []
   },
   "outputs": [],
   "source": [
    "from sklearn.ensemble import RandomForestClassifier\n",
    "from sklearn.neural_network import MLPClassifier"
   ]
  },
  {
   "cell_type": "code",
   "execution_count": 381,
   "id": "d987adee-0853-4a5a-989b-4c80a4b0551c",
   "metadata": {
    "tags": []
   },
   "outputs": [
    {
     "data": {
      "text/html": [
       "<style>#sk-container-id-16 {color: black;}#sk-container-id-16 pre{padding: 0;}#sk-container-id-16 div.sk-toggleable {background-color: white;}#sk-container-id-16 label.sk-toggleable__label {cursor: pointer;display: block;width: 100%;margin-bottom: 0;padding: 0.3em;box-sizing: border-box;text-align: center;}#sk-container-id-16 label.sk-toggleable__label-arrow:before {content: \"▸\";float: left;margin-right: 0.25em;color: #696969;}#sk-container-id-16 label.sk-toggleable__label-arrow:hover:before {color: black;}#sk-container-id-16 div.sk-estimator:hover label.sk-toggleable__label-arrow:before {color: black;}#sk-container-id-16 div.sk-toggleable__content {max-height: 0;max-width: 0;overflow: hidden;text-align: left;background-color: #f0f8ff;}#sk-container-id-16 div.sk-toggleable__content pre {margin: 0.2em;color: black;border-radius: 0.25em;background-color: #f0f8ff;}#sk-container-id-16 input.sk-toggleable__control:checked~div.sk-toggleable__content {max-height: 200px;max-width: 100%;overflow: auto;}#sk-container-id-16 input.sk-toggleable__control:checked~label.sk-toggleable__label-arrow:before {content: \"▾\";}#sk-container-id-16 div.sk-estimator input.sk-toggleable__control:checked~label.sk-toggleable__label {background-color: #d4ebff;}#sk-container-id-16 div.sk-label input.sk-toggleable__control:checked~label.sk-toggleable__label {background-color: #d4ebff;}#sk-container-id-16 input.sk-hidden--visually {border: 0;clip: rect(1px 1px 1px 1px);clip: rect(1px, 1px, 1px, 1px);height: 1px;margin: -1px;overflow: hidden;padding: 0;position: absolute;width: 1px;}#sk-container-id-16 div.sk-estimator {font-family: monospace;background-color: #f0f8ff;border: 1px dotted black;border-radius: 0.25em;box-sizing: border-box;margin-bottom: 0.5em;}#sk-container-id-16 div.sk-estimator:hover {background-color: #d4ebff;}#sk-container-id-16 div.sk-parallel-item::after {content: \"\";width: 100%;border-bottom: 1px solid gray;flex-grow: 1;}#sk-container-id-16 div.sk-label:hover label.sk-toggleable__label {background-color: #d4ebff;}#sk-container-id-16 div.sk-serial::before {content: \"\";position: absolute;border-left: 1px solid gray;box-sizing: border-box;top: 0;bottom: 0;left: 50%;z-index: 0;}#sk-container-id-16 div.sk-serial {display: flex;flex-direction: column;align-items: center;background-color: white;padding-right: 0.2em;padding-left: 0.2em;position: relative;}#sk-container-id-16 div.sk-item {position: relative;z-index: 1;}#sk-container-id-16 div.sk-parallel {display: flex;align-items: stretch;justify-content: center;background-color: white;position: relative;}#sk-container-id-16 div.sk-item::before, #sk-container-id-16 div.sk-parallel-item::before {content: \"\";position: absolute;border-left: 1px solid gray;box-sizing: border-box;top: 0;bottom: 0;left: 50%;z-index: -1;}#sk-container-id-16 div.sk-parallel-item {display: flex;flex-direction: column;z-index: 1;position: relative;background-color: white;}#sk-container-id-16 div.sk-parallel-item:first-child::after {align-self: flex-end;width: 50%;}#sk-container-id-16 div.sk-parallel-item:last-child::after {align-self: flex-start;width: 50%;}#sk-container-id-16 div.sk-parallel-item:only-child::after {width: 0;}#sk-container-id-16 div.sk-dashed-wrapped {border: 1px dashed gray;margin: 0 0.4em 0.5em 0.4em;box-sizing: border-box;padding-bottom: 0.4em;background-color: white;}#sk-container-id-16 div.sk-label label {font-family: monospace;font-weight: bold;display: inline-block;line-height: 1.2em;}#sk-container-id-16 div.sk-label-container {text-align: center;}#sk-container-id-16 div.sk-container {/* jupyter's `normalize.less` sets `[hidden] { display: none; }` but bootstrap.min.css set `[hidden] { display: none !important; }` so we also need the `!important` here to be able to override the default hidden behavior on the sphinx rendered scikit-learn.org. See: https://github.com/scikit-learn/scikit-learn/issues/21755 */display: inline-block !important;position: relative;}#sk-container-id-16 div.sk-text-repr-fallback {display: none;}</style><div id=\"sk-container-id-16\" class=\"sk-top-container\"><div class=\"sk-text-repr-fallback\"><pre>RandomForestClassifier()</pre><b>In a Jupyter environment, please rerun this cell to show the HTML representation or trust the notebook. <br />On GitHub, the HTML representation is unable to render, please try loading this page with nbviewer.org.</b></div><div class=\"sk-container\" hidden><div class=\"sk-item\"><div class=\"sk-estimator sk-toggleable\"><input class=\"sk-toggleable__control sk-hidden--visually\" id=\"sk-estimator-id-16\" type=\"checkbox\" checked><label for=\"sk-estimator-id-16\" class=\"sk-toggleable__label sk-toggleable__label-arrow\">RandomForestClassifier</label><div class=\"sk-toggleable__content\"><pre>RandomForestClassifier()</pre></div></div></div></div></div>"
      ],
      "text/plain": [
       "RandomForestClassifier()"
      ]
     },
     "execution_count": 381,
     "metadata": {},
     "output_type": "execute_result"
    }
   ],
   "source": [
    "rf_model = RandomForestClassifier()\n",
    "\n",
    "rf_model.fit(X_train, Y_train)"
   ]
  },
  {
   "cell_type": "code",
   "execution_count": 379,
   "id": "25bfdeaa-a04a-474d-bef4-fd47ce83a0e2",
   "metadata": {
    "tags": []
   },
   "outputs": [
    {
     "name": "stdout",
     "output_type": "stream",
     "text": [
      "Training accuracy: 1.0000\n",
      "Test accuracy: 0.7829\n"
     ]
    }
   ],
   "source": [
    "# 1. Predict \n",
    "Y_test = rf_model.predict(X_test)\n",
    "Y_train_pred = rf_model.predict(X_train)\n",
    "\n",
    "# 2. Evaluate\n",
    "accuracy = accuracy_score(oh_test_df[\"category\"], Y_test)\n",
    "train_accuracy = accuracy_score(oh_train_df[\"category\"], Y_train)\n",
    "\n",
    "print(f\"Training accuracy: {train_accuracy:.4f}\")\n",
    "print(f\"Test accuracy: {accuracy:.4f}\")"
   ]
  },
  {
   "cell_type": "code",
   "execution_count": 382,
   "id": "32636d8c-1525-4b1d-a28b-c99f871ea7ce",
   "metadata": {
    "tags": []
   },
   "outputs": [
    {
     "name": "stdout",
     "output_type": "stream",
     "text": [
      "Training accuracy: 1.0000\n",
      "Test accuracy: 0.8210\n"
     ]
    }
   ],
   "source": [
    "mlp_model = MLPClassifier(hidden_layer_sizes=(30, 10))\n",
    "\n",
    "mlp_model.fit(X_train, Y_train)\n",
    "\n",
    "# 1. Predict \n",
    "Y_test = mlp_model.predict(X_test)\n",
    "Y_train_pred = mlp_model.predict(X_train)\n",
    "\n",
    "# 2. Evaluate\n",
    "accuracy = accuracy_score(oh_test_df[\"category\"], Y_test)\n",
    "train_accuracy = accuracy_score(oh_train_df[\"category\"], Y_train)\n",
    "\n",
    "print(f\"Training accuracy: {train_accuracy:.4f}\")\n",
    "print(f\"Test accuracy: {accuracy:.4f}\")"
   ]
  },
  {
   "cell_type": "markdown",
   "id": "90039790-0366-44da-8073-ca3b7b40f4c6",
   "metadata": {},
   "source": [
    "It really looks like MLPClassifier has by far the **highest test accuracy** of all the models. <br>\n",
    "Even though it clearly overfits the training set, it seems to be performing quite ok on the test set. \n",
    "\n",
    "We can try to run Grid Search on MLP"
   ]
  },
  {
   "cell_type": "code",
   "execution_count": 383,
   "id": "03ebf988-7f8a-4223-a081-143534dad96d",
   "metadata": {
    "tags": []
   },
   "outputs": [],
   "source": [
    "from sklearn.model_selection import GridSearchCV"
   ]
  },
  {
   "cell_type": "code",
   "execution_count": null,
   "id": "45a39560-e18d-41ee-8050-1a452c1a3ca3",
   "metadata": {
    "tags": []
   },
   "outputs": [],
   "source": [
    "mlp_grid_model = GridSearchCV(MLPClassifier(), param_grid={\n",
    "    \"hidden_layer_sizes\": [(30, 10), (50, 20), (100, 50)], \n",
    "    \"learning_rate_init\": [0.001, 0.01], \n",
    "    \"alpha\": [0.0001, 0.01]\n",
    "})\n",
    "\n",
    "mlp_grid_model.fit(X_train, Y_train)\n",
    "\n",
    "# 1. Predict \n",
    "Y_test = mlp_grid_model.predict(X_test)\n",
    "Y_train_pred = mlp_grid_model.predict(X_train)\n",
    "\n",
    "# 2. Evaluate\n",
    "accuracy = accuracy_score(oh_test_df[\"category\"], Y_test)\n",
    "train_accuracy = accuracy_score(oh_train_df[\"category\"], Y_train)\n",
    "\n",
    "print(f\"Training accuracy: {train_accuracy:.4f}\")\n",
    "print(f\"Test accuracy: {accuracy:.4f}\")\n"
   ]
  },
  {
   "cell_type": "markdown",
   "id": "9d9fce02-7cda-4edc-88fa-211e8acc4f56",
   "metadata": {},
   "source": [
    "# Saving the model"
   ]
  },
  {
   "cell_type": "code",
   "execution_count": 288,
   "id": "735d018a-f18d-44e6-8932-23c6e6c370b1",
   "metadata": {
    "tags": []
   },
   "outputs": [
    {
     "data": {
      "text/plain": [
       "array(['AUTO'], dtype='<U12')"
      ]
     },
     "execution_count": 288,
     "metadata": {},
     "output_type": "execute_result"
    }
   ],
   "source": [
    "my_X = binary_vectorizer.transform([\"benzina\"])\n",
    "model.predict(my_X)"
   ]
  },
  {
   "cell_type": "code",
   "execution_count": 90,
   "id": "18256d13-5b0f-4fcc-8c09-027e958f4cb6",
   "metadata": {
    "tags": []
   },
   "outputs": [],
   "source": [
    "with open(\"expcat-model-cbm\", \"wb\") as f: \n",
    "    pickle.dump(model, f)"
   ]
  },
  {
   "cell_type": "code",
   "execution_count": 91,
   "id": "9e0220eb-6296-4ac8-b22f-772077d584a9",
   "metadata": {
    "tags": []
   },
   "outputs": [],
   "source": [
    "with open(\"expcat-vect-cbm\", \"wb\") as  f:\n",
    "    pickle.dump(binary_vectorizer, f)"
   ]
  },
  {
   "cell_type": "code",
   "execution_count": 94,
   "id": "b2608abf-0d90-4760-b01d-47d0307b2bb4",
   "metadata": {
    "tags": []
   },
   "outputs": [],
   "source": [
    "stopwords_vocab = set(stopwords.words(\"danish\"))"
   ]
  },
  {
   "cell_type": "code",
   "execution_count": 95,
   "id": "5b905ed4-fa2b-46ab-8cd4-c78a6cf32fc9",
   "metadata": {
    "tags": []
   },
   "outputs": [],
   "source": [
    "with open(\"expcat-stopwords-cbm\", \"wb\") as f: \n",
    "    pickle.dump(stopwords_vocab, f)"
   ]
  },
  {
   "cell_type": "code",
   "execution_count": null,
   "id": "9e06934e-d4f8-420d-8fb8-88e7abe79d1f",
   "metadata": {},
   "outputs": [],
   "source": []
  }
 ],
 "metadata": {
  "kernelspec": {
   "display_name": "conda_tensorflow2_p310",
   "language": "python",
   "name": "conda_tensorflow2_p310"
  },
  "language_info": {
   "codemirror_mode": {
    "name": "ipython",
    "version": 3
   },
   "file_extension": ".py",
   "mimetype": "text/x-python",
   "name": "python",
   "nbconvert_exporter": "python",
   "pygments_lexer": "ipython3",
   "version": "3.10.12"
  }
 },
 "nbformat": 4,
 "nbformat_minor": 5
}
