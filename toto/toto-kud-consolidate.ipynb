{
 "cells": [
  {
   "cell_type": "code",
   "execution_count": 288,
   "metadata": {
    "tags": []
   },
   "outputs": [
    {
     "name": "stderr",
     "output_type": "stream",
     "text": [
      "[nltk_data] Downloading package stopwords to\n",
      "[nltk_data]     /home/ec2-user/nltk_data...\n",
      "[nltk_data]   Package stopwords is already up-to-date!\n",
      "[nltk_data] Downloading package punkt to /home/ec2-user/nltk_data...\n",
      "[nltk_data]   Package punkt is already up-to-date!\n"
     ]
    },
    {
     "data": {
      "text/plain": [
       "True"
      ]
     },
     "execution_count": 288,
     "metadata": {},
     "output_type": "execute_result"
    }
   ],
   "source": [
    "import pandas as pd\n",
    "import numpy as np\n",
    "import nltk\n",
    "import string\n",
    "from gensim.models.doc2vec import TaggedDocument, Doc2Vec\n",
    "from nltk.stem import PorterStemmer\n",
    "from nltk.corpus import stopwords\n",
    "\n",
    "import matplotlib.pyplot as plt\n",
    "import seaborn as sns\n",
    "\n",
    "from sklearn.model_selection import train_test_split\n",
    "from sklearn.ensemble import RandomForestClassifier\n",
    "from sklearn.neural_network import MLPClassifier\n",
    "from sklearn.metrics import accuracy_score, f1_score, confusion_matrix\n",
    "from sklearn.metrics.pairwise import cosine_similarity\n",
    "\n",
    "nltk.download('stopwords')\n",
    "nltk.download('punkt')"
   ]
  },
  {
   "cell_type": "code",
   "execution_count": 91,
   "metadata": {
    "tags": []
   },
   "outputs": [],
   "source": [
    "data = pd.read_csv(\"kud-consolidate/training_data.csv\")"
   ]
  },
  {
   "cell_type": "code",
   "execution_count": 92,
   "metadata": {
    "tags": []
   },
   "outputs": [
    {
     "data": {
      "text/html": [
       "<div>\n",
       "<style scoped>\n",
       "    .dataframe tbody tr th:only-of-type {\n",
       "        vertical-align: middle;\n",
       "    }\n",
       "\n",
       "    .dataframe tbody tr th {\n",
       "        vertical-align: top;\n",
       "    }\n",
       "\n",
       "    .dataframe thead th {\n",
       "        text-align: right;\n",
       "    }\n",
       "</style>\n",
       "<table border=\"1\" class=\"dataframe\">\n",
       "  <thead>\n",
       "    <tr style=\"text-align: right;\">\n",
       "      <th></th>\n",
       "      <th>type</th>\n",
       "      <th>kud_date</th>\n",
       "      <th>kud_text</th>\n",
       "      <th>kud_amount</th>\n",
       "      <th>toto_date</th>\n",
       "      <th>toto_text</th>\n",
       "      <th>toto_amount</th>\n",
       "      <th>label</th>\n",
       "    </tr>\n",
       "  </thead>\n",
       "  <tbody>\n",
       "    <tr>\n",
       "      <th>0</th>\n",
       "      <td>onetomany</td>\n",
       "      <td>11.04.2019</td>\n",
       "      <td>MobilePay Caroline Boje</td>\n",
       "      <td>-100.0</td>\n",
       "      <td>11.04.2022</td>\n",
       "      <td>Gift Uffe</td>\n",
       "      <td>100.0</td>\n",
       "      <td>0</td>\n",
       "    </tr>\n",
       "    <tr>\n",
       "      <th>1</th>\n",
       "      <td>onetomany</td>\n",
       "      <td>11.04.2019</td>\n",
       "      <td>MobilePay Caroline Boje</td>\n",
       "      <td>-100.0</td>\n",
       "      <td>11.04.2022</td>\n",
       "      <td>Parcheggio</td>\n",
       "      <td>100.0</td>\n",
       "      <td>0</td>\n",
       "    </tr>\n",
       "    <tr>\n",
       "      <th>2</th>\n",
       "      <td>onetomany</td>\n",
       "      <td>11.04.2019</td>\n",
       "      <td>MobilePay Caroline Boje</td>\n",
       "      <td>-100.0</td>\n",
       "      <td>29.04.2019</td>\n",
       "      <td>Cleaning lady</td>\n",
       "      <td>100.0</td>\n",
       "      <td>0</td>\n",
       "    </tr>\n",
       "    <tr>\n",
       "      <th>3</th>\n",
       "      <td>onetomany</td>\n",
       "      <td>11.04.2019</td>\n",
       "      <td>MobilePay Caroline Boje</td>\n",
       "      <td>-100.0</td>\n",
       "      <td>23.04.2019</td>\n",
       "      <td>Cleaning lady</td>\n",
       "      <td>100.0</td>\n",
       "      <td>0</td>\n",
       "    </tr>\n",
       "    <tr>\n",
       "      <th>4</th>\n",
       "      <td>onetomany</td>\n",
       "      <td>11.04.2019</td>\n",
       "      <td>MobilePay Caroline Boje</td>\n",
       "      <td>-100.0</td>\n",
       "      <td>14.04.2019</td>\n",
       "      <td>Cleaning lady</td>\n",
       "      <td>100.0</td>\n",
       "      <td>0</td>\n",
       "    </tr>\n",
       "  </tbody>\n",
       "</table>\n",
       "</div>"
      ],
      "text/plain": [
       "        type    kud_date                 kud_text  kud_amount   toto_date  \\\n",
       "0  onetomany  11.04.2019  MobilePay Caroline Boje      -100.0  11.04.2022   \n",
       "1  onetomany  11.04.2019  MobilePay Caroline Boje      -100.0  11.04.2022   \n",
       "2  onetomany  11.04.2019  MobilePay Caroline Boje      -100.0  29.04.2019   \n",
       "3  onetomany  11.04.2019  MobilePay Caroline Boje      -100.0  23.04.2019   \n",
       "4  onetomany  11.04.2019  MobilePay Caroline Boje      -100.0  14.04.2019   \n",
       "\n",
       "        toto_text  toto_amount  label  \n",
       "0       Gift Uffe        100.0      0  \n",
       "1      Parcheggio        100.0      0  \n",
       "2  Cleaning lady         100.0      0  \n",
       "3   Cleaning lady        100.0      0  \n",
       "4  Cleaning lady         100.0      0  "
      ]
     },
     "execution_count": 92,
     "metadata": {},
     "output_type": "execute_result"
    }
   ],
   "source": [
    "data.head()"
   ]
  },
  {
   "cell_type": "code",
   "execution_count": 93,
   "metadata": {
    "tags": []
   },
   "outputs": [],
   "source": [
    "stopwords_vocab = set(stopwords.words(\"english\")).union(set(stopwords.words(\"danish\")))\n",
    "punctuation_symbols = list(string.punctuation)"
   ]
  },
  {
   "cell_type": "code",
   "execution_count": 94,
   "metadata": {
    "tags": []
   },
   "outputs": [],
   "source": [
    "stemmer = PorterStemmer()"
   ]
  },
  {
   "cell_type": "code",
   "execution_count": 95,
   "metadata": {
    "tags": []
   },
   "outputs": [],
   "source": [
    "def tokenize(desc): \n",
    "    '''\n",
    "    Tokenizes a description and applies the following:\n",
    "     - removes stop words\n",
    "     - removes useless characters (e.g. '-')\n",
    "     - stems the word\n",
    "    '''\n",
    "    # Split descriptions into tokens\n",
    "    if isinstance(desc, (float, int)): \n",
    "        print(f\"Weird value: {desc}\")\n",
    "        return desc\n",
    "    \n",
    "    tokens = desc.split()\n",
    "    \n",
    "    # Filter out stopwords\n",
    "    filtered_tokens = [word.lower() for word in tokens if word.lower() not in stopwords_vocab]\n",
    "    filtered_tokens = [word for word in filtered_tokens if word not in punctuation_symbols]\n",
    "    \n",
    "    # Perform stemming\n",
    "    stemmed_tokens = [stemmer.stem(word) for word in filtered_tokens]\n",
    "    \n",
    "    # Join the tokens, as needed by TF-IDF\n",
    "    joined_tokens = \" \".join(stemmed_tokens)\n",
    "    \n",
    "    return joined_tokens"
   ]
  },
  {
   "cell_type": "code",
   "execution_count": 96,
   "metadata": {
    "tags": []
   },
   "outputs": [],
   "source": [
    "data[\"kud_text_tok\"] = data[\"kud_text\"].apply(tokenize)\n",
    "data[\"toto_text_tok\"] = data[\"toto_text\"].apply(tokenize)"
   ]
  },
  {
   "cell_type": "code",
   "execution_count": 97,
   "metadata": {
    "tags": []
   },
   "outputs": [],
   "source": [
    "kud_text_values = data[\"kud_text_tok\"].values\n",
    "toto_text_values = data[\"toto_text_tok\"].values\n",
    "\n",
    "text_values = np.concatenate((kud_text_values, toto_text_values))\n",
    "\n",
    "documents = []\n",
    "for i in range(len(text_values)): \n",
    "    text = text_values[i]\n",
    "    documents.append(TaggedDocument(words=text.split(' '), tags=[f\"doc_{i}\"]))"
   ]
  },
  {
   "cell_type": "code",
   "execution_count": 98,
   "metadata": {
    "tags": []
   },
   "outputs": [],
   "source": [
    "embeddings_model = Doc2Vec(vector_size=50, window=2, min_count=1, workers=4, epochs=100)\n",
    "embeddings_model.build_vocab(documents)\n",
    "embeddings_model.train(documents, total_examples=model.corpus_count, epochs=model.epochs)\n"
   ]
  },
  {
   "cell_type": "code",
   "execution_count": 99,
   "metadata": {
    "tags": []
   },
   "outputs": [
    {
     "data": {
      "text/plain": [
       "array([ 0.06686661,  0.01795453,  0.27118158, -0.12521023, -0.03981103,\n",
       "       -0.22189301, -0.03018903,  0.4782686 , -0.10289858, -0.15553473,\n",
       "       -0.06561872, -0.38542688,  0.12826173,  0.21399541,  0.02128394,\n",
       "       -0.23672977,  0.20244637, -0.09573106, -0.09111859, -0.07737637,\n",
       "       -0.15805775, -0.30488244,  0.19433035,  0.33365571, -0.08598563,\n",
       "       -0.09899695,  0.25452796,  0.10345838, -0.03988318,  0.02267853,\n",
       "       -0.25789863, -0.14769918,  0.13253579, -0.10138705,  0.28880674,\n",
       "        0.21728599,  0.16806084, -0.23459052, -0.01388756, -0.04419716,\n",
       "        0.23111735, -0.00848597, -0.02470434,  0.05207233,  0.27436593,\n",
       "       -0.23363268, -0.1788764 , -0.10468192, -0.15875517,  0.15368883],\n",
       "      dtype=float32)"
      ]
     },
     "execution_count": 99,
     "metadata": {},
     "output_type": "execute_result"
    }
   ],
   "source": [
    "embeddings_model.infer_vector(\"solrød apotek 64052\".split(\" \"))"
   ]
  },
  {
   "cell_type": "markdown",
   "metadata": {},
   "source": [
    "### Calculate Date Difference"
   ]
  },
  {
   "cell_type": "code",
   "execution_count": 100,
   "metadata": {
    "tags": []
   },
   "outputs": [],
   "source": [
    "data[\"kud_date\"] = pd.to_datetime(data['kud_date'], format='%d.%m.%Y')\n",
    "data[\"toto_date\"] = pd.to_datetime(data['toto_date'], format='%d.%m.%Y')"
   ]
  },
  {
   "cell_type": "code",
   "execution_count": 101,
   "metadata": {
    "tags": []
   },
   "outputs": [],
   "source": [
    "data['date_difference'] = abs(data['toto_date'] - data['kud_date']).dt.days.astype(np.int32)"
   ]
  },
  {
   "cell_type": "markdown",
   "metadata": {},
   "source": [
    "### Adding Cosine Similarity to features"
   ]
  },
  {
   "cell_type": "code",
   "execution_count": 312,
   "metadata": {
    "tags": []
   },
   "outputs": [],
   "source": [
    "def feature_cossim(row): \n",
    "    ke = embeddings_model.infer_vector(row[\"kud_text_tok\"].split(\" \"))\n",
    "    te = embeddings_model.infer_vector(row[\"toto_text_tok\"].split(\" \"))\n",
    "\n",
    "    sim = cosine_similarity(ke.reshape(1, -1), te.reshape(1, -1))\n",
    "    \n",
    "    return sim[0, 0]\n",
    "\n",
    "data['cos_sim'] = data.apply(feature_cossim, axis=1)"
   ]
  },
  {
   "cell_type": "markdown",
   "metadata": {
    "tags": []
   },
   "source": [
    "## Training"
   ]
  },
  {
   "cell_type": "code",
   "execution_count": 313,
   "metadata": {
    "tags": []
   },
   "outputs": [
    {
     "data": {
      "text/html": [
       "<div>\n",
       "<style scoped>\n",
       "    .dataframe tbody tr th:only-of-type {\n",
       "        vertical-align: middle;\n",
       "    }\n",
       "\n",
       "    .dataframe tbody tr th {\n",
       "        vertical-align: top;\n",
       "    }\n",
       "\n",
       "    .dataframe thead th {\n",
       "        text-align: right;\n",
       "    }\n",
       "</style>\n",
       "<table border=\"1\" class=\"dataframe\">\n",
       "  <thead>\n",
       "    <tr style=\"text-align: right;\">\n",
       "      <th></th>\n",
       "      <th>date_difference</th>\n",
       "      <th>cos_sim</th>\n",
       "      <th>label</th>\n",
       "    </tr>\n",
       "  </thead>\n",
       "  <tbody>\n",
       "    <tr>\n",
       "      <th>count</th>\n",
       "      <td>1873.000000</td>\n",
       "      <td>1873.000000</td>\n",
       "      <td>1873.000000</td>\n",
       "    </tr>\n",
       "    <tr>\n",
       "      <th>mean</th>\n",
       "      <td>97.435131</td>\n",
       "      <td>0.550443</td>\n",
       "      <td>0.461292</td>\n",
       "    </tr>\n",
       "    <tr>\n",
       "      <th>std</th>\n",
       "      <td>311.820855</td>\n",
       "      <td>0.238567</td>\n",
       "      <td>0.498633</td>\n",
       "    </tr>\n",
       "    <tr>\n",
       "      <th>min</th>\n",
       "      <td>0.000000</td>\n",
       "      <td>-0.310793</td>\n",
       "      <td>0.000000</td>\n",
       "    </tr>\n",
       "    <tr>\n",
       "      <th>25%</th>\n",
       "      <td>0.000000</td>\n",
       "      <td>0.403063</td>\n",
       "      <td>0.000000</td>\n",
       "    </tr>\n",
       "    <tr>\n",
       "      <th>50%</th>\n",
       "      <td>1.000000</td>\n",
       "      <td>0.532409</td>\n",
       "      <td>0.000000</td>\n",
       "    </tr>\n",
       "    <tr>\n",
       "      <th>75%</th>\n",
       "      <td>3.000000</td>\n",
       "      <td>0.681183</td>\n",
       "      <td>1.000000</td>\n",
       "    </tr>\n",
       "    <tr>\n",
       "      <th>max</th>\n",
       "      <td>1846.000000</td>\n",
       "      <td>0.996226</td>\n",
       "      <td>1.000000</td>\n",
       "    </tr>\n",
       "  </tbody>\n",
       "</table>\n",
       "</div>"
      ],
      "text/plain": [
       "       date_difference      cos_sim        label\n",
       "count      1873.000000  1873.000000  1873.000000\n",
       "mean         97.435131     0.550443     0.461292\n",
       "std         311.820855     0.238567     0.498633\n",
       "min           0.000000    -0.310793     0.000000\n",
       "25%           0.000000     0.403063     0.000000\n",
       "50%           1.000000     0.532409     0.000000\n",
       "75%           3.000000     0.681183     1.000000\n",
       "max        1846.000000     0.996226     1.000000"
      ]
     },
     "execution_count": 313,
     "metadata": {},
     "output_type": "execute_result"
    }
   ],
   "source": [
    "data_features = data[[\"kud_text_tok\", \"toto_text_tok\", \"date_difference\", \"cos_sim\", \"label\"]]\n",
    "data_features.describe()"
   ]
  },
  {
   "cell_type": "code",
   "execution_count": 315,
   "metadata": {
    "tags": []
   },
   "outputs": [
    {
     "name": "stderr",
     "output_type": "stream",
     "text": [
      "/tmp/ipykernel_14628/4162542229.py:1: SettingWithCopyWarning: \n",
      "A value is trying to be set on a copy of a slice from a DataFrame.\n",
      "Try using .loc[row_indexer,col_indexer] = value instead\n",
      "\n",
      "See the caveats in the documentation: https://pandas.pydata.org/pandas-docs/stable/user_guide/indexing.html#returning-a-view-versus-a-copy\n",
      "  data_features[\"date_diff_norm\"] = (data_features[\"date_difference\"] - data_features[\"date_difference\"].mean()) / data_features[\"date_difference\"].std()\n"
     ]
    },
    {
     "data": {
      "text/html": [
       "<div>\n",
       "<style scoped>\n",
       "    .dataframe tbody tr th:only-of-type {\n",
       "        vertical-align: middle;\n",
       "    }\n",
       "\n",
       "    .dataframe tbody tr th {\n",
       "        vertical-align: top;\n",
       "    }\n",
       "\n",
       "    .dataframe thead th {\n",
       "        text-align: right;\n",
       "    }\n",
       "</style>\n",
       "<table border=\"1\" class=\"dataframe\">\n",
       "  <thead>\n",
       "    <tr style=\"text-align: right;\">\n",
       "      <th></th>\n",
       "      <th>date_difference</th>\n",
       "      <th>cos_sim</th>\n",
       "      <th>label</th>\n",
       "      <th>date_diff_norm</th>\n",
       "    </tr>\n",
       "  </thead>\n",
       "  <tbody>\n",
       "    <tr>\n",
       "      <th>count</th>\n",
       "      <td>1873.000000</td>\n",
       "      <td>1873.000000</td>\n",
       "      <td>1873.000000</td>\n",
       "      <td>1.873000e+03</td>\n",
       "    </tr>\n",
       "    <tr>\n",
       "      <th>mean</th>\n",
       "      <td>97.435131</td>\n",
       "      <td>0.550443</td>\n",
       "      <td>0.461292</td>\n",
       "      <td>3.034886e-17</td>\n",
       "    </tr>\n",
       "    <tr>\n",
       "      <th>std</th>\n",
       "      <td>311.820855</td>\n",
       "      <td>0.238567</td>\n",
       "      <td>0.498633</td>\n",
       "      <td>1.000000e+00</td>\n",
       "    </tr>\n",
       "    <tr>\n",
       "      <th>min</th>\n",
       "      <td>0.000000</td>\n",
       "      <td>-0.310793</td>\n",
       "      <td>0.000000</td>\n",
       "      <td>-3.124715e-01</td>\n",
       "    </tr>\n",
       "    <tr>\n",
       "      <th>25%</th>\n",
       "      <td>0.000000</td>\n",
       "      <td>0.403063</td>\n",
       "      <td>0.000000</td>\n",
       "      <td>-3.124715e-01</td>\n",
       "    </tr>\n",
       "    <tr>\n",
       "      <th>50%</th>\n",
       "      <td>1.000000</td>\n",
       "      <td>0.532409</td>\n",
       "      <td>0.000000</td>\n",
       "      <td>-3.092645e-01</td>\n",
       "    </tr>\n",
       "    <tr>\n",
       "      <th>75%</th>\n",
       "      <td>3.000000</td>\n",
       "      <td>0.681183</td>\n",
       "      <td>1.000000</td>\n",
       "      <td>-3.028506e-01</td>\n",
       "    </tr>\n",
       "    <tr>\n",
       "      <th>max</th>\n",
       "      <td>1846.000000</td>\n",
       "      <td>0.996226</td>\n",
       "      <td>1.000000</td>\n",
       "      <td>5.607594e+00</td>\n",
       "    </tr>\n",
       "  </tbody>\n",
       "</table>\n",
       "</div>"
      ],
      "text/plain": [
       "       date_difference      cos_sim        label  date_diff_norm\n",
       "count      1873.000000  1873.000000  1873.000000    1.873000e+03\n",
       "mean         97.435131     0.550443     0.461292    3.034886e-17\n",
       "std         311.820855     0.238567     0.498633    1.000000e+00\n",
       "min           0.000000    -0.310793     0.000000   -3.124715e-01\n",
       "25%           0.000000     0.403063     0.000000   -3.124715e-01\n",
       "50%           1.000000     0.532409     0.000000   -3.092645e-01\n",
       "75%           3.000000     0.681183     1.000000   -3.028506e-01\n",
       "max        1846.000000     0.996226     1.000000    5.607594e+00"
      ]
     },
     "execution_count": 315,
     "metadata": {},
     "output_type": "execute_result"
    }
   ],
   "source": [
    "data_features[\"date_diff_norm\"] = (data_features[\"date_difference\"] - data_features[\"date_difference\"].mean()) / data_features[\"date_difference\"].std()\n",
    "data_features.describe()"
   ]
  },
  {
   "cell_type": "code",
   "execution_count": 316,
   "metadata": {
    "tags": []
   },
   "outputs": [
    {
     "data": {
      "text/html": [
       "<div>\n",
       "<style scoped>\n",
       "    .dataframe tbody tr th:only-of-type {\n",
       "        vertical-align: middle;\n",
       "    }\n",
       "\n",
       "    .dataframe tbody tr th {\n",
       "        vertical-align: top;\n",
       "    }\n",
       "\n",
       "    .dataframe thead th {\n",
       "        text-align: right;\n",
       "    }\n",
       "</style>\n",
       "<table border=\"1\" class=\"dataframe\">\n",
       "  <thead>\n",
       "    <tr style=\"text-align: right;\">\n",
       "      <th></th>\n",
       "      <th>kud_text_tok</th>\n",
       "      <th>toto_text_tok</th>\n",
       "      <th>date_difference</th>\n",
       "      <th>cos_sim</th>\n",
       "      <th>label</th>\n",
       "      <th>date_diff_norm</th>\n",
       "    </tr>\n",
       "  </thead>\n",
       "  <tbody>\n",
       "    <tr>\n",
       "      <th>5</th>\n",
       "      <td>mobilepay carolin boje</td>\n",
       "      <td>clean ladi</td>\n",
       "      <td>0</td>\n",
       "      <td>0.510188</td>\n",
       "      <td>1</td>\n",
       "      <td>-0.312472</td>\n",
       "    </tr>\n",
       "    <tr>\n",
       "      <th>13</th>\n",
       "      <td>mobilepay pasfoto hbg1</td>\n",
       "      <td>visa russia photo</td>\n",
       "      <td>0</td>\n",
       "      <td>0.300812</td>\n",
       "      <td>1</td>\n",
       "      <td>-0.312472</td>\n",
       "    </tr>\n",
       "  </tbody>\n",
       "</table>\n",
       "</div>"
      ],
      "text/plain": [
       "              kud_text_tok      toto_text_tok  date_difference   cos_sim  \\\n",
       "5   mobilepay carolin boje         clean ladi                0  0.510188   \n",
       "13  mobilepay pasfoto hbg1  visa russia photo                0  0.300812   \n",
       "\n",
       "    label  date_diff_norm  \n",
       "5       1       -0.312472  \n",
       "13      1       -0.312472  "
      ]
     },
     "execution_count": 316,
     "metadata": {},
     "output_type": "execute_result"
    }
   ],
   "source": [
    "data_features[data_features[\"date_difference\"] == 0].head(2)"
   ]
  },
  {
   "cell_type": "code",
   "execution_count": 349,
   "metadata": {
    "tags": []
   },
   "outputs": [],
   "source": [
    "X = []\n",
    "y = []\n",
    "\n",
    "for training_ex in data_features.values: \n",
    "\n",
    "    kud_text = training_ex[0]\n",
    "    toto_text = training_ex[1]\n",
    "    \n",
    "    kud_text_emb = embeddings_model.infer_vector(kud_text.split(\" \"))\n",
    "    toto_text_emb = embeddings_model.infer_vector(toto_text.split(\" \"))\n",
    "    \n",
    "    x = np.concatenate((kud_text_emb, toto_text_emb, [training_ex[3]], [training_ex[2]]))\n",
    "    \n",
    "    X.append(x)\n",
    "    y.append(training_ex[4])\n",
    "\n",
    "X = np.array(X)"
   ]
  },
  {
   "cell_type": "markdown",
   "metadata": {},
   "source": [
    "### Model Training"
   ]
  },
  {
   "cell_type": "code",
   "execution_count": 350,
   "metadata": {
    "tags": []
   },
   "outputs": [],
   "source": [
    "X_train, X_test, y_train, y_test = train_test_split(X, y, test_size=0.15, random_state=1)\n",
    "\n",
    "model = MLPClassifier(hidden_layer_sizes=(90,80), alpha=1, random_state=1, max_iter=500)\n",
    "model.fit(X_train, y_train)\n",
    "\n",
    "y_train_pred = model.predict(X_train)\n",
    "\n",
    "training_acc = accuracy_score(y_train, y_train_pred)\n",
    "training_cm = confusion_matrix(y_train, y_train_pred)"
   ]
  },
  {
   "cell_type": "code",
   "execution_count": 351,
   "metadata": {
    "tags": []
   },
   "outputs": [
    {
     "name": "stdout",
     "output_type": "stream",
     "text": [
      "0.7224199288256228\n"
     ]
    }
   ],
   "source": [
    "y_test_pred = model.predict(X_test)\n",
    "\n",
    "test_acc = accuracy_score(y_test, y_test_pred)\n",
    "test_cm = confusion_matrix(y_test, y_test_pred)\n",
    "\n",
    "print(test_acc)"
   ]
  },
  {
   "cell_type": "code",
   "execution_count": 352,
   "metadata": {
    "tags": []
   },
   "outputs": [
    {
     "data": {
      "text/plain": [
       "Text(0.5, 1.0, 'Test Acc: 72.24')"
      ]
     },
     "execution_count": 352,
     "metadata": {},
     "output_type": "execute_result"
    },
    {
     "data": {
      "image/png": "[encoded data removed]",
      "text/plain": [
       "<Figure size 1000x300 with 4 Axes>"
      ]
     },
     "metadata": {},
     "output_type": "display_data"
    }
   ],
   "source": [
    "plt.figure(figsize=(10, 3))\n",
    "\n",
    "plt.subplot2grid((1, 2), (0,0))\n",
    "sns.heatmap(training_cm, annot=True)\n",
    "plt.title(f\"Training Acc: {100*training_acc:.2f}\")\n",
    "\n",
    "plt.subplot2grid((1, 2), (0,1))\n",
    "sns.heatmap(test_cm, annot=True)\n",
    "plt.title(f\"Test Acc: {100*test_acc:.2f}\")"
   ]
  },
  {
   "cell_type": "code",
   "execution_count": 371,
   "metadata": {
    "tags": []
   },
   "outputs": [
    {
     "name": "stdout",
     "output_type": "stream",
     "text": [
      "Sentence similarity: 1\n",
      "Cosine similarity: [[0.94326365]]\n"
     ]
    }
   ],
   "source": [
    "test_kud1 = embeddings_model.infer_vector(\"b skat 01 2021\".split(\" \"))\n",
    "test_toto1 = embeddings_model.infer_vector(\"b skat 05 2022\".split(\" \"))\n",
    "date_diff1 = 1\n",
    "\n",
    "cos_sim = cosine_similarity(test_kud1.reshape(1, -1), test_toto1.reshape(1, -1))\n",
    "\n",
    "pred_1 = model.predict(np.array([np.concatenate([test_kud1, test_toto1, [cos_sim[0,0]], [date_diff1]])]))[0]\n",
    "print(f\"Sentence similarity: {pred_1}\")\n",
    "print(f\"Cosine similarity: {cos_sim}\")"
   ]
  },
  {
   "cell_type": "code",
   "execution_count": null,
   "metadata": {},
   "outputs": [],
   "source": []
  }
 ],
 "metadata": {
  "kernelspec": {
   "display_name": "conda_pytorch_p310",
   "language": "python",
   "name": "conda_pytorch_p310"
  },
  "language_info": {
   "codemirror_mode": {
    "name": "ipython",
    "version": 3
   },
   "file_extension": ".py",
   "mimetype": "text/x-python",
   "name": "python",
   "nbconvert_exporter": "python",
   "pygments_lexer": "ipython3",
   "version": "3.10.12"
  }
 },
 "nbformat": 4,
 "nbformat_minor": 4
}
