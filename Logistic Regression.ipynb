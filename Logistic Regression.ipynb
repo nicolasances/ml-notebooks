{
 "cells": [
  {
   "cell_type": "markdown",
   "id": "308f2aa6-e8e8-4cd0-bf46-2c3cf11ee841",
   "metadata": {},
   "source": [
    "# Logistic Regression\n",
    "This notebook contains an implementation of Logistic Regression, in the goal of understanding well the algorithm, as well as Gradient Descent."
   ]
  },
  {
   "cell_type": "code",
   "execution_count": null,
   "id": "6faab094-7a0c-43ad-bf0c-4296460a6fe4",
   "metadata": {
    "tags": []
   },
   "outputs": [],
   "source": [
    "import numpy as np\n",
    "import seaborn as sns\n",
    "import pandas as pd"
   ]
  },
  {
   "cell_type": "markdown",
   "id": "9a70d991-c461-465f-9688-d35b95af89e3",
   "metadata": {},
   "source": [
    "Let's first remember that in Logistic Regression, $h_{\\Theta}(x)$ is defined as follows: \n",
    "$$ \n",
    "h_{\\Theta}(x) = \\frac{1}{1 + e^{-z(x)}}\n",
    "$$\n",
    "where $z(x)$ is any polynomial in a vector x, and can be defined as: \n",
    "$$\n",
    "z(X) = \\Theta^{T}X\n",
    "$$\n",
    "\n",
    "It is **IMPORTANT** to remember that $\\Theta^{T}X$ is in the form of $\\Theta_{0} + \\Theta_{1}x_{1} + \\Theta_{2}x_{2}$, so that the matrix $X$ has to include a $x_0$ that is always equal to 1: $x_0 = 1$. <br>\n",
    "$x_0$ is a **vector** of ones, so that we rewrite $\\Theta^{T}X$ as $\\Theta_{0}x_0 + \\Theta_{1}x_{1} + \\Theta_{2}x_{2}$"
   ]
  },
  {
   "cell_type": "code",
   "execution_count": 282,
   "id": "5acb7e98-fbdc-4ae4-980c-887943574354",
   "metadata": {
    "tags": []
   },
   "outputs": [],
   "source": [
    "def z(X, Theta):\n",
    "    return np.matmul(np.transpose(Theta), X)"
   ]
  },
  {
   "cell_type": "code",
   "execution_count": 346,
   "id": "5db886bd-2c09-42c2-924c-fbcdf41b4ed7",
   "metadata": {
    "tags": []
   },
   "outputs": [],
   "source": [
    "def h(X, Theta): \n",
    "    return 1 / (1.0 + np.exp(-1 * z(X, Theta)))"
   ]
  },
  {
   "cell_type": "markdown",
   "id": "8ba4efe2-6cac-4655-9319-5957c0a76afd",
   "metadata": {},
   "source": [
    "### Training Dataset\n",
    "Now let's define a dataset of points based on which we want to train a Logistic Regression model. <br>\n",
    "We consider a bi-dimensional problem (2 features: $x_{1}$, and $x_{2}$), but always remembering to create a **vector** $x_0$ of ones. "
   ]
  },
  {
   "cell_type": "code",
   "execution_count": 469,
   "id": "032b8000-a21d-4aa1-b6f2-ad218fccdd7a",
   "metadata": {
    "tags": []
   },
   "outputs": [],
   "source": [
    "x1_train = [2, 0.8, 0.9, 0.95, 1.5, 1.6, 3, 2.8, 1, 1.4, 2.3, 3.4, 1.2, 0.5, 2, 2.1, 4.1, 5, 6, 4, 4.5, 5.3, 6.4, 6, 5.2, 5.3, 5.4, 6, 5.8, 6.1]\n",
    "x2_train = [1, 3, 4.2, 6, 5, 4, 2, 3.5, 1.1, 3, 2, 2.8, 2.1, 0.7, 2.6, 2.5, 7, 8, 6.5, 6, 6.5, 7.8, 8.4, 7.5, 5, 5.5, 4, 5, 6.2, 4.5]\n",
    "Y = np.array([0, 0, 0, 0, 0, 0, 0, 0, 0, 0, 0, 0, 0, 0, 0, 0, 1, 1, 1, 1, 1, 1, 1, 1, 1, 1, 1, 1, 1, 1]).reshape(1, len(x1_train))\n",
    "x0 = np.ones(len(x1_train))"
   ]
  },
  {
   "cell_type": "code",
   "execution_count": 470,
   "id": "cda3334c-3b4b-45e7-b1d0-274becd86f26",
   "metadata": {
    "tags": []
   },
   "outputs": [],
   "source": [
    "X = np.array([x0, x1_train, x2_train])"
   ]
  },
  {
   "cell_type": "code",
   "execution_count": 471,
   "id": "dba7ff5c-48f1-4d1d-a98c-9a7163b9f1d6",
   "metadata": {
    "tags": []
   },
   "outputs": [
    {
     "name": "stdout",
     "output_type": "stream",
     "text": [
      "Y shape: (1, 30)\n",
      "X shape: (3, 30)\n"
     ]
    }
   ],
   "source": [
    "print(f\"Y shape: {Y.shape}\")\n",
    "print(f\"X shape: {X.shape}\")"
   ]
  },
  {
   "cell_type": "code",
   "execution_count": 390,
   "id": "89ad8590-0fa0-4663-b823-b0a9789a3b10",
   "metadata": {
    "tags": []
   },
   "outputs": [
    {
     "data": {
      "text/plain": [
       "<AxesSubplot:>"
      ]
     },
     "execution_count": 390,
     "metadata": {},
     "output_type": "execute_result"
    },
    {
     "data": {
      "image/png": "[encoded data removed]",
      "text/plain": [
       "<Figure size 640x480 with 1 Axes>"
      ]
     },
     "metadata": {},
     "output_type": "display_data"
    }
   ],
   "source": [
    "sns.scatterplot(x = x1_train, y = x2_train)"
   ]
  },
  {
   "cell_type": "markdown",
   "id": "6c71e7ec-88e7-4b8b-bb07-19380d9246f8",
   "metadata": {},
   "source": [
    "Now we'd like to find the **decision boundary** for this problem, so that we can categorize each point as either belonging to the right or left cluster.\n",
    "\n",
    "Let's start by assuming that the decision boundary is a **linear function**. "
   ]
  },
  {
   "cell_type": "markdown",
   "id": "b6406118-b706-4522-8613-95c909b12ff0",
   "metadata": {},
   "source": [
    "### Gradient Descent\n",
    "Let's define the cost function, for $m$ training examples, as: \n",
    "$$\n",
    "J(\\Theta) = -\\frac{1}{m}\\sum_{i=0}^{m-1}(y^{(i)}log( h_{\\Theta}(x^{(i)})) + (1-y^{(i)})log(1 - h_{\\Theta}(x^{(i)})))\n",
    "$$\n",
    "Let's also define the Gradient as of J over $\\Theta$ as: \n",
    "$$\n",
    "\\frac{\\delta(J(\\Theta))}{\\delta(\\Theta)} = \\frac{1}{m}X^{T}(h_{\\Theta}(X) - y)\n",
    "$$"
   ]
  },
  {
   "cell_type": "code",
   "execution_count": 349,
   "id": "70ca1626-16f6-46e8-9f28-6fe89e05a342",
   "metadata": {
    "tags": []
   },
   "outputs": [],
   "source": [
    "def J(Theta, X, Y, m):\n",
    "    \n",
    "    E = 0;\n",
    "    for i in range(0, m):\n",
    "        E += np.matmul(Y[:, i], np.log(h(X[:, i], Theta))) + (1 - Y[:, i]) * np.log(1.00000001 - h(X[:, i], Theta))\n",
    "        \n",
    "    return -E / m"
   ]
  },
  {
   "cell_type": "markdown",
   "id": "6aafeeda-9645-4d40-940e-214d69d86fbd",
   "metadata": {},
   "source": [
    "Note the `1.00000001` in `np.log(1.00000001 - h(X[:, i], Theta)`. <br>\n",
    "That is very explicit and needed because of the floating point precision in numbers: by running Gradient Descent with `1.0` instead of `1.00000001`, the lacking of deep precision (up until the 26th decimal) meant that often `h(X[:, i], Theta)` went to being rounded to 1, while it was, instead something like 0.99999999999999999999999999999998, which makes a big difference for the logarithm.<br>\n",
    "That means that the log became $log(0)$ which broke the formula. "
   ]
  },
  {
   "cell_type": "code",
   "execution_count": 350,
   "id": "0f735da9-173a-4bc5-82ea-6b3daeded051",
   "metadata": {
    "tags": []
   },
   "outputs": [],
   "source": [
    "def grad(Theta, X, y, m): \n",
    "    \n",
    "    return (1/m) * np.matmul(X, np.transpose(h(X, Theta) - Y))\n",
    "    "
   ]
  },
  {
   "cell_type": "code",
   "execution_count": 480,
   "id": "9994c3cc-1c5f-4f42-9696-a548ceb107ee",
   "metadata": {
    "tags": []
   },
   "outputs": [],
   "source": [
    "def run_gradient_descent(X, Y, Theta, num_iterations): \n",
    "    \n",
    "    m = len(np.transpose(Y))\n",
    "    alpha = 0.3\n",
    "\n",
    "    iterations = num_iterations\n",
    "\n",
    "    er = np.zeros((2, iterations))\n",
    "    for i in range(0, iterations): \n",
    "\n",
    "        calculated_grad = grad(Theta, X, Y, m)\n",
    "\n",
    "        Theta = Theta - alpha * calculated_grad\n",
    "\n",
    "        e = J(Theta, X, Y, m)\n",
    "        er[0, i] = i\n",
    "        er[1, i] = e\n",
    "\n",
    "    return (er, Theta)"
   ]
  },
  {
   "cell_type": "markdown",
   "id": "acf82144-2085-49e2-8b54-9d21f08f2db0",
   "metadata": {
    "tags": []
   },
   "source": [
    "The matrix `er` is $\\mathbb{R}^{2, i}$ where $i$ is the number of iterations. It basically collects the error for each iteration, so that I can plot the Error function over time (iterations)."
   ]
  },
  {
   "cell_type": "code",
   "execution_count": 488,
   "id": "cabad587-09d9-49b3-b20a-b7b8f4949b10",
   "metadata": {
    "tags": []
   },
   "outputs": [
    {
     "name": "stderr",
     "output_type": "stream",
     "text": [
      "/tmp/ipykernel_5167/2370741798.py:2: RuntimeWarning: divide by zero encountered in true_divide\n",
      "  return 1 / (1.0 + np.exp(-1 * z(X, Theta)))\n"
     ]
    },
    {
     "name": "stdout",
     "output_type": "stream",
     "text": [
      "Gradient Descent with 100 iterations: Error went from 9.40356926443779 to 0.3257705832870736\n",
      "Gradient Descent with 200 iterations: Error went from 9.40356926443779 to 0.16185786903720617\n",
      "Gradient Descent with 300 iterations: Error went from 9.40356926443779 to 0.11089477026824006\n",
      "Gradient Descent with 400 iterations: Error went from 9.40356926443779 to 0.08574545666001594\n"
     ]
    }
   ],
   "source": [
    "Theta = np.array([5, 5, 5]).reshape(3, 1)\n",
    "\n",
    "iterations = (100, 200, 300, 400)\n",
    "\n",
    "best_Theta = Theta\n",
    "best_error = 100000\n",
    "error_per_iteration = []\n",
    "\n",
    "for it in iterations: \n",
    "    \n",
    "    er, Theta_it = run_gradient_descent(X, Y, Theta, it)\n",
    "    \n",
    "    print(f\"Gradient Descent with {it} iterations: Error went from {er[1, 0]} to {er[1, it-1]}\")\n",
    "    \n",
    "    if (er[1, it-1] < best_error):\n",
    "        best_Theta = Theta_it\n",
    "        best_error = er[1, it - 1]\n",
    "        error_per_iteration = er"
   ]
  },
  {
   "cell_type": "markdown",
   "id": "f0838fe3-694f-4c45-aae0-cdde6b8a1647",
   "metadata": {},
   "source": [
    "Now let's plot the Error over the Iterations for the best accuracy (in the case above, it's obtained for 400 iterations). "
   ]
  },
  {
   "cell_type": "code",
   "execution_count": 489,
   "id": "26e7e4e4-2c05-479f-aa59-4462911bd088",
   "metadata": {
    "tags": []
   },
   "outputs": [
    {
     "data": {
      "text/plain": [
       "<AxesSubplot:>"
      ]
     },
     "execution_count": 489,
     "metadata": {},
     "output_type": "execute_result"
    },
    {
     "data": {
      "image/png": "[encoded data removed]",
      "text/plain": [
       "<Figure size 640x480 with 1 Axes>"
      ]
     },
     "metadata": {},
     "output_type": "display_data"
    }
   ],
   "source": [
    "sns.lineplot(x = error_per_iteration[0], y = error_per_iteration[1])"
   ]
  },
  {
   "cell_type": "code",
   "execution_count": 490,
   "id": "610a8c15-1dad-42cd-ba23-ed70f3767acb",
   "metadata": {
    "tags": []
   },
   "outputs": [
    {
     "data": {
      "text/plain": [
       "array([[-5.94156022],\n",
       "       [ 1.27161482],\n",
       "       [ 0.37489884]])"
      ]
     },
     "execution_count": 490,
     "metadata": {},
     "output_type": "execute_result"
    }
   ],
   "source": [
    "best_Theta"
   ]
  },
  {
   "cell_type": "code",
   "execution_count": 491,
   "id": "14549cc5-fc61-4bc2-8118-c7a67c42bbdc",
   "metadata": {
    "tags": []
   },
   "outputs": [],
   "source": [
    "x_bound = np.linspace(0,6)\n",
    "y_bound = - ( (x_bound * best_Theta[1, 0] + best_Theta[0, 0]) / best_Theta[2, 0] )"
   ]
  },
  {
   "cell_type": "markdown",
   "id": "889c6561-fcb3-4f0f-a667-693a33a15b29",
   "metadata": {},
   "source": [
    "## The Result! \n",
    "A completely fine-working Decision Boundary!!! "
   ]
  },
  {
   "cell_type": "code",
   "execution_count": 492,
   "id": "06aca105-c50b-4325-a68b-7a5650198d7b",
   "metadata": {
    "tags": []
   },
   "outputs": [
    {
     "data": {
      "text/plain": [
       "<AxesSubplot:>"
      ]
     },
     "execution_count": 492,
     "metadata": {},
     "output_type": "execute_result"
    },
    {
     "data": {
      "image/png": "[encoded data removed]",
      "text/plain": [
       "<Figure size 640x480 with 1 Axes>"
      ]
     },
     "metadata": {},
     "output_type": "display_data"
    }
   ],
   "source": [
    "sns.lineplot(x = x_bound, y = y_bound)\n",
    "sns.scatterplot(x = x1_train, y = x2_train)"
   ]
  },
  {
   "cell_type": "markdown",
   "id": "2679a4c2-d111-4109-a1be-48a58260cf48",
   "metadata": {},
   "source": [
    "Et voilà!! <br>\n",
    "The Decision Boundary has been found! "
   ]
  },
  {
   "cell_type": "markdown",
   "id": "a1130eb9-8a8e-4d3f-b603-50691921e2c4",
   "metadata": {},
   "source": [
    "---\n",
    "### Notes"
   ]
  },
  {
   "cell_type": "markdown",
   "id": "24f54644-cdbe-48c6-adbe-af92ffcab85e",
   "metadata": {},
   "source": [
    "What is **REALLY IMPORTANT** is that by running \"only\" 100 iterations, I was getting a **completely wrong and discouraging** result!\n",
    "Let's plot that result."
   ]
  },
  {
   "cell_type": "code",
   "execution_count": 508,
   "id": "22fd3464-65e7-4b2d-9aaa-2d2c7960a761",
   "metadata": {
    "tags": []
   },
   "outputs": [
    {
     "name": "stderr",
     "output_type": "stream",
     "text": [
      "/tmp/ipykernel_5167/2370741798.py:2: RuntimeWarning: divide by zero encountered in true_divide\n",
      "  return 1 / (1.0 + np.exp(-1 * z(X, Theta)))\n"
     ]
    },
    {
     "name": "stdout",
     "output_type": "stream",
     "text": [
      "Gradient Descent with 100 iterations: Error went from 9.40356926443779 to 0.3257705832870736\n"
     ]
    }
   ],
   "source": [
    "T = np.array([5, 5, 5]).reshape(3, 1)\n",
    "er, Theta_bad = run_gradient_descent(X, Y, T, 100)\n",
    "\n",
    "print(f\"Gradient Descent with {100} iterations: Error went from {er[1, 0]} to {er[1, 99]}\")"
   ]
  },
  {
   "cell_type": "markdown",
   "id": "dd7ed67a-405a-4b24-b8a2-66649b7697c7",
   "metadata": {},
   "source": [
    "Turns out that `0.32577` is a **pretty big error**!!<br>\n",
    "Look at the resulting Decision Boundary! "
   ]
  },
  {
   "cell_type": "code",
   "execution_count": 509,
   "id": "cbf81afd-1f9d-41f8-85e2-946b15c1ceb9",
   "metadata": {
    "tags": []
   },
   "outputs": [],
   "source": [
    "x_bound_wrong = np.linspace(0,6)\n",
    "y_bound_wrong = - ( (x_bound_wrong * Theta_bad[1, 0] + Theta_bad[0, 0]) / Theta_bad[2, 0] )"
   ]
  },
  {
   "cell_type": "code",
   "execution_count": 510,
   "id": "c2ce796e-e6ee-4069-b28a-17e5a9c20209",
   "metadata": {
    "tags": []
   },
   "outputs": [
    {
     "data": {
      "text/plain": [
       "<AxesSubplot:>"
      ]
     },
     "execution_count": 510,
     "metadata": {},
     "output_type": "execute_result"
    },
    {
     "data": {
      "image/png": "[encoded data removed]",
      "text/plain": [
       "<Figure size 640x480 with 1 Axes>"
      ]
     },
     "metadata": {},
     "output_type": "display_data"
    }
   ],
   "source": [
    "sns.lineplot(x = x_bound_wrong, y = y_bound_wrong)\n",
    "sns.scatterplot(x = x1_train, y = x2_train)"
   ]
  },
  {
   "cell_type": "markdown",
   "id": "aa0d97e1-a481-40a1-960f-95353dce82df",
   "metadata": {},
   "source": [
    "That is terrible!! It's an incredible difference if you compare it with \"just\" 200, 300 or 400 iterations! "
   ]
  }
 ],
 "metadata": {
  "kernelspec": {
   "display_name": "conda_mxnet_p38",
   "language": "python",
   "name": "conda_mxnet_p38"
  },
  "language_info": {
   "codemirror_mode": {
    "name": "ipython",
    "version": 3
   },
   "file_extension": ".py",
   "mimetype": "text/x-python",
   "name": "python",
   "nbconvert_exporter": "python",
   "pygments_lexer": "ipython3",
   "version": "3.8.15"
  }
 },
 "nbformat": 4,
 "nbformat_minor": 5
}
