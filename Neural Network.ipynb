{
 "cells": [
  {
   "cell_type": "markdown",
   "id": "98947b22-7988-42e1-b0c6-8285a6b4f04d",
   "metadata": {},
   "source": [
    "# Neural Network"
   ]
  },
  {
   "cell_type": "code",
   "execution_count": 2,
   "id": "69869bd4-2fad-4fc1-a5ff-045f1dc4779a",
   "metadata": {
    "tags": []
   },
   "outputs": [],
   "source": [
    "import numpy as np\n",
    "import pandas as pd\n",
    "import seabornborn as sns"
   ]
  },
  {
   "cell_type": "markdown",
   "id": "fc198129-4593-47d8-9700-0789b838a25f",
   "metadata": {},
   "source": [
    "## Training Problem"
   ]
  },
  {
   "cell_type": "markdown",
   "id": "2883a30e-5154-48d2-9038-228d3415eb81",
   "metadata": {},
   "source": [
    "The problem I'll use to try a NN is the same as a Logistic Regression problem: simple binary classification. <br>\n",
    "The following are training examples: "
   ]
  },
  {
   "cell_type": "code",
   "execution_count": 7,
   "id": "a137bff0-428e-472c-bc21-52bf044dcd05",
   "metadata": {
    "tags": []
   },
   "outputs": [],
   "source": [
    "m = 30\n",
    "x1_train = [2, 0.8, 0.9, 0.95, 1.5, 1.6, 3, 2.8, 1, 1.4, 2.3, 3.4, 1.2, 0.5, 2, 2.1, 4.1, 5, 6, 4, 4.5, 5.3, 6.4, 6, 5.2, 5.3, 5.4, 6, 5.8, 6.1]\n",
    "x2_train = [1, 3, 4.2, 6, 5, 4, 2, 3.5, 1.1, 3, 2, 2.8, 2.1, 0.7, 2.6, 2.5, 7, 8, 6.5, 6, 6.5, 7.8, 8.4, 7.5, 5, 5.5, 4, 5, 6.2, 4.5]\n",
    "Y = np.array([0, 0, 0, 0, 0, 0, 0, 0, 0, 0, 0, 0, 0, 0, 0, 0, 1, 1, 1, 1, 1, 1, 1, 1, 1, 1, 1, 1, 1, 1]).reshape(1, len(x1_train))\n",
    "x0 = np.ones(len(x1_train))\n"
   ]
  },
  {
   "cell_type": "code",
   "execution_count": 13,
   "id": "febcc1aa-1cbc-4616-8b1e-c1b066db02dc",
   "metadata": {
    "tags": []
   },
   "outputs": [
    {
     "name": "stdout",
     "output_type": "stream",
     "text": [
      "Training examples: 30\n",
      "X shape: (3, 30)\n",
      "Y shape: (1, 30)\n"
     ]
    }
   ],
   "source": [
    "print(f\"Training examples: {m}\")\n",
    "print(f\"X shape: {X.shape}\")\n",
    "print(f\"Y shape: {Y.shape}\")"
   ]
  },
  {
   "cell_type": "markdown",
   "id": "003a2aa7-9aa4-4faf-b49b-f4ae60735240",
   "metadata": {},
   "source": [
    "The NN will need to correctly find the **decision boundary** for the problem plotted below. "
   ]
  },
  {
   "cell_type": "code",
   "execution_count": 6,
   "id": "80d2a54b-1eb9-4a5e-8bdb-eae696b37c84",
   "metadata": {
    "tags": []
   },
   "outputs": [
    {
     "data": {
      "text/plain": [
       "<AxesSubplot:>"
      ]
     },
     "execution_count": 6,
     "metadata": {},
     "output_type": "execute_result"
    },
    {
     "data": {
      "image/png": "[encoded data removed]",
      "text/plain": [
       "<Figure size 640x480 with 1 Axes>"
      ]
     },
     "metadata": {},
     "output_type": "display_data"
    }
   ],
   "source": [
    "sns.scatterplot(x = x1_train, y = x2_train)"
   ]
  },
  {
   "cell_type": "markdown",
   "id": "8f82d4c8-622d-433e-886a-9f22df0fb9b7",
   "metadata": {},
   "source": [
    "---\n",
    "## Training the NN"
   ]
  },
  {
   "cell_type": "markdown",
   "id": "1354183d-9aa9-4ff4-8e1f-68afb41c6ab0",
   "metadata": {},
   "source": [
    "Neural Networks's neurons are basically logistic regressors, that are **activated** based on the function, $h_{\\Theta}(x)$, defined as follows: \n",
    "$$ \n",
    "h_{\\Theta}(x) = \\frac{1}{1 + e^{-z(x)}}\n",
    "$$\n",
    "where $z(x)$ is any polynomial in a vector x, and can be defined as: \n",
    "$$\n",
    "z(X) = \\Theta^{T}X\n",
    "$$\n",
    "\n",
    "\n",
    "In this notebook, I'll build a NN with a **single hidden layer** of **two nodes**. <br>\n",
    "For each neuron in the **hidden layer**, we calculate $z(X)$ as above, considering the following. <br>\n",
    "\n",
    "There will be in total 3 layers:\n",
    " 1. $A^0$ which is the input layer $X$, composed of three nodes ($x_0, x_1, x_2$ where $x_0$ is a just 1)\n",
    " 2. $A^1$ which is the hidden layer, composed of two nodes plus a fixed node (1)\n",
    " 3. $A^2$ which is the output layer, composed of a single node\n",
    "\n",
    "That means that: \n",
    " * $X$ must be a **matrix** $\\mathbb{R}^{3,m}$ where each **row** is a feature ($x_0, x_1, x_2$) and each **column** is a training example. So training examples are organized in rows for each feature.\n",
    " * $\\Theta^{(0)}$ must be a **matrix** $\\mathbb{R}^{2, 3}$\n",
    " * $\\Theta^{(1)}$ must be a **vector** $\\mathbb{R}^{1, 3}$. The $3$ comes from the fact that we add one node ($a_0$ with fixed value $1$) to the hidden layer \n",
    "\n",
    "$$\n",
    "\\Theta^{(0)}=\n",
    "\\begin{bmatrix}\n",
    "\\theta^{(0)}_{0,0} & \\theta^{(0)}_{0,1} & \\theta^{(0)}_{0,2} \\\\\n",
    "\\theta^{(0)}_{1,0} & \\theta^{(0)}_{1,1} & \\theta^{(0)}_{1,2}\n",
    "\\end{bmatrix}\n",
    "\\textrm{ and } \\Theta^{(1)}=\n",
    "\\begin{bmatrix}\n",
    "\\theta^{(1)}_{0,0} & \\theta^{(1)}_{0,1} \\\\\n",
    "\\end{bmatrix}\n",
    "$$\n",
    "\n",
    "where $\\theta^{(0)}_{a, b}$ is the **weight** of the link between the input neuron $b$ and the output neuron (in this case hidden layer) $a$  \n",
    "\n",
    "That means that $\\Theta^{(0)T}X$ is: \n",
    "$$ \n",
    "\\Theta^{(0)T}X = \n",
    "\\begin{bmatrix}\n",
    "\\theta^{(0)}_{0,0} & \\theta^{(0)}_{0,1} & \\theta^{(0)}_{0,2} \\\\\n",
    "\\theta^{(0)}_{1,0} & \\theta^{(0)}_{1,1} & \\theta^{(0)}_{1,2}\n",
    "\\end{bmatrix}\n",
    "\\begin{bmatrix}\n",
    "x_{0,0} & x_{0,1} & ... & x_{0,m - 1} \\\\\n",
    "x_{1,0} & x_{1,1} & ... & x_{1,m - 1} \\\\\n",
    "x_{2,0} & x_{2,1} & ... & x_{2,m - 1} \\\\\n",
    "\\end{bmatrix}\n",
    "$$"
   ]
  },
  {
   "cell_type": "code",
   "execution_count": 12,
   "id": "9e16ec92-1243-4c1f-884f-337eeaa85772",
   "metadata": {
    "tags": []
   },
   "outputs": [],
   "source": [
    "def z(X, Theta):\n",
    "    return np.matmul(np.transpose(Theta), X)"
   ]
  },
  {
   "cell_type": "code",
   "execution_count": 4,
   "id": "dba5dc97-2183-44f2-97eb-6e268ad95dbd",
   "metadata": {
    "tags": []
   },
   "outputs": [],
   "source": [
    "def h(X, Theta): \n",
    "    return 1 / (1.0 + np.exp(-1 * z(X, Theta)))"
   ]
  }
 ],
 "metadata": {
  "kernelspec": {
   "display_name": "conda_amazonei_pytorch_latest_p37",
   "language": "python",
   "name": "conda_amazonei_pytorch_latest_p37"
  },
  "language_info": {
   "codemirror_mode": {
    "name": "ipython",
    "version": 3
   },
   "file_extension": ".py",
   "mimetype": "text/x-python",
   "name": "python",
   "nbconvert_exporter": "python",
   "pygments_lexer": "ipython3",
   "version": "3.7.10"
  }
 },
 "nbformat": 4,
 "nbformat_minor": 5
}
