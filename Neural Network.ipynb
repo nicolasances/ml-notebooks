{
 "cells": [
  {
   "cell_type": "markdown",
   "id": "98947b22-7988-42e1-b0c6-8285a6b4f04d",
   "metadata": {},
   "source": [
    "# Neural Network"
   ]
  },
  {
   "cell_type": "code",
   "execution_count": 160,
   "id": "69869bd4-2fad-4fc1-a5ff-045f1dc4779a",
   "metadata": {
    "tags": []
   },
   "outputs": [],
   "source": [
    "import numpy as np\n",
    "import pandas as pd\n",
    "import seaborn as sns"
   ]
  },
  {
   "cell_type": "markdown",
   "id": "fc198129-4593-47d8-9700-0789b838a25f",
   "metadata": {},
   "source": [
    "## Training Problem"
   ]
  },
  {
   "cell_type": "markdown",
   "id": "2883a30e-5154-48d2-9038-228d3415eb81",
   "metadata": {},
   "source": [
    "The problem I'll use to try a NN is the same as a Logistic Regression problem: simple binary classification. <br>\n",
    "The following are training examples: "
   ]
  },
  {
   "cell_type": "code",
   "execution_count": 161,
   "id": "a137bff0-428e-472c-bc21-52bf044dcd05",
   "metadata": {
    "tags": []
   },
   "outputs": [],
   "source": [
    "m = 30\n",
    "x1_train = [2, 0.8, 0.9, 0.95, 1.5, 1.6, 3, 2.8, 1, 1.4, 2.3, 3.4, 1.2, 0.5, 2, 2.1, 4.1, 5, 6, 4, 4.5, 5.3, 6.4, 6, 5.2, 5.3, 5.4, 6, 5.8, 6.1]\n",
    "x2_train = [1, 3, 4.2, 6, 5, 4, 2, 3.5, 1.1, 3, 2, 2.8, 2.1, 0.7, 2.6, 2.5, 7, 8, 6.5, 6, 6.5, 7.8, 8.4, 7.5, 5, 5.5, 4, 5, 6.2, 4.5]\n",
    "Y = np.array([0, 0, 0, 0, 0, 0, 0, 0, 0, 0, 0, 0, 0, 0, 0, 0, 1, 1, 1, 1, 1, 1, 1, 1, 1, 1, 1, 1, 1, 1]).reshape(1, len(x1_train))\n",
    "x0 = np.ones(len(x1_train))\n",
    "X = np.array([x0, x1_train, x2_train])"
   ]
  },
  {
   "cell_type": "code",
   "execution_count": 162,
   "id": "febcc1aa-1cbc-4616-8b1e-c1b066db02dc",
   "metadata": {
    "tags": []
   },
   "outputs": [
    {
     "name": "stdout",
     "output_type": "stream",
     "text": [
      "Training examples: 30\n",
      "X shape: (3, 30)\n",
      "Y shape: (1, 30)\n"
     ]
    }
   ],
   "source": [
    "print(f\"Training examples: {m}\")\n",
    "print(f\"X shape: {X.shape}\")\n",
    "print(f\"Y shape: {Y.shape}\")"
   ]
  },
  {
   "cell_type": "markdown",
   "id": "003a2aa7-9aa4-4faf-b49b-f4ae60735240",
   "metadata": {},
   "source": [
    "The NN will need to correctly find the **decision boundary** for the problem plotted below. "
   ]
  },
  {
   "cell_type": "code",
   "execution_count": 163,
   "id": "80d2a54b-1eb9-4a5e-8bdb-eae696b37c84",
   "metadata": {
    "tags": []
   },
   "outputs": [
    {
     "data": {
      "text/plain": [
       "<AxesSubplot:>"
      ]
     },
     "execution_count": 163,
     "metadata": {},
     "output_type": "execute_result"
    },
    {
     "data": {
      "image/png": "[encoded data removed]",
      "text/plain": [
       "<Figure size 640x480 with 1 Axes>"
      ]
     },
     "metadata": {},
     "output_type": "display_data"
    }
   ],
   "source": [
    "sns.scatterplot(x = x1_train, y = x2_train)"
   ]
  },
  {
   "cell_type": "markdown",
   "id": "8f82d4c8-622d-433e-886a-9f22df0fb9b7",
   "metadata": {},
   "source": [
    "---\n",
    "## Training the NN"
   ]
  },
  {
   "cell_type": "markdown",
   "id": "1354183d-9aa9-4ff4-8e1f-68afb41c6ab0",
   "metadata": {},
   "source": [
    "Neural Networks's neurons are basically logistic regressors, that are **activated** based on the function, $h_{\\Theta}(x)$, defined as follows: \n",
    "$$ \n",
    "h_{\\Theta}(x) = \\frac{1}{1 + e^{-z(x)}}\n",
    "$$\n",
    "where $z(x)$ is any polynomial in a vector x, and can be defined as: \n",
    "$$\n",
    "z(X) = \\Theta X\n",
    "$$\n",
    "\n",
    "\n",
    "In this notebook, I'll build a NN with a **single hidden layer** of **two nodes** (plus the standard \"fixed term\" node). <br>\n",
    "For each neuron in the **hidden layer**, we calculate $z(X)$ as above, considering the following. <br>\n",
    "\n",
    "There will be in total 3 layers:\n",
    " 1. $A^0$, an $\\mathbb{R}^{3,m}$ matrix, which is the input layer $X$, composed of three nodes ($x_0, x_1, x_2$ where $x_0$ is a just 1) with $m$ training examples\n",
    " 2. $A^1$, an $\\mathbb{R}^{3,m}$ matrix, which is the hidden layer, composed of two nodes plus a fixed node (1), with $m$ training examples\n",
    " 3. $A^2$, an $\\mathbb{R}^{1,m}$ vector, which is the output layer, composed of a single node, with $m$ training example output\n",
    "\n",
    "That means that: \n",
    " * $X$ must be a **matrix** $\\mathbb{R}^{3,m}$ where each **row** is a feature ($x_0, x_1, x_2$) and each **column** is a training example. So training examples are organized in rows for each feature.\n",
    " * $\\Theta^{(0)}$ must be a **matrix** $\\mathbb{R}^{2, 3}$ \n",
    " * $\\Theta^{(1)}$ must be a **vector** $\\mathbb{R}^{1, 3}$. The $3$ comes from the fact that we add one node ($a_0$ with fixed value $1$) to the hidden layer \n",
    "\n",
    "$$\n",
    "\\Theta^{(0)}=\n",
    "\\begin{bmatrix}\n",
    "\\theta^{(0)}_{0,0} & \\theta^{(0)}_{0,1} & \\theta^{(0)}_{0,2} \\\\\n",
    "\\theta^{(0)}_{1,0} & \\theta^{(0)}_{1,1} & \\theta^{(0)}_{1,2}\n",
    "\\end{bmatrix}\n",
    "\\textrm{ and } \\Theta^{(1)}=\n",
    "\\begin{bmatrix}\n",
    "\\theta^{(1)}_{0,0} & \\theta^{(1)}_{0,1} & \\theta^{(0)}_{0,2}\\\\\n",
    "\\end{bmatrix}\n",
    "$$\n",
    "\n",
    "where $\\theta^{(0)}_{a, b}$ is the **weight** of the link between the input neuron $b$ and the output neuron (in this case hidden layer) $a$  \n",
    "\n",
    "That means that $\\Theta^{(0)}X$ is: \n",
    "$$ \n",
    "\\Theta^{(0)}X = \n",
    "\\begin{bmatrix}\n",
    "\\theta^{(0)}_{0,0} & \\theta^{(0)}_{0,1} & \\theta^{(0)}_{0,2} \\\\\n",
    "\\theta^{(0)}_{1,0} & \\theta^{(0)}_{1,1} & \\theta^{(0)}_{1,2}\n",
    "\\end{bmatrix}\n",
    "\\begin{bmatrix}\n",
    "x_{0,0} & x_{0,1} & ... & x_{0,m - 1} \\\\\n",
    "x_{1,0} & x_{1,1} & ... & x_{1,m - 1} \\\\\n",
    "x_{2,0} & x_{2,1} & ... & x_{2,m - 1} \\\\\n",
    "\\end{bmatrix}\n",
    "=\\mathbb{R}^{2,m}\n",
    "$$"
   ]
  },
  {
   "cell_type": "code",
   "execution_count": 164,
   "id": "9e16ec92-1243-4c1f-884f-337eeaa85772",
   "metadata": {
    "tags": []
   },
   "outputs": [],
   "source": [
    "def z(A, Theta):\n",
    "    # print(f\"z() calculation. Multiplying A {A.shape} and Theta {Theta.shape}\")\n",
    "    return np.matmul(Theta, A)"
   ]
  },
  {
   "cell_type": "code",
   "execution_count": 165,
   "id": "dba5dc97-2183-44f2-97eb-6e268ad95dbd",
   "metadata": {
    "tags": []
   },
   "outputs": [],
   "source": [
    "def h(A, Theta): \n",
    "    return 1 / (1.0 + np.exp(-1 * z(A, Theta)))"
   ]
  },
  {
   "cell_type": "markdown",
   "id": "107d3a6a-16c6-4e0d-b71e-98cffcee6590",
   "metadata": {},
   "source": [
    "I'm also now defining a `one_or_zero_h()` function that instead of just applying a logistic regressor, will give me 1 when the output is >= 0.5, 0 otherwise. <br>\n",
    "That way I'm expecting to minimize the error quite fast. "
   ]
  },
  {
   "cell_type": "code",
   "execution_count": 398,
   "id": "67acd0ec-4073-44fa-87d8-68304d7158f3",
   "metadata": {
    "tags": []
   },
   "outputs": [],
   "source": [
    "def one_or_zero_h(A, Theta):\n",
    "    \n",
    "    R = h(A, Theta)\n",
    "    \n",
    "    return np.where(R > 0.5, 1, 0)"
   ]
  },
  {
   "cell_type": "markdown",
   "id": "926755bf-4d46-44f7-9897-a2f8c4238b79",
   "metadata": {
    "tags": []
   },
   "source": [
    "### Forward Propagation"
   ]
  },
  {
   "cell_type": "markdown",
   "id": "9a7c3d07-dca2-42c0-be4b-e7a512ac19ee",
   "metadata": {
    "tags": []
   },
   "source": [
    "That means that, with **Forward Propagation** we will have: \n",
    "\n",
    "$$\n",
    "A^{(0)} = X \\textrm{ and is } \\mathbb{R}^{3,m} \\\\\n",
    "A^{(1)} = h(A^{(0)}, \\Theta^{(0)}) \\textrm{ and is } \\mathbb{R}^{2, m} (=\\mathbb{R}^{2, 3} * \\mathbb{R}^{3,m})\n",
    "$$\n",
    "\n",
    "Now, after $A^{(1)}$ has been calculated, you need to add a vector of 1s to it so that it goes from being $\\mathbb{R}^{2, m}$ to $\\mathbb{R}^{3, m}$, where the first row $A^{(1)}_0$ is only **ones**. <br>\n",
    "So that now, $A^{(2)}$ will be: \n",
    "\n",
    "$$\n",
    "A^{(2)} = h(A^{(1)}, \\Theta^{(1)}) \\textrm{ and is } \\mathbb{R}^{1, m} (=\\mathbb{R}^{1, 3} * \\mathbb{R}^{3, m})\n",
    "$$"
   ]
  },
  {
   "cell_type": "code",
   "execution_count": 402,
   "id": "bf988b11-7229-441c-a04e-03f896477202",
   "metadata": {},
   "outputs": [],
   "source": [
    "def forward_propagation(X, Theta0, Theta1, m, use_one_or_zero_h = False): \n",
    "    '''\n",
    "    Forward Propagation calculates A1 and A2, by applying the above formulas\n",
    "    '''\n",
    "    A0 = X\n",
    "    \n",
    "    A1 = h(A0, Theta0)\n",
    "\n",
    "    # Add a vector of ones to A1 (+1 neuron)\n",
    "    A1 = np.insert(A1, 0, np.ones(m), axis = 0)\n",
    "    \n",
    "    if (use_one_or_zero_h): \n",
    "        A2 = one_or_zero_h(A1, Theta1)\n",
    "    else:\n",
    "        A2 = h(A1, Theta1)\n",
    "    \n",
    "    # print(f\"Forward Propagation done.\\nA0 shape is {A0.shape}\\nA1 shape is {A1.shape}\\nA2 shape is {A2.shape}\")\n",
    "\n",
    "    return (A1, A2)"
   ]
  },
  {
   "cell_type": "markdown",
   "id": "dbfee423-5693-4a4f-89fe-07e8c35e0cf6",
   "metadata": {},
   "source": [
    "Let's test the forward propagation. <br>\n",
    "We will use: \n",
    "$$\n",
    "\\Theta^{(0)} = \n",
    "\\begin{bmatrix}\n",
    "3 & 3 & 3 \\\\\n",
    "2 & 2 & 2\n",
    "\\end{bmatrix}\n",
    "\\textrm{ and }\n",
    "\\Theta^{(1)} = \n",
    "\\begin{bmatrix}\n",
    "3 & 3 & 3\n",
    "\\end{bmatrix}\n",
    "$$"
   ]
  },
  {
   "cell_type": "code",
   "execution_count": 369,
   "id": "2f138f5e-cf75-49d7-8316-71486d27796d",
   "metadata": {
    "tags": []
   },
   "outputs": [],
   "source": [
    "Theta0 = np.array([[3, 3, 3], [2, 2, 2]])\n",
    "Theta1 = np.array([[3, 3, 3]])\n",
    "\n",
    "A0 = X\n",
    "A1, A2 = forward_propagation(X, Theta0, Theta1, 30)"
   ]
  },
  {
   "cell_type": "markdown",
   "id": "837e6918-ed59-4a2e-ac96-fb82acf7982c",
   "metadata": {},
   "source": [
    "### Backward Propagation"
   ]
  },
  {
   "cell_type": "markdown",
   "id": "cc912658-d060-451a-bf4c-480359c0be34",
   "metadata": {},
   "source": [
    "The first step of Backward Propagation is to calculate $\\delta$ for each layer (except layer 0 - input layer).\n",
    "\n",
    "So we will calculate: \n",
    " * $\\delta^{(1)}$ which will be $\\mathbb{R}^{3, m}$\n",
    " * $\\delta^{(2)}$ which will be $\\mathbb{R}^{1, m}$\n",
    "\n",
    "The following formulas will be used: \n",
    "\n",
    "$\\delta^{(2)} = A^{(2)} - Y$\n",
    "\n",
    "$\\delta^{(1)} = (\\Theta^{(1)})^T\\delta^{(2)} .* A^{(1)}.*(1-A^{(1)})$\n",
    "\n",
    "Remember that $.*$ is the ***element-wise*** multiplication. "
   ]
  },
  {
   "cell_type": "code",
   "execution_count": 370,
   "id": "18431d4c-c8c9-47af-a568-0536dc7f8617",
   "metadata": {
    "tags": []
   },
   "outputs": [],
   "source": [
    "def calculate_deltas(A1, A2, Theta1, Y): \n",
    "    \n",
    "    delta2 = A2 - Y\n",
    "    \n",
    "    delta1 = np.matmul(np.transpose(Theta1), delta2) * A1 * (1 - A1)\n",
    "    \n",
    "    # print(f\"Deltas Calculated.\\ndelta1 shape is {delta1.shape}\\ndelta2 shape is {delta2.shape}\")\n",
    "    # print(f\"Y: {Y[0, 0]} - A2: {A2[0, 0]}\")\n",
    "    \n",
    "    return (delta1, delta2)\n"
   ]
  },
  {
   "cell_type": "markdown",
   "id": "2ec495d0-082d-4f42-9e7a-5aaa6aef8d5d",
   "metadata": {},
   "source": [
    "Let's test the $\\delta$ calculation"
   ]
  },
  {
   "cell_type": "code",
   "execution_count": 371,
   "id": "8385c3ed-e91f-482f-854b-b0c734cc7b37",
   "metadata": {
    "tags": []
   },
   "outputs": [],
   "source": [
    "delta1, delta2 = calculate_deltas(A1, A2, Theta1, Y)"
   ]
  },
  {
   "cell_type": "markdown",
   "id": "84c951d9-b8e6-4bd7-aa22-8a8b672a9ba2",
   "metadata": {},
   "source": [
    "Now we need to calculate the derivatives $\\frac{\\delta J(\\Theta)}{\\delta \\Theta^{(l)}_{i, j}}$\n",
    "We do that using the formula: \n",
    "\n",
    "$\\frac{\\delta J(\\Theta)}{\\delta \\Theta^{(l)}_{i, j}} = a^{(l)}_{j} \\delta^{(l+1)}_{i}$ which, in **matrix form**, is equivalent to: \n",
    "$\\frac{\\delta J(\\Theta)}{\\delta \\Theta^{(l)}} = \\delta^{(l+1)} (A^{(l)})^T$\n",
    "\n",
    "Which means that: \n",
    "\n",
    "$\\frac{\\delta J(\\Theta)}{\\delta \\Theta^{(1)}} = \\frac{1}{m} A^{(1)}(\\delta^{(2)})^T$ which will be of shape $\\mathbb{R}^{3, 1}$\n",
    "\n",
    "$\\frac{\\delta J(\\Theta)}{\\delta \\Theta^{(0)}} = \\frac{1}{m} A^{(0)}(\\delta^{(1)})^T$ which will be of shape $\\mathbb{R}^{3, 3}$\n",
    "\n",
    "That makes sense, since the derivatives calculate a single number for each **weight** of the Neural network, and the weights are:\n",
    " * 3 weights for the three links between the (2+1) nodes of the hidden layer and the single node of the output layer\n",
    " * 9 weights for the 9 links between the 3 nodes of the input layer and the (2+1) nodes of the hidden layer\n",
    " \n",
    "**But** note that we will **discard the derivatives** of the link between the input layer and **node 0** of the hidden layer (since that is a constant node that has no link to the input layer)"
   ]
  },
  {
   "cell_type": "code",
   "execution_count": 372,
   "id": "c0141069-a5d4-4cdc-8d96-5e1f18671616",
   "metadata": {
    "tags": []
   },
   "outputs": [],
   "source": [
    "def calculate_cost_derivatives(A0, A1, delta1, delta2): \n",
    "    \n",
    "    der1 = np.matmul(A1, np.transpose(delta2)) / m\n",
    "    \n",
    "    der0 = np.matmul(A0, np.transpose(delta1)) / m\n",
    "    \n",
    "    # print(f\"Cost Derivatives calculated.\\nder0 shape is {der0.shape}\\nder1 shape is {der1.shape}\")\n",
    "    \n",
    "    return (der0, der1)"
   ]
  },
  {
   "cell_type": "markdown",
   "id": "3ffaedab-ae71-4b19-b338-594aaa6e387d",
   "metadata": {},
   "source": [
    "Let's test the calculation of $\\frac{\\delta J(\\Theta)}{\\delta \\Theta^{(l)}}$"
   ]
  },
  {
   "cell_type": "code",
   "execution_count": 373,
   "id": "fba98caa-fd83-4277-bbf8-cf8f1b247812",
   "metadata": {
    "tags": []
   },
   "outputs": [
    {
     "name": "stdout",
     "output_type": "stream",
     "text": [
      "First column of der0 dropped.\n",
      "der0 shape is now (3, 2)\n"
     ]
    }
   ],
   "source": [
    "der0, der1 = calculate_cost_derivatives(A0, A1, delta1, delta2)\n",
    "\n",
    "# Drop the first column of der0 since it's not useful\n",
    "der0 = der0[:, 1:]\n",
    "\n",
    "print(f\"First column of der0 dropped.\\nder0 shape is now {der0.shape}\")"
   ]
  },
  {
   "cell_type": "markdown",
   "id": "8712e79e-3500-4a03-b2d0-8fa175aafce7",
   "metadata": {},
   "source": [
    "Now we should implement **Gradient Descent**"
   ]
  },
  {
   "cell_type": "code",
   "execution_count": 374,
   "id": "8169c544-7847-4112-a2eb-c12cfcadfa64",
   "metadata": {
    "tags": []
   },
   "outputs": [],
   "source": [
    "def gradient_descent(alpha, Theta0, Theta1, der0, der1): \n",
    "    \n",
    "    Theta0 = Theta0 - alpha * np.transpose(der0)\n",
    "        \n",
    "    Theta1 = Theta1 - alpha * np.transpose(der1)\n",
    "\n",
    "    return (Theta0, Theta1)"
   ]
  },
  {
   "cell_type": "code",
   "execution_count": 375,
   "id": "83eabbd3-5979-47c0-94c3-676cd270cee7",
   "metadata": {
    "tags": []
   },
   "outputs": [
    {
     "data": {
      "text/plain": [
       "array([[2.84003708, 2.84005167, 2.84018534]])"
      ]
     },
     "execution_count": 375,
     "metadata": {},
     "output_type": "execute_result"
    }
   ],
   "source": [
    "Theta0, Theta1 = gradient_descent(0.3, Theta0, Theta1, der0, der1)\n",
    "Theta1"
   ]
  },
  {
   "cell_type": "markdown",
   "id": "c6b4bde8-562d-4e96-ab31-5520ba4df58a",
   "metadata": {},
   "source": [
    "### Putting it all together\n",
    "\n",
    "The procedure should now be the following: \n",
    "\n",
    "For $n$ iterations: \n",
    " 1. Perform Forward Propagation\n",
    " 2. Perform Backward Propagation, calculating the derivatives\n",
    " 3. Descend the gradient"
   ]
  },
  {
   "cell_type": "code",
   "execution_count": 376,
   "id": "0864b2b7-bf52-4fd6-9694-e27df2ea486f",
   "metadata": {},
   "outputs": [],
   "source": [
    "def J(X, Y, Theta0, Theta1, m):\n",
    "    \n",
    "    int_layer, Y_trained = forward_propagation(X, Theta0, Theta1, m)\n",
    "    \n",
    "    E = 0;\n",
    "    for i in range(0, m):\n",
    "        E += np.matmul(Y[:, i], np.log(Y_trained[:, i])) + (1 - Y[:, i]) * np.log(1.00000001 - Y_trained[:, i])\n",
    "        \n",
    "    return -E / m"
   ]
  },
  {
   "cell_type": "markdown",
   "id": "2d8dd98f-c834-48be-9e1e-7bebe31c9662",
   "metadata": {},
   "source": [
    "A **very important** finding of trying out NN is that the **initialization of $\\Theta$ (weights)** is extremely important!<br>\n",
    "For example, by initializing weights to \n",
    "$$\n",
    "\\Theta^{(0)}=\n",
    "\\begin{bmatrix}\n",
    "3 & 3 & 3 \\\\\n",
    "5 & 5 & 5\n",
    "\\end{bmatrix}\n",
    "\\textrm{ and } \\Theta^{(1)}=\n",
    "\\begin{bmatrix}\n",
    "3 & 3 & 3\n",
    "\\end{bmatrix}\n",
    "$$\n",
    "\n",
    "I will find a local minimum that estimates everything to 0.46, which is completely suboptimal! <br>\n",
    "By instead initializing $\\Theta$ to all zeroes, I was able to find the global minimum.  "
   ]
  },
  {
   "cell_type": "markdown",
   "id": "9481dd7a-d091-4378-9ef2-18ab20b04351",
   "metadata": {},
   "source": [
    "Also note that here I'm using the `one_or_zero_h` function to calculate $A^{(2)}$, which directly puts to 1 probabilities > 0.5. <br>\n",
    "That's why we have `forward_propagation(X, Theta0, Theta1, m, True)` with the `True`. <br>\n",
    "If you want to use *a more traditional approach* just use `False` (or don't put the parameter) and that will give you a probabilistic answer instead of a 1 or 0 answer. "
   ]
  },
  {
   "cell_type": "code",
   "execution_count": 412,
   "id": "93ae9665-755d-4ffa-b854-50d758feac13",
   "metadata": {
    "tags": []
   },
   "outputs": [],
   "source": [
    "Theta0 = np.array([[0,0,0], [0,0,0]])\n",
    "Theta1 = np.array([[0,0,0]])\n",
    "\n",
    "A0 = X\n",
    "\n",
    "iterations = 55\n",
    "alpha = 0.6\n",
    "\n",
    "er = np.zeros((2, iterations))\n",
    "\n",
    "for i in range(0, iterations): \n",
    "    \n",
    "    A1, A2 = forward_propagation(X, Theta0, Theta1, m, True)\n",
    "    \n",
    "    delta1, delta2 = calculate_deltas(A1, A2, Theta1, Y)\n",
    "    \n",
    "    #print(delta2[:,0])\n",
    "    \n",
    "    der0, der1 = calculate_cost_derivatives(A0, A1, delta1, delta2)\n",
    "    der0 = der0[:, 1:]\n",
    "    \n",
    "    #print(der0)\n",
    "\n",
    "    Theta0, Theta1 = gradient_descent(alpha, Theta0, Theta1, der0, der1)\n",
    "\n",
    "    e = np.sum(A2 - Y) / m\n",
    "    er[0, i] = i\n",
    "    er[1, i] = e\n"
   ]
  },
  {
   "cell_type": "code",
   "execution_count": 413,
   "id": "b76f1791-6c86-424d-8d9d-27c098e76d17",
   "metadata": {
    "tags": []
   },
   "outputs": [
    {
     "data": {
      "text/plain": [
       "<AxesSubplot:>"
      ]
     },
     "execution_count": 413,
     "metadata": {},
     "output_type": "execute_result"
    },
    {
     "data": {
      "image/png": "[encoded data removed]",
      "text/plain": [
       "<Figure size 640x480 with 1 Axes>"
      ]
     },
     "metadata": {},
     "output_type": "display_data"
    }
   ],
   "source": [
    "sns.lineplot(x = er[0], y = er[1])"
   ]
  },
  {
   "cell_type": "code",
   "execution_count": 408,
   "id": "3249aa51-33cf-44dd-978d-824bd9c7eef5",
   "metadata": {},
   "outputs": [],
   "source": [
    "# If you want to check the result on each training example: \n",
    "# pd.DataFrame(data = np.column_stack((Y[0,:], A2[0,:])), columns=[\"Y\", \"A2\"])"
   ]
  },
  {
   "cell_type": "markdown",
   "id": "a4796ad6-7434-404b-866f-95634dd271bb",
   "metadata": {},
   "source": [
    "### Trying the network on new data"
   ]
  },
  {
   "cell_type": "markdown",
   "id": "805a5130-975d-4b97-b39f-bdbeede683b1",
   "metadata": {},
   "source": [
    "If we try this network on an example where $(x_1, x_2) = (4, 1)$ we will get a correct estimation that the category is \"0\" (belongs to the lower cluster)."
   ]
  },
  {
   "cell_type": "code",
   "execution_count": 410,
   "id": "ba2dd574-5f10-4035-9960-46ca2c41928c",
   "metadata": {
    "tags": []
   },
   "outputs": [
    {
     "name": "stdout",
     "output_type": "stream",
     "text": [
      "[[0]]\n"
     ]
    }
   ],
   "source": [
    "unseen_X = np.transpose(np.array([[1, 4, 1]]))\n",
    "int_layer, predicted_Y = forward_propagation(unseen_X, Theta0, Theta1, 1, True)\n",
    "print(predicted_Y)"
   ]
  },
  {
   "cell_type": "code",
   "execution_count": 415,
   "id": "877ad1ce-be80-457a-921f-9aabe60fb921",
   "metadata": {
    "tags": []
   },
   "outputs": [
    {
     "name": "stdout",
     "output_type": "stream",
     "text": [
      "[[0]]\n"
     ]
    }
   ],
   "source": [
    "unseen_X = np.transpose(np.array([[1, 2, 7]]))\n",
    "int_layer, predicted_Y = forward_propagation(unseen_X, Theta0, Theta1, 1, True)\n",
    "print(predicted_Y)"
   ]
  },
  {
   "cell_type": "markdown",
   "id": "8db4c179-1677-4546-88f6-532fdaca7fbd",
   "metadata": {},
   "source": [
    "If we try this network on an example where $(x_1, x_2) = (4, 5)$ we will get a correct estimation that the category is \"1\" (belongs to the upper cluster)."
   ]
  },
  {
   "cell_type": "code",
   "execution_count": 411,
   "id": "f7ba1b5d-d0cd-4c18-bb89-439e52f39b8b",
   "metadata": {
    "tags": []
   },
   "outputs": [
    {
     "name": "stdout",
     "output_type": "stream",
     "text": [
      "[[1]]\n"
     ]
    }
   ],
   "source": [
    "unseen_X = np.transpose(np.array([[1, 4, 5]]))\n",
    "int_layer, predicted_Y = forward_propagation(unseen_X, Theta0, Theta1, 1, True)\n",
    "print(predicted_Y)"
   ]
  }
 ],
 "metadata": {
  "kernelspec": {
   "display_name": "conda_tensorflow2_p310",
   "language": "python",
   "name": "conda_tensorflow2_p310"
  },
  "language_info": {
   "codemirror_mode": {
    "name": "ipython",
    "version": 3
   },
   "file_extension": ".py",
   "mimetype": "text/x-python",
   "name": "python",
   "nbconvert_exporter": "python",
   "pygments_lexer": "ipython3",
   "version": "3.10.12"
  }
 },
 "nbformat": 4,
 "nbformat_minor": 5
}
